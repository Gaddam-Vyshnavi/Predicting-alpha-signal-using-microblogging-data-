{
 "cells": [
  {
   "cell_type": "markdown",
   "metadata": {},
   "source": [
    "#        PREDICTING THE ALPHA SIGNAL USING MICROBLOGGING DATA\n",
    "\n"
   ]
  },
  {
   "cell_type": "markdown",
   "metadata": {},
   "source": [
    "## PROBLEM STATEMENT :"
   ]
  },
  {
   "cell_type": "markdown",
   "metadata": {},
   "source": [
    "###      A hedge fund company uses stock factors to predict the alpha signal (i.e, level of performance) in a stock. This alpha signal is used to make purchase decisions about the stock.                                                           The hedge fund company  now collects and tags microblogging data for sentiment from ‘StockTwits'(platform where people trade stocks regularly).                                                                                                                               Now we need to build a sentimental analysis using tagged data and then it is  used to predict new stock factor using the sentiment from stockstwits site and use the predicted new stock factor and combine with the rest of stock factors and predict the alpha signal.\n"
   ]
  },
  {
   "cell_type": "code",
   "execution_count": null,
   "metadata": {},
   "outputs": [],
   "source": []
  },
  {
   "cell_type": "markdown",
   "metadata": {},
   "source": [
    "#                                                         JSON FILE PREPROCESSING"
   ]
  },
  {
   "cell_type": "markdown",
   "metadata": {},
   "source": [
    "####  PREPROCESSING STEPS FOR BOTH TRAIN AND TEST DATA :"
   ]
  },
  {
   "cell_type": "code",
   "execution_count": 187,
   "metadata": {},
   "outputs": [],
   "source": [
    "#importing all necessary libraries\n",
    "import json\n",
    "import pandas as pd \n",
    "from pandas.io.json import json_normalize  \n",
    "import nltk \n",
    "import string \n",
    "import re\n",
    "import seaborn as sns\n",
    "import matplotlib.pyplot as plt"
   ]
  },
  {
   "cell_type": "code",
   "execution_count": 188,
   "metadata": {},
   "outputs": [],
   "source": [
    "# reading the json train data \n",
    "json_data = pd.read_json('D:\\\\PHD FINAL\\\\train_data-1573118738755.json')  "
   ]
  },
  {
   "cell_type": "code",
   "execution_count": 189,
   "metadata": {},
   "outputs": [
    {
     "data": {
      "text/html": [
       "<div>\n",
       "<style scoped>\n",
       "    .dataframe tbody tr th:only-of-type {\n",
       "        vertical-align: middle;\n",
       "    }\n",
       "\n",
       "    .dataframe tbody tr th {\n",
       "        vertical-align: top;\n",
       "    }\n",
       "\n",
       "    .dataframe thead th {\n",
       "        text-align: right;\n",
       "    }\n",
       "</style>\n",
       "<table border=\"1\" class=\"dataframe\">\n",
       "  <thead>\n",
       "    <tr style=\"text-align: right;\">\n",
       "      <th></th>\n",
       "      <th>sentiment_score</th>\n",
       "      <th>stocktwit_tweet</th>\n",
       "      <th>ticker</th>\n",
       "      <th>timestamp</th>\n",
       "    </tr>\n",
       "  </thead>\n",
       "  <tbody>\n",
       "    <tr>\n",
       "      <th>0</th>\n",
       "      <td>3</td>\n",
       "      <td>$AMD going up but hesitating however chart is ...</td>\n",
       "      <td>$AMD</td>\n",
       "      <td>2018-09-19 18:38:28+00:00</td>\n",
       "    </tr>\n",
       "    <tr>\n",
       "      <th>1</th>\n",
       "      <td>3</td>\n",
       "      <td>@inforlong @MariaGascon Despite\\nChina trade w...</td>\n",
       "      <td>$CAT</td>\n",
       "      <td>2018-10-09 03:51:06+00:00</td>\n",
       "    </tr>\n",
       "    <tr>\n",
       "      <th>2</th>\n",
       "      <td>2</td>\n",
       "      <td>$AVGO WTF?</td>\n",
       "      <td>$AVGO</td>\n",
       "      <td>2018-07-12 13:35:32+00:00</td>\n",
       "    </tr>\n",
       "    <tr>\n",
       "      <th>3</th>\n",
       "      <td>2</td>\n",
       "      <td>$PH\\n New Insider Filing On: \\n MULLER KLAUS P...</td>\n",
       "      <td>$PH</td>\n",
       "      <td>2018-07-19 03:32:50+00:00</td>\n",
       "    </tr>\n",
       "    <tr>\n",
       "      <th>4</th>\n",
       "      <td>3</td>\n",
       "      <td>$FB if it bounces tommorrow do the right thing...</td>\n",
       "      <td>$FB</td>\n",
       "      <td>2018-08-23 19:07:54+00:00</td>\n",
       "    </tr>\n",
       "  </tbody>\n",
       "</table>\n",
       "</div>"
      ],
      "text/plain": [
       "   sentiment_score                                    stocktwit_tweet ticker  \\\n",
       "0                3  $AMD going up but hesitating however chart is ...   $AMD   \n",
       "1                3  @inforlong @MariaGascon Despite\\nChina trade w...   $CAT   \n",
       "2                2                                         $AVGO WTF?  $AVGO   \n",
       "3                2  $PH\\n New Insider Filing On: \\n MULLER KLAUS P...    $PH   \n",
       "4                3  $FB if it bounces tommorrow do the right thing...    $FB   \n",
       "\n",
       "                   timestamp  \n",
       "0  2018-09-19 18:38:28+00:00  \n",
       "1  2018-10-09 03:51:06+00:00  \n",
       "2  2018-07-12 13:35:32+00:00  \n",
       "3  2018-07-19 03:32:50+00:00  \n",
       "4  2018-08-23 19:07:54+00:00  "
      ]
     },
     "execution_count": 189,
     "metadata": {},
     "output_type": "execute_result"
    }
   ],
   "source": [
    "# reading the json train data as dataframe\n",
    "json_data = json_normalize(json_data['records']) \n",
    "json_data.head() "
   ]
  },
  {
   "cell_type": "code",
   "execution_count": 190,
   "metadata": {},
   "outputs": [
    {
     "data": {
      "text/html": [
       "<div>\n",
       "<style scoped>\n",
       "    .dataframe tbody tr th:only-of-type {\n",
       "        vertical-align: middle;\n",
       "    }\n",
       "\n",
       "    .dataframe tbody tr th {\n",
       "        vertical-align: top;\n",
       "    }\n",
       "\n",
       "    .dataframe thead th {\n",
       "        text-align: right;\n",
       "    }\n",
       "</style>\n",
       "<table border=\"1\" class=\"dataframe\">\n",
       "  <thead>\n",
       "    <tr style=\"text-align: right;\">\n",
       "      <th></th>\n",
       "      <th>sentiment_score</th>\n",
       "      <th>stocktwit_tweet</th>\n",
       "      <th>ticker</th>\n",
       "      <th>timestamp</th>\n",
       "    </tr>\n",
       "  </thead>\n",
       "  <tbody>\n",
       "    <tr>\n",
       "      <th>1039126</th>\n",
       "      <td>2</td>\n",
       "      <td>$CLF https://twitter.com/hrdrckminer/status/10...</td>\n",
       "      <td>$CLF</td>\n",
       "      <td>2018-08-13 22:15:04+00:00</td>\n",
       "    </tr>\n",
       "    <tr>\n",
       "      <th>1039127</th>\n",
       "      <td>3</td>\n",
       "      <td>$AMD 🔥🔥🔥</td>\n",
       "      <td>$AMD</td>\n",
       "      <td>2018-09-04 15:25:59+00:00</td>\n",
       "    </tr>\n",
       "    <tr>\n",
       "      <th>1039128</th>\n",
       "      <td>0</td>\n",
       "      <td>$FB damn should of shorted 196 after hours to ...</td>\n",
       "      <td>$FB</td>\n",
       "      <td>2018-07-25 21:29:03+00:00</td>\n",
       "    </tr>\n",
       "    <tr>\n",
       "      <th>1039129</th>\n",
       "      <td>0</td>\n",
       "      <td>$AMD back to the 31&amp;#39;s</td>\n",
       "      <td>$AMD</td>\n",
       "      <td>2018-09-28 16:19:55+00:00</td>\n",
       "    </tr>\n",
       "    <tr>\n",
       "      <th>1039130</th>\n",
       "      <td>2</td>\n",
       "      <td>$AMZN Lagging other tech today.</td>\n",
       "      <td>$AMZN</td>\n",
       "      <td>2018-07-05 17:14:00+00:00</td>\n",
       "    </tr>\n",
       "  </tbody>\n",
       "</table>\n",
       "</div>"
      ],
      "text/plain": [
       "         sentiment_score                                    stocktwit_tweet  \\\n",
       "1039126                2  $CLF https://twitter.com/hrdrckminer/status/10...   \n",
       "1039127                3                                           $AMD 🔥🔥🔥   \n",
       "1039128                0  $FB damn should of shorted 196 after hours to ...   \n",
       "1039129                0                          $AMD back to the 31&#39;s   \n",
       "1039130                2                    $AMZN Lagging other tech today.   \n",
       "\n",
       "        ticker                  timestamp  \n",
       "1039126   $CLF  2018-08-13 22:15:04+00:00  \n",
       "1039127   $AMD  2018-09-04 15:25:59+00:00  \n",
       "1039128    $FB  2018-07-25 21:29:03+00:00  \n",
       "1039129   $AMD  2018-09-28 16:19:55+00:00  \n",
       "1039130  $AMZN  2018-07-05 17:14:00+00:00  "
      ]
     },
     "execution_count": 190,
     "metadata": {},
     "output_type": "execute_result"
    }
   ],
   "source": [
    "# checking the json train data at the bottom also whether it is converted to a dataframe\n",
    "json_data.tail()"
   ]
  },
  {
   "cell_type": "code",
   "execution_count": 191,
   "metadata": {},
   "outputs": [],
   "source": [
    "# reading the json test data \n",
    "j_data = pd.read_json('D:\\\\PHD FINAL\\\\TestData\\\\test_data.json')  "
   ]
  },
  {
   "cell_type": "code",
   "execution_count": 192,
   "metadata": {},
   "outputs": [
    {
     "data": {
      "text/html": [
       "<div>\n",
       "<style scoped>\n",
       "    .dataframe tbody tr th:only-of-type {\n",
       "        vertical-align: middle;\n",
       "    }\n",
       "\n",
       "    .dataframe tbody tr th {\n",
       "        vertical-align: top;\n",
       "    }\n",
       "\n",
       "    .dataframe thead th {\n",
       "        text-align: right;\n",
       "    }\n",
       "</style>\n",
       "<table border=\"1\" class=\"dataframe\">\n",
       "  <thead>\n",
       "    <tr style=\"text-align: right;\">\n",
       "      <th></th>\n",
       "      <th>stocktwit_tweet</th>\n",
       "      <th>ticker</th>\n",
       "      <th>timestamp</th>\n",
       "    </tr>\n",
       "  </thead>\n",
       "  <tbody>\n",
       "    <tr>\n",
       "      <th>0</th>\n",
       "      <td>$CELG nothing to be exited about</td>\n",
       "      <td>$CELG</td>\n",
       "      <td>2018-10-25 14:26:16+00:00</td>\n",
       "    </tr>\n",
       "    <tr>\n",
       "      <th>1</th>\n",
       "      <td>$AMD yall exhaust your buyer on first green ca...</td>\n",
       "      <td>$AMD</td>\n",
       "      <td>2018-07-13 13:50:39+00:00</td>\n",
       "    </tr>\n",
       "    <tr>\n",
       "      <th>2</th>\n",
       "      <td>$AMD day traders day.</td>\n",
       "      <td>$AMD</td>\n",
       "      <td>2018-09-25 19:10:54+00:00</td>\n",
       "    </tr>\n",
       "    <tr>\n",
       "      <th>3</th>\n",
       "      <td>$CBS https://tenor.com/wLB8.gif</td>\n",
       "      <td>$CBS</td>\n",
       "      <td>2018-07-27 22:45:48+00:00</td>\n",
       "    </tr>\n",
       "    <tr>\n",
       "      <th>4</th>\n",
       "      <td>$MU weak price action so far today. Don’t be a...</td>\n",
       "      <td>$MU</td>\n",
       "      <td>2018-07-31 14:59:06+00:00</td>\n",
       "    </tr>\n",
       "  </tbody>\n",
       "</table>\n",
       "</div>"
      ],
      "text/plain": [
       "                                     stocktwit_tweet ticker  \\\n",
       "0                   $CELG nothing to be exited about  $CELG   \n",
       "1  $AMD yall exhaust your buyer on first green ca...   $AMD   \n",
       "2                              $AMD day traders day.   $AMD   \n",
       "3                    $CBS https://tenor.com/wLB8.gif   $CBS   \n",
       "4  $MU weak price action so far today. Don’t be a...    $MU   \n",
       "\n",
       "                   timestamp  \n",
       "0  2018-10-25 14:26:16+00:00  \n",
       "1  2018-07-13 13:50:39+00:00  \n",
       "2  2018-09-25 19:10:54+00:00  \n",
       "3  2018-07-27 22:45:48+00:00  \n",
       "4  2018-07-31 14:59:06+00:00  "
      ]
     },
     "execution_count": 192,
     "metadata": {},
     "output_type": "execute_result"
    }
   ],
   "source": [
    "# reading the json test data as dataframe\n",
    "j_data = json_normalize(j_data['records']) \n",
    "j_data.head() "
   ]
  },
  {
   "cell_type": "code",
   "execution_count": 193,
   "metadata": {},
   "outputs": [
    {
     "data": {
      "text/html": [
       "<div>\n",
       "<style scoped>\n",
       "    .dataframe tbody tr th:only-of-type {\n",
       "        vertical-align: middle;\n",
       "    }\n",
       "\n",
       "    .dataframe tbody tr th {\n",
       "        vertical-align: top;\n",
       "    }\n",
       "\n",
       "    .dataframe thead th {\n",
       "        text-align: right;\n",
       "    }\n",
       "</style>\n",
       "<table border=\"1\" class=\"dataframe\">\n",
       "  <thead>\n",
       "    <tr style=\"text-align: right;\">\n",
       "      <th></th>\n",
       "      <th>stocktwit_tweet</th>\n",
       "      <th>ticker</th>\n",
       "      <th>timestamp</th>\n",
       "    </tr>\n",
       "  </thead>\n",
       "  <tbody>\n",
       "    <tr>\n",
       "      <th>265017</th>\n",
       "      <td>$CVS recent bad PR made this an easy pick to l...</td>\n",
       "      <td>$CVS</td>\n",
       "      <td>2018-07-20 15:54:50+00:00</td>\n",
       "    </tr>\n",
       "    <tr>\n",
       "      <th>265018</th>\n",
       "      <td>Here’s what 16 Estimize analysts believe $S wi...</td>\n",
       "      <td>$S</td>\n",
       "      <td>2018-10-24 22:56:18+00:00</td>\n",
       "    </tr>\n",
       "    <tr>\n",
       "      <th>265019</th>\n",
       "      <td>$AMD Could be at 18 or high 17s.  If not, will...</td>\n",
       "      <td>$AMD</td>\n",
       "      <td>2018-07-25 21:48:25+00:00</td>\n",
       "    </tr>\n",
       "    <tr>\n",
       "      <th>265020</th>\n",
       "      <td>$TSN files form 10-Q https://fintel.io/filings...</td>\n",
       "      <td>$TSN</td>\n",
       "      <td>2018-08-06 11:43:24+00:00</td>\n",
       "    </tr>\n",
       "    <tr>\n",
       "      <th>265021</th>\n",
       "      <td>$AAPL looks like it is solidly supporting its ...</td>\n",
       "      <td>$AAPL</td>\n",
       "      <td>2018-09-27 18:28:58+00:00</td>\n",
       "    </tr>\n",
       "  </tbody>\n",
       "</table>\n",
       "</div>"
      ],
      "text/plain": [
       "                                          stocktwit_tweet ticker  \\\n",
       "265017  $CVS recent bad PR made this an easy pick to l...   $CVS   \n",
       "265018  Here’s what 16 Estimize analysts believe $S wi...     $S   \n",
       "265019  $AMD Could be at 18 or high 17s.  If not, will...   $AMD   \n",
       "265020  $TSN files form 10-Q https://fintel.io/filings...   $TSN   \n",
       "265021  $AAPL looks like it is solidly supporting its ...  $AAPL   \n",
       "\n",
       "                        timestamp  \n",
       "265017  2018-07-20 15:54:50+00:00  \n",
       "265018  2018-10-24 22:56:18+00:00  \n",
       "265019  2018-07-25 21:48:25+00:00  \n",
       "265020  2018-08-06 11:43:24+00:00  \n",
       "265021  2018-09-27 18:28:58+00:00  "
      ]
     },
     "execution_count": 193,
     "metadata": {},
     "output_type": "execute_result"
    }
   ],
   "source": [
    "# checking the json test data at the bottom also whether it is converted to a dataframe\n",
    "j_data.tail()"
   ]
  },
  {
   "cell_type": "code",
   "execution_count": 194,
   "metadata": {},
   "outputs": [
    {
     "data": {
      "text/plain": [
       "sentiment_score     int64\n",
       "stocktwit_tweet    object\n",
       "ticker             object\n",
       "timestamp          object\n",
       "dtype: object"
      ]
     },
     "execution_count": 194,
     "metadata": {},
     "output_type": "execute_result"
    }
   ],
   "source": [
    "# checking the datatypes of the train data given\n",
    "json_data.dtypes"
   ]
  },
  {
   "cell_type": "code",
   "execution_count": 195,
   "metadata": {},
   "outputs": [
    {
     "data": {
      "text/plain": [
       "stocktwit_tweet    object\n",
       "ticker             object\n",
       "timestamp          object\n",
       "dtype: object"
      ]
     },
     "execution_count": 195,
     "metadata": {},
     "output_type": "execute_result"
    }
   ],
   "source": [
    "# checking the datatypes of the test data given\n",
    "j_data.dtypes"
   ]
  },
  {
   "cell_type": "code",
   "execution_count": 196,
   "metadata": {},
   "outputs": [],
   "source": [
    "# change the datatype of timestamp to datetime for the train data\n",
    "import datetime as datetime\n",
    "json_data['timestamp']=pd.to_datetime(json_data['timestamp'])"
   ]
  },
  {
   "cell_type": "code",
   "execution_count": 197,
   "metadata": {},
   "outputs": [],
   "source": [
    "# spliting the timestamp coloumn to date and time coloumn for train data\n",
    "json_data['date']=json_data['timestamp'].apply(lambda x:x.date)\n",
    "json_data['time']=json_data['timestamp'].apply(lambda x:x.time)"
   ]
  },
  {
   "cell_type": "code",
   "execution_count": 198,
   "metadata": {},
   "outputs": [
    {
     "data": {
      "text/plain": [
       "sentiment_score                  int64\n",
       "stocktwit_tweet                 object\n",
       "ticker                          object\n",
       "timestamp          datetime64[ns, UTC]\n",
       "date                            object\n",
       "time                            object\n",
       "dtype: object"
      ]
     },
     "execution_count": 198,
     "metadata": {},
     "output_type": "execute_result"
    }
   ],
   "source": [
    "json_data.dtypes"
   ]
  },
  {
   "cell_type": "code",
   "execution_count": 199,
   "metadata": {},
   "outputs": [
    {
     "data": {
      "text/html": [
       "<div>\n",
       "<style scoped>\n",
       "    .dataframe tbody tr th:only-of-type {\n",
       "        vertical-align: middle;\n",
       "    }\n",
       "\n",
       "    .dataframe tbody tr th {\n",
       "        vertical-align: top;\n",
       "    }\n",
       "\n",
       "    .dataframe thead th {\n",
       "        text-align: right;\n",
       "    }\n",
       "</style>\n",
       "<table border=\"1\" class=\"dataframe\">\n",
       "  <thead>\n",
       "    <tr style=\"text-align: right;\">\n",
       "      <th></th>\n",
       "      <th>sentiment_score</th>\n",
       "      <th>stocktwit_tweet</th>\n",
       "      <th>ticker</th>\n",
       "      <th>timestamp</th>\n",
       "      <th>date</th>\n",
       "      <th>time</th>\n",
       "    </tr>\n",
       "  </thead>\n",
       "  <tbody>\n",
       "    <tr>\n",
       "      <th>0</th>\n",
       "      <td>3</td>\n",
       "      <td>$AMD going up but hesitating however chart is ...</td>\n",
       "      <td>$AMD</td>\n",
       "      <td>2018-09-19 18:38:28+00:00</td>\n",
       "      <td>2018-09-19</td>\n",
       "      <td>18:38:28</td>\n",
       "    </tr>\n",
       "    <tr>\n",
       "      <th>1</th>\n",
       "      <td>3</td>\n",
       "      <td>@inforlong @MariaGascon Despite\\nChina trade w...</td>\n",
       "      <td>$CAT</td>\n",
       "      <td>2018-10-09 03:51:06+00:00</td>\n",
       "      <td>2018-10-09</td>\n",
       "      <td>03:51:06</td>\n",
       "    </tr>\n",
       "    <tr>\n",
       "      <th>2</th>\n",
       "      <td>2</td>\n",
       "      <td>$AVGO WTF?</td>\n",
       "      <td>$AVGO</td>\n",
       "      <td>2018-07-12 13:35:32+00:00</td>\n",
       "      <td>2018-07-12</td>\n",
       "      <td>13:35:32</td>\n",
       "    </tr>\n",
       "    <tr>\n",
       "      <th>3</th>\n",
       "      <td>2</td>\n",
       "      <td>$PH\\n New Insider Filing On: \\n MULLER KLAUS P...</td>\n",
       "      <td>$PH</td>\n",
       "      <td>2018-07-19 03:32:50+00:00</td>\n",
       "      <td>2018-07-19</td>\n",
       "      <td>03:32:50</td>\n",
       "    </tr>\n",
       "    <tr>\n",
       "      <th>4</th>\n",
       "      <td>3</td>\n",
       "      <td>$FB if it bounces tommorrow do the right thing...</td>\n",
       "      <td>$FB</td>\n",
       "      <td>2018-08-23 19:07:54+00:00</td>\n",
       "      <td>2018-08-23</td>\n",
       "      <td>19:07:54</td>\n",
       "    </tr>\n",
       "  </tbody>\n",
       "</table>\n",
       "</div>"
      ],
      "text/plain": [
       "   sentiment_score                                    stocktwit_tweet ticker  \\\n",
       "0                3  $AMD going up but hesitating however chart is ...   $AMD   \n",
       "1                3  @inforlong @MariaGascon Despite\\nChina trade w...   $CAT   \n",
       "2                2                                         $AVGO WTF?  $AVGO   \n",
       "3                2  $PH\\n New Insider Filing On: \\n MULLER KLAUS P...    $PH   \n",
       "4                3  $FB if it bounces tommorrow do the right thing...    $FB   \n",
       "\n",
       "                  timestamp        date      time  \n",
       "0 2018-09-19 18:38:28+00:00  2018-09-19  18:38:28  \n",
       "1 2018-10-09 03:51:06+00:00  2018-10-09  03:51:06  \n",
       "2 2018-07-12 13:35:32+00:00  2018-07-12  13:35:32  \n",
       "3 2018-07-19 03:32:50+00:00  2018-07-19  03:32:50  \n",
       "4 2018-08-23 19:07:54+00:00  2018-08-23  19:07:54  "
      ]
     },
     "execution_count": 199,
     "metadata": {},
     "output_type": "execute_result"
    }
   ],
   "source": [
    "json_data.head()"
   ]
  },
  {
   "cell_type": "code",
   "execution_count": 200,
   "metadata": {},
   "outputs": [],
   "source": [
    "# change the datatype of timestamp to datetime for test data\n",
    "import datetime as datetime\n",
    "j_data['timestamp']=pd.to_datetime(j_data['timestamp'])"
   ]
  },
  {
   "cell_type": "code",
   "execution_count": 201,
   "metadata": {},
   "outputs": [],
   "source": [
    "# spliting the timestamp coloumn to date and time coloumn for test data\n",
    "j_data['date']=j_data['timestamp'].apply(lambda x:x.date) \n",
    "j_data['time']=j_data['timestamp'].apply(lambda x:x.time)"
   ]
  },
  {
   "cell_type": "code",
   "execution_count": 202,
   "metadata": {},
   "outputs": [
    {
     "data": {
      "text/plain": [
       "stocktwit_tweet                 object\n",
       "ticker                          object\n",
       "timestamp          datetime64[ns, UTC]\n",
       "date                            object\n",
       "time                            object\n",
       "dtype: object"
      ]
     },
     "execution_count": 202,
     "metadata": {},
     "output_type": "execute_result"
    }
   ],
   "source": [
    "j_data.dtypes"
   ]
  },
  {
   "cell_type": "code",
   "execution_count": 203,
   "metadata": {},
   "outputs": [
    {
     "data": {
      "text/html": [
       "<div>\n",
       "<style scoped>\n",
       "    .dataframe tbody tr th:only-of-type {\n",
       "        vertical-align: middle;\n",
       "    }\n",
       "\n",
       "    .dataframe tbody tr th {\n",
       "        vertical-align: top;\n",
       "    }\n",
       "\n",
       "    .dataframe thead th {\n",
       "        text-align: right;\n",
       "    }\n",
       "</style>\n",
       "<table border=\"1\" class=\"dataframe\">\n",
       "  <thead>\n",
       "    <tr style=\"text-align: right;\">\n",
       "      <th></th>\n",
       "      <th>stocktwit_tweet</th>\n",
       "      <th>ticker</th>\n",
       "      <th>timestamp</th>\n",
       "      <th>date</th>\n",
       "      <th>time</th>\n",
       "    </tr>\n",
       "  </thead>\n",
       "  <tbody>\n",
       "    <tr>\n",
       "      <th>0</th>\n",
       "      <td>$CELG nothing to be exited about</td>\n",
       "      <td>$CELG</td>\n",
       "      <td>2018-10-25 14:26:16+00:00</td>\n",
       "      <td>2018-10-25</td>\n",
       "      <td>14:26:16</td>\n",
       "    </tr>\n",
       "    <tr>\n",
       "      <th>1</th>\n",
       "      <td>$AMD yall exhaust your buyer on first green ca...</td>\n",
       "      <td>$AMD</td>\n",
       "      <td>2018-07-13 13:50:39+00:00</td>\n",
       "      <td>2018-07-13</td>\n",
       "      <td>13:50:39</td>\n",
       "    </tr>\n",
       "    <tr>\n",
       "      <th>2</th>\n",
       "      <td>$AMD day traders day.</td>\n",
       "      <td>$AMD</td>\n",
       "      <td>2018-09-25 19:10:54+00:00</td>\n",
       "      <td>2018-09-25</td>\n",
       "      <td>19:10:54</td>\n",
       "    </tr>\n",
       "    <tr>\n",
       "      <th>3</th>\n",
       "      <td>$CBS https://tenor.com/wLB8.gif</td>\n",
       "      <td>$CBS</td>\n",
       "      <td>2018-07-27 22:45:48+00:00</td>\n",
       "      <td>2018-07-27</td>\n",
       "      <td>22:45:48</td>\n",
       "    </tr>\n",
       "    <tr>\n",
       "      <th>4</th>\n",
       "      <td>$MU weak price action so far today. Don’t be a...</td>\n",
       "      <td>$MU</td>\n",
       "      <td>2018-07-31 14:59:06+00:00</td>\n",
       "      <td>2018-07-31</td>\n",
       "      <td>14:59:06</td>\n",
       "    </tr>\n",
       "  </tbody>\n",
       "</table>\n",
       "</div>"
      ],
      "text/plain": [
       "                                     stocktwit_tweet ticker  \\\n",
       "0                   $CELG nothing to be exited about  $CELG   \n",
       "1  $AMD yall exhaust your buyer on first green ca...   $AMD   \n",
       "2                              $AMD day traders day.   $AMD   \n",
       "3                    $CBS https://tenor.com/wLB8.gif   $CBS   \n",
       "4  $MU weak price action so far today. Don’t be a...    $MU   \n",
       "\n",
       "                  timestamp        date      time  \n",
       "0 2018-10-25 14:26:16+00:00  2018-10-25  14:26:16  \n",
       "1 2018-07-13 13:50:39+00:00  2018-07-13  13:50:39  \n",
       "2 2018-09-25 19:10:54+00:00  2018-09-25  19:10:54  \n",
       "3 2018-07-27 22:45:48+00:00  2018-07-27  22:45:48  \n",
       "4 2018-07-31 14:59:06+00:00  2018-07-31  14:59:06  "
      ]
     },
     "execution_count": 203,
     "metadata": {},
     "output_type": "execute_result"
    }
   ],
   "source": [
    "j_data.head()"
   ]
  },
  {
   "cell_type": "code",
   "execution_count": 204,
   "metadata": {},
   "outputs": [],
   "source": [
    "# dropping the timestamp column for the train data\n",
    "cols_drop = ['timestamp']\n",
    "json_data.drop(cols_drop,axis=1,inplace=True)"
   ]
  },
  {
   "cell_type": "code",
   "execution_count": 205,
   "metadata": {},
   "outputs": [
    {
     "data": {
      "text/html": [
       "<div>\n",
       "<style scoped>\n",
       "    .dataframe tbody tr th:only-of-type {\n",
       "        vertical-align: middle;\n",
       "    }\n",
       "\n",
       "    .dataframe tbody tr th {\n",
       "        vertical-align: top;\n",
       "    }\n",
       "\n",
       "    .dataframe thead th {\n",
       "        text-align: right;\n",
       "    }\n",
       "</style>\n",
       "<table border=\"1\" class=\"dataframe\">\n",
       "  <thead>\n",
       "    <tr style=\"text-align: right;\">\n",
       "      <th></th>\n",
       "      <th>sentiment_score</th>\n",
       "      <th>stocktwit_tweet</th>\n",
       "      <th>ticker</th>\n",
       "      <th>date</th>\n",
       "      <th>time</th>\n",
       "    </tr>\n",
       "  </thead>\n",
       "  <tbody>\n",
       "    <tr>\n",
       "      <th>0</th>\n",
       "      <td>3</td>\n",
       "      <td>$AMD going up but hesitating however chart is ...</td>\n",
       "      <td>$AMD</td>\n",
       "      <td>2018-09-19</td>\n",
       "      <td>18:38:28</td>\n",
       "    </tr>\n",
       "    <tr>\n",
       "      <th>1</th>\n",
       "      <td>3</td>\n",
       "      <td>@inforlong @MariaGascon Despite\\nChina trade w...</td>\n",
       "      <td>$CAT</td>\n",
       "      <td>2018-10-09</td>\n",
       "      <td>03:51:06</td>\n",
       "    </tr>\n",
       "    <tr>\n",
       "      <th>2</th>\n",
       "      <td>2</td>\n",
       "      <td>$AVGO WTF?</td>\n",
       "      <td>$AVGO</td>\n",
       "      <td>2018-07-12</td>\n",
       "      <td>13:35:32</td>\n",
       "    </tr>\n",
       "    <tr>\n",
       "      <th>3</th>\n",
       "      <td>2</td>\n",
       "      <td>$PH\\n New Insider Filing On: \\n MULLER KLAUS P...</td>\n",
       "      <td>$PH</td>\n",
       "      <td>2018-07-19</td>\n",
       "      <td>03:32:50</td>\n",
       "    </tr>\n",
       "    <tr>\n",
       "      <th>4</th>\n",
       "      <td>3</td>\n",
       "      <td>$FB if it bounces tommorrow do the right thing...</td>\n",
       "      <td>$FB</td>\n",
       "      <td>2018-08-23</td>\n",
       "      <td>19:07:54</td>\n",
       "    </tr>\n",
       "  </tbody>\n",
       "</table>\n",
       "</div>"
      ],
      "text/plain": [
       "   sentiment_score                                    stocktwit_tweet ticker  \\\n",
       "0                3  $AMD going up but hesitating however chart is ...   $AMD   \n",
       "1                3  @inforlong @MariaGascon Despite\\nChina trade w...   $CAT   \n",
       "2                2                                         $AVGO WTF?  $AVGO   \n",
       "3                2  $PH\\n New Insider Filing On: \\n MULLER KLAUS P...    $PH   \n",
       "4                3  $FB if it bounces tommorrow do the right thing...    $FB   \n",
       "\n",
       "         date      time  \n",
       "0  2018-09-19  18:38:28  \n",
       "1  2018-10-09  03:51:06  \n",
       "2  2018-07-12  13:35:32  \n",
       "3  2018-07-19  03:32:50  \n",
       "4  2018-08-23  19:07:54  "
      ]
     },
     "execution_count": 205,
     "metadata": {},
     "output_type": "execute_result"
    }
   ],
   "source": [
    "#checkng wether it is dropped or not\n",
    "json_data.head()"
   ]
  },
  {
   "cell_type": "code",
   "execution_count": 206,
   "metadata": {},
   "outputs": [],
   "source": [
    "# dropping the timestamp column for test data \n",
    "cols_drop = ['timestamp']\n",
    "j_data.drop(cols_drop,axis=1,inplace=True)"
   ]
  },
  {
   "cell_type": "code",
   "execution_count": 207,
   "metadata": {},
   "outputs": [
    {
     "data": {
      "text/html": [
       "<div>\n",
       "<style scoped>\n",
       "    .dataframe tbody tr th:only-of-type {\n",
       "        vertical-align: middle;\n",
       "    }\n",
       "\n",
       "    .dataframe tbody tr th {\n",
       "        vertical-align: top;\n",
       "    }\n",
       "\n",
       "    .dataframe thead th {\n",
       "        text-align: right;\n",
       "    }\n",
       "</style>\n",
       "<table border=\"1\" class=\"dataframe\">\n",
       "  <thead>\n",
       "    <tr style=\"text-align: right;\">\n",
       "      <th></th>\n",
       "      <th>stocktwit_tweet</th>\n",
       "      <th>ticker</th>\n",
       "      <th>date</th>\n",
       "      <th>time</th>\n",
       "    </tr>\n",
       "  </thead>\n",
       "  <tbody>\n",
       "    <tr>\n",
       "      <th>0</th>\n",
       "      <td>$CELG nothing to be exited about</td>\n",
       "      <td>$CELG</td>\n",
       "      <td>2018-10-25</td>\n",
       "      <td>14:26:16</td>\n",
       "    </tr>\n",
       "    <tr>\n",
       "      <th>1</th>\n",
       "      <td>$AMD yall exhaust your buyer on first green ca...</td>\n",
       "      <td>$AMD</td>\n",
       "      <td>2018-07-13</td>\n",
       "      <td>13:50:39</td>\n",
       "    </tr>\n",
       "    <tr>\n",
       "      <th>2</th>\n",
       "      <td>$AMD day traders day.</td>\n",
       "      <td>$AMD</td>\n",
       "      <td>2018-09-25</td>\n",
       "      <td>19:10:54</td>\n",
       "    </tr>\n",
       "    <tr>\n",
       "      <th>3</th>\n",
       "      <td>$CBS https://tenor.com/wLB8.gif</td>\n",
       "      <td>$CBS</td>\n",
       "      <td>2018-07-27</td>\n",
       "      <td>22:45:48</td>\n",
       "    </tr>\n",
       "    <tr>\n",
       "      <th>4</th>\n",
       "      <td>$MU weak price action so far today. Don’t be a...</td>\n",
       "      <td>$MU</td>\n",
       "      <td>2018-07-31</td>\n",
       "      <td>14:59:06</td>\n",
       "    </tr>\n",
       "  </tbody>\n",
       "</table>\n",
       "</div>"
      ],
      "text/plain": [
       "                                     stocktwit_tweet ticker        date  \\\n",
       "0                   $CELG nothing to be exited about  $CELG  2018-10-25   \n",
       "1  $AMD yall exhaust your buyer on first green ca...   $AMD  2018-07-13   \n",
       "2                              $AMD day traders day.   $AMD  2018-09-25   \n",
       "3                    $CBS https://tenor.com/wLB8.gif   $CBS  2018-07-27   \n",
       "4  $MU weak price action so far today. Don’t be a...    $MU  2018-07-31   \n",
       "\n",
       "       time  \n",
       "0  14:26:16  \n",
       "1  13:50:39  \n",
       "2  19:10:54  \n",
       "3  22:45:48  \n",
       "4  14:59:06  "
      ]
     },
     "execution_count": 207,
     "metadata": {},
     "output_type": "execute_result"
    }
   ],
   "source": [
    "j_data.head()"
   ]
  },
  {
   "cell_type": "code",
   "execution_count": 208,
   "metadata": {},
   "outputs": [
    {
     "data": {
      "text/plain": [
       "sentiment_score    0\n",
       "stocktwit_tweet    0\n",
       "ticker             0\n",
       "date               0\n",
       "time               0\n",
       "dtype: int64"
      ]
     },
     "execution_count": 208,
     "metadata": {},
     "output_type": "execute_result"
    }
   ],
   "source": [
    "#to check whether null values are present in train data\n",
    "json_data.isnull().sum()"
   ]
  },
  {
   "cell_type": "code",
   "execution_count": 209,
   "metadata": {},
   "outputs": [
    {
     "data": {
      "text/plain": [
       "stocktwit_tweet    0\n",
       "ticker             0\n",
       "date               0\n",
       "time               0\n",
       "dtype: int64"
      ]
     },
     "execution_count": 209,
     "metadata": {},
     "output_type": "execute_result"
    }
   ],
   "source": [
    "#to check whether null values are present in test  data\n",
    "j_data.isnull().sum()"
   ]
  },
  {
   "cell_type": "code",
   "execution_count": 210,
   "metadata": {},
   "outputs": [
    {
     "data": {
      "text/plain": [
       "2    464402\n",
       "3    208031\n",
       "4    153905\n",
       "1    120771\n",
       "0     92022\n",
       "Name: sentiment_score, dtype: int64"
      ]
     },
     "execution_count": 210,
     "metadata": {},
     "output_type": "execute_result"
    }
   ],
   "source": [
    "#to see the sum of sentiment score for a value for train data\n",
    "json_data[\"sentiment_score\"].value_counts()"
   ]
  },
  {
   "cell_type": "code",
   "execution_count": 363,
   "metadata": {},
   "outputs": [
    {
     "data": {
      "text/plain": [
       "<matplotlib.axes._subplots.AxesSubplot at 0x26a5206eb00>"
      ]
     },
     "execution_count": 363,
     "metadata": {},
     "output_type": "execute_result"
    },
    {
     "data": {
      "image/png": "[encoded data removed]",
      "text/plain": [
       "<Figure size 432x288 with 1 Axes>"
      ]
     },
     "metadata": {
      "needs_background": "light"
     },
     "output_type": "display_data"
    }
   ],
   "source": [
    "sns.countplot(x=\"sentiment_score\",data=json_data,palette=\"Blues_r\")"
   ]
  },
  {
   "cell_type": "code",
   "execution_count": 211,
   "metadata": {
    "collapsed": true
   },
   "outputs": [],
   "source": [
    "#for removing the company name along with dollar from train data\n",
    "json_data.stocktwit_tweet =json_data.stocktwit_tweet.replace('\\$\\w+', ' ',regex=True).astype(object)"
   ]
  },
  {
   "cell_type": "code",
   "execution_count": 212,
   "metadata": {},
   "outputs": [
    {
     "data": {
      "text/html": [
       "<div>\n",
       "<style scoped>\n",
       "    .dataframe tbody tr th:only-of-type {\n",
       "        vertical-align: middle;\n",
       "    }\n",
       "\n",
       "    .dataframe tbody tr th {\n",
       "        vertical-align: top;\n",
       "    }\n",
       "\n",
       "    .dataframe thead th {\n",
       "        text-align: right;\n",
       "    }\n",
       "</style>\n",
       "<table border=\"1\" class=\"dataframe\">\n",
       "  <thead>\n",
       "    <tr style=\"text-align: right;\">\n",
       "      <th></th>\n",
       "      <th>sentiment_score</th>\n",
       "      <th>stocktwit_tweet</th>\n",
       "      <th>ticker</th>\n",
       "      <th>date</th>\n",
       "      <th>time</th>\n",
       "    </tr>\n",
       "  </thead>\n",
       "  <tbody>\n",
       "    <tr>\n",
       "      <th>0</th>\n",
       "      <td>3</td>\n",
       "      <td>going up but hesitating however chart is ver...</td>\n",
       "      <td>$AMD</td>\n",
       "      <td>2018-09-19</td>\n",
       "      <td>18:38:28</td>\n",
       "    </tr>\n",
       "    <tr>\n",
       "      <th>1</th>\n",
       "      <td>3</td>\n",
       "      <td>@inforlong @MariaGascon Despite\\nChina trade w...</td>\n",
       "      <td>$CAT</td>\n",
       "      <td>2018-10-09</td>\n",
       "      <td>03:51:06</td>\n",
       "    </tr>\n",
       "    <tr>\n",
       "      <th>2</th>\n",
       "      <td>2</td>\n",
       "      <td>WTF?</td>\n",
       "      <td>$AVGO</td>\n",
       "      <td>2018-07-12</td>\n",
       "      <td>13:35:32</td>\n",
       "    </tr>\n",
       "    <tr>\n",
       "      <th>3</th>\n",
       "      <td>2</td>\n",
       "      <td>\\n New Insider Filing On: \\n MULLER KLAUS PET...</td>\n",
       "      <td>$PH</td>\n",
       "      <td>2018-07-19</td>\n",
       "      <td>03:32:50</td>\n",
       "    </tr>\n",
       "    <tr>\n",
       "      <th>4</th>\n",
       "      <td>3</td>\n",
       "      <td>if it bounces tommorrow do the right thing a...</td>\n",
       "      <td>$FB</td>\n",
       "      <td>2018-08-23</td>\n",
       "      <td>19:07:54</td>\n",
       "    </tr>\n",
       "  </tbody>\n",
       "</table>\n",
       "</div>"
      ],
      "text/plain": [
       "   sentiment_score                                    stocktwit_tweet ticker  \\\n",
       "0                3    going up but hesitating however chart is ver...   $AMD   \n",
       "1                3  @inforlong @MariaGascon Despite\\nChina trade w...   $CAT   \n",
       "2                2                                               WTF?  $AVGO   \n",
       "3                2   \\n New Insider Filing On: \\n MULLER KLAUS PET...    $PH   \n",
       "4                3    if it bounces tommorrow do the right thing a...    $FB   \n",
       "\n",
       "         date      time  \n",
       "0  2018-09-19  18:38:28  \n",
       "1  2018-10-09  03:51:06  \n",
       "2  2018-07-12  13:35:32  \n",
       "3  2018-07-19  03:32:50  \n",
       "4  2018-08-23  19:07:54  "
      ]
     },
     "execution_count": 212,
     "metadata": {},
     "output_type": "execute_result"
    }
   ],
   "source": [
    "json_data.head()"
   ]
  },
  {
   "cell_type": "code",
   "execution_count": 213,
   "metadata": {},
   "outputs": [],
   "source": [
    "#for removing the company name along with dollar from test data\n",
    "j_data.stocktwit_tweet=j_data.stocktwit_tweet.replace('\\$\\w+', ' ',regex=True).astype(object)"
   ]
  },
  {
   "cell_type": "code",
   "execution_count": 214,
   "metadata": {},
   "outputs": [
    {
     "data": {
      "text/html": [
       "<div>\n",
       "<style scoped>\n",
       "    .dataframe tbody tr th:only-of-type {\n",
       "        vertical-align: middle;\n",
       "    }\n",
       "\n",
       "    .dataframe tbody tr th {\n",
       "        vertical-align: top;\n",
       "    }\n",
       "\n",
       "    .dataframe thead th {\n",
       "        text-align: right;\n",
       "    }\n",
       "</style>\n",
       "<table border=\"1\" class=\"dataframe\">\n",
       "  <thead>\n",
       "    <tr style=\"text-align: right;\">\n",
       "      <th></th>\n",
       "      <th>stocktwit_tweet</th>\n",
       "      <th>ticker</th>\n",
       "      <th>date</th>\n",
       "      <th>time</th>\n",
       "    </tr>\n",
       "  </thead>\n",
       "  <tbody>\n",
       "    <tr>\n",
       "      <th>0</th>\n",
       "      <td>nothing to be exited about</td>\n",
       "      <td>$CELG</td>\n",
       "      <td>2018-10-25</td>\n",
       "      <td>14:26:16</td>\n",
       "    </tr>\n",
       "    <tr>\n",
       "      <th>1</th>\n",
       "      <td>yall exhaust your buyer on first green candl...</td>\n",
       "      <td>$AMD</td>\n",
       "      <td>2018-07-13</td>\n",
       "      <td>13:50:39</td>\n",
       "    </tr>\n",
       "    <tr>\n",
       "      <th>2</th>\n",
       "      <td>day traders day.</td>\n",
       "      <td>$AMD</td>\n",
       "      <td>2018-09-25</td>\n",
       "      <td>19:10:54</td>\n",
       "    </tr>\n",
       "    <tr>\n",
       "      <th>3</th>\n",
       "      <td>https://tenor.com/wLB8.gif</td>\n",
       "      <td>$CBS</td>\n",
       "      <td>2018-07-27</td>\n",
       "      <td>22:45:48</td>\n",
       "    </tr>\n",
       "    <tr>\n",
       "      <th>4</th>\n",
       "      <td>weak price action so far today. Don’t be afr...</td>\n",
       "      <td>$MU</td>\n",
       "      <td>2018-07-31</td>\n",
       "      <td>14:59:06</td>\n",
       "    </tr>\n",
       "  </tbody>\n",
       "</table>\n",
       "</div>"
      ],
      "text/plain": [
       "                                     stocktwit_tweet ticker        date  \\\n",
       "0                         nothing to be exited about  $CELG  2018-10-25   \n",
       "1    yall exhaust your buyer on first green candl...   $AMD  2018-07-13   \n",
       "2                                   day traders day.   $AMD  2018-09-25   \n",
       "3                         https://tenor.com/wLB8.gif   $CBS  2018-07-27   \n",
       "4    weak price action so far today. Don’t be afr...    $MU  2018-07-31   \n",
       "\n",
       "       time  \n",
       "0  14:26:16  \n",
       "1  13:50:39  \n",
       "2  19:10:54  \n",
       "3  22:45:48  \n",
       "4  14:59:06  "
      ]
     },
     "execution_count": 214,
     "metadata": {},
     "output_type": "execute_result"
    }
   ],
   "source": [
    "j_data.head()"
   ]
  },
  {
   "cell_type": "code",
   "execution_count": null,
   "metadata": {},
   "outputs": [],
   "source": []
  },
  {
   "cell_type": "code",
   "execution_count": 215,
   "metadata": {},
   "outputs": [],
   "source": [
    "#for removing the name along with @ along with its words from train data\n",
    "json_data.stocktwit_tweet=json_data.stocktwit_tweet.replace('\\@\\w+', '',regex=True).astype(object)"
   ]
  },
  {
   "cell_type": "code",
   "execution_count": 216,
   "metadata": {},
   "outputs": [
    {
     "data": {
      "text/html": [
       "<div>\n",
       "<style scoped>\n",
       "    .dataframe tbody tr th:only-of-type {\n",
       "        vertical-align: middle;\n",
       "    }\n",
       "\n",
       "    .dataframe tbody tr th {\n",
       "        vertical-align: top;\n",
       "    }\n",
       "\n",
       "    .dataframe thead th {\n",
       "        text-align: right;\n",
       "    }\n",
       "</style>\n",
       "<table border=\"1\" class=\"dataframe\">\n",
       "  <thead>\n",
       "    <tr style=\"text-align: right;\">\n",
       "      <th></th>\n",
       "      <th>sentiment_score</th>\n",
       "      <th>stocktwit_tweet</th>\n",
       "      <th>ticker</th>\n",
       "      <th>date</th>\n",
       "      <th>time</th>\n",
       "    </tr>\n",
       "  </thead>\n",
       "  <tbody>\n",
       "    <tr>\n",
       "      <th>0</th>\n",
       "      <td>3</td>\n",
       "      <td>going up but hesitating however chart is ver...</td>\n",
       "      <td>$AMD</td>\n",
       "      <td>2018-09-19</td>\n",
       "      <td>18:38:28</td>\n",
       "    </tr>\n",
       "    <tr>\n",
       "      <th>1</th>\n",
       "      <td>3</td>\n",
       "      <td>Despite\\nChina trade war   held very well 👍</td>\n",
       "      <td>$CAT</td>\n",
       "      <td>2018-10-09</td>\n",
       "      <td>03:51:06</td>\n",
       "    </tr>\n",
       "    <tr>\n",
       "      <th>2</th>\n",
       "      <td>2</td>\n",
       "      <td>WTF?</td>\n",
       "      <td>$AVGO</td>\n",
       "      <td>2018-07-12</td>\n",
       "      <td>13:35:32</td>\n",
       "    </tr>\n",
       "    <tr>\n",
       "      <th>3</th>\n",
       "      <td>2</td>\n",
       "      <td>\\n New Insider Filing On: \\n MULLER KLAUS PET...</td>\n",
       "      <td>$PH</td>\n",
       "      <td>2018-07-19</td>\n",
       "      <td>03:32:50</td>\n",
       "    </tr>\n",
       "    <tr>\n",
       "      <th>4</th>\n",
       "      <td>3</td>\n",
       "      <td>if it bounces tommorrow do the right thing a...</td>\n",
       "      <td>$FB</td>\n",
       "      <td>2018-08-23</td>\n",
       "      <td>19:07:54</td>\n",
       "    </tr>\n",
       "  </tbody>\n",
       "</table>\n",
       "</div>"
      ],
      "text/plain": [
       "   sentiment_score                                    stocktwit_tweet ticker  \\\n",
       "0                3    going up but hesitating however chart is ver...   $AMD   \n",
       "1                3        Despite\\nChina trade war   held very well 👍   $CAT   \n",
       "2                2                                               WTF?  $AVGO   \n",
       "3                2   \\n New Insider Filing On: \\n MULLER KLAUS PET...    $PH   \n",
       "4                3    if it bounces tommorrow do the right thing a...    $FB   \n",
       "\n",
       "         date      time  \n",
       "0  2018-09-19  18:38:28  \n",
       "1  2018-10-09  03:51:06  \n",
       "2  2018-07-12  13:35:32  \n",
       "3  2018-07-19  03:32:50  \n",
       "4  2018-08-23  19:07:54  "
      ]
     },
     "execution_count": 216,
     "metadata": {},
     "output_type": "execute_result"
    }
   ],
   "source": [
    "json_data.head()"
   ]
  },
  {
   "cell_type": "code",
   "execution_count": 217,
   "metadata": {},
   "outputs": [],
   "source": [
    "#for removing the name along with @ along with its words  from test data\n",
    "j_data.stocktwit_tweet=j_data.stocktwit_tweet.replace('\\@\\w+', '',regex=True).astype(object)"
   ]
  },
  {
   "cell_type": "code",
   "execution_count": 218,
   "metadata": {},
   "outputs": [
    {
     "data": {
      "text/html": [
       "<div>\n",
       "<style scoped>\n",
       "    .dataframe tbody tr th:only-of-type {\n",
       "        vertical-align: middle;\n",
       "    }\n",
       "\n",
       "    .dataframe tbody tr th {\n",
       "        vertical-align: top;\n",
       "    }\n",
       "\n",
       "    .dataframe thead th {\n",
       "        text-align: right;\n",
       "    }\n",
       "</style>\n",
       "<table border=\"1\" class=\"dataframe\">\n",
       "  <thead>\n",
       "    <tr style=\"text-align: right;\">\n",
       "      <th></th>\n",
       "      <th>stocktwit_tweet</th>\n",
       "      <th>ticker</th>\n",
       "      <th>date</th>\n",
       "      <th>time</th>\n",
       "    </tr>\n",
       "  </thead>\n",
       "  <tbody>\n",
       "    <tr>\n",
       "      <th>0</th>\n",
       "      <td>nothing to be exited about</td>\n",
       "      <td>$CELG</td>\n",
       "      <td>2018-10-25</td>\n",
       "      <td>14:26:16</td>\n",
       "    </tr>\n",
       "    <tr>\n",
       "      <th>1</th>\n",
       "      <td>yall exhaust your buyer on first green candl...</td>\n",
       "      <td>$AMD</td>\n",
       "      <td>2018-07-13</td>\n",
       "      <td>13:50:39</td>\n",
       "    </tr>\n",
       "    <tr>\n",
       "      <th>2</th>\n",
       "      <td>day traders day.</td>\n",
       "      <td>$AMD</td>\n",
       "      <td>2018-09-25</td>\n",
       "      <td>19:10:54</td>\n",
       "    </tr>\n",
       "    <tr>\n",
       "      <th>3</th>\n",
       "      <td>https://tenor.com/wLB8.gif</td>\n",
       "      <td>$CBS</td>\n",
       "      <td>2018-07-27</td>\n",
       "      <td>22:45:48</td>\n",
       "    </tr>\n",
       "    <tr>\n",
       "      <th>4</th>\n",
       "      <td>weak price action so far today. Don’t be afr...</td>\n",
       "      <td>$MU</td>\n",
       "      <td>2018-07-31</td>\n",
       "      <td>14:59:06</td>\n",
       "    </tr>\n",
       "  </tbody>\n",
       "</table>\n",
       "</div>"
      ],
      "text/plain": [
       "                                     stocktwit_tweet ticker        date  \\\n",
       "0                         nothing to be exited about  $CELG  2018-10-25   \n",
       "1    yall exhaust your buyer on first green candl...   $AMD  2018-07-13   \n",
       "2                                   day traders day.   $AMD  2018-09-25   \n",
       "3                         https://tenor.com/wLB8.gif   $CBS  2018-07-27   \n",
       "4    weak price action so far today. Don’t be afr...    $MU  2018-07-31   \n",
       "\n",
       "       time  \n",
       "0  14:26:16  \n",
       "1  13:50:39  \n",
       "2  19:10:54  \n",
       "3  22:45:48  \n",
       "4  14:59:06  "
      ]
     },
     "execution_count": 218,
     "metadata": {},
     "output_type": "execute_result"
    }
   ],
   "source": [
    "j_data.head()"
   ]
  },
  {
   "cell_type": "code",
   "execution_count": null,
   "metadata": {},
   "outputs": [],
   "source": []
  },
  {
   "cell_type": "code",
   "execution_count": 219,
   "metadata": {},
   "outputs": [],
   "source": [
    "# removing the urls from the given train data\n",
    "pattern = r\"http\\S+\"\n",
    "json_data['stocktwit_tweet']=[re.sub(pattern,\"\",text) for text in json_data['stocktwit_tweet']]"
   ]
  },
  {
   "cell_type": "code",
   "execution_count": 220,
   "metadata": {},
   "outputs": [
    {
     "data": {
      "text/plain": [
       "'  UnitedHealth Group Goes Ex-Dividend Today '"
      ]
     },
     "execution_count": 220,
     "metadata": {},
     "output_type": "execute_result"
    }
   ],
   "source": [
    "# checking whether urls are removed by taking a particular coloumn\n",
    "json_data['stocktwit_tweet'][6]"
   ]
  },
  {
   "cell_type": "code",
   "execution_count": 221,
   "metadata": {},
   "outputs": [],
   "source": [
    "# removing the urls from the given test data\n",
    "pattern = r\"http\\S+\"\n",
    "j_data['stocktwit_tweet']=[re.sub(pattern,\"\",text) for text in j_data['stocktwit_tweet']]"
   ]
  },
  {
   "cell_type": "code",
   "execution_count": 222,
   "metadata": {},
   "outputs": [
    {
     "data": {
      "text/plain": [
       "'  If you are not loading up right now, you are clueless'"
      ]
     },
     "execution_count": 222,
     "metadata": {},
     "output_type": "execute_result"
    }
   ],
   "source": [
    "# checking whether urls are removed by taking a particular coloumn\n",
    "j_data['stocktwit_tweet'][6]"
   ]
  },
  {
   "cell_type": "code",
   "execution_count": null,
   "metadata": {},
   "outputs": [],
   "source": []
  },
  {
   "cell_type": "code",
   "execution_count": 223,
   "metadata": {},
   "outputs": [],
   "source": [
    "#changing the data of stocktwit_tweet to all lower case letters of train data\n",
    "def text_lowercase(text): \n",
    "    return text.lower()"
   ]
  },
  {
   "cell_type": "code",
   "execution_count": 224,
   "metadata": {},
   "outputs": [],
   "source": [
    "json_data['stocktwit_tweet'] = json_data['stocktwit_tweet'].apply(lambda x:text_lowercase(x))"
   ]
  },
  {
   "cell_type": "code",
   "execution_count": 225,
   "metadata": {},
   "outputs": [
    {
     "data": {
      "text/html": [
       "<div>\n",
       "<style scoped>\n",
       "    .dataframe tbody tr th:only-of-type {\n",
       "        vertical-align: middle;\n",
       "    }\n",
       "\n",
       "    .dataframe tbody tr th {\n",
       "        vertical-align: top;\n",
       "    }\n",
       "\n",
       "    .dataframe thead th {\n",
       "        text-align: right;\n",
       "    }\n",
       "</style>\n",
       "<table border=\"1\" class=\"dataframe\">\n",
       "  <thead>\n",
       "    <tr style=\"text-align: right;\">\n",
       "      <th></th>\n",
       "      <th>sentiment_score</th>\n",
       "      <th>stocktwit_tweet</th>\n",
       "      <th>ticker</th>\n",
       "      <th>date</th>\n",
       "      <th>time</th>\n",
       "    </tr>\n",
       "  </thead>\n",
       "  <tbody>\n",
       "    <tr>\n",
       "      <th>0</th>\n",
       "      <td>3</td>\n",
       "      <td>going up but hesitating however chart is ver...</td>\n",
       "      <td>$AMD</td>\n",
       "      <td>2018-09-19</td>\n",
       "      <td>18:38:28</td>\n",
       "    </tr>\n",
       "    <tr>\n",
       "      <th>1</th>\n",
       "      <td>3</td>\n",
       "      <td>despite\\nchina trade war   held very well 👍</td>\n",
       "      <td>$CAT</td>\n",
       "      <td>2018-10-09</td>\n",
       "      <td>03:51:06</td>\n",
       "    </tr>\n",
       "    <tr>\n",
       "      <th>2</th>\n",
       "      <td>2</td>\n",
       "      <td>wtf?</td>\n",
       "      <td>$AVGO</td>\n",
       "      <td>2018-07-12</td>\n",
       "      <td>13:35:32</td>\n",
       "    </tr>\n",
       "    <tr>\n",
       "      <th>3</th>\n",
       "      <td>2</td>\n",
       "      <td>\\n new insider filing on: \\n muller klaus pet...</td>\n",
       "      <td>$PH</td>\n",
       "      <td>2018-07-19</td>\n",
       "      <td>03:32:50</td>\n",
       "    </tr>\n",
       "    <tr>\n",
       "      <th>4</th>\n",
       "      <td>3</td>\n",
       "      <td>if it bounces tommorrow do the right thing a...</td>\n",
       "      <td>$FB</td>\n",
       "      <td>2018-08-23</td>\n",
       "      <td>19:07:54</td>\n",
       "    </tr>\n",
       "  </tbody>\n",
       "</table>\n",
       "</div>"
      ],
      "text/plain": [
       "   sentiment_score                                    stocktwit_tweet ticker  \\\n",
       "0                3    going up but hesitating however chart is ver...   $AMD   \n",
       "1                3        despite\\nchina trade war   held very well 👍   $CAT   \n",
       "2                2                                               wtf?  $AVGO   \n",
       "3                2   \\n new insider filing on: \\n muller klaus pet...    $PH   \n",
       "4                3    if it bounces tommorrow do the right thing a...    $FB   \n",
       "\n",
       "         date      time  \n",
       "0  2018-09-19  18:38:28  \n",
       "1  2018-10-09  03:51:06  \n",
       "2  2018-07-12  13:35:32  \n",
       "3  2018-07-19  03:32:50  \n",
       "4  2018-08-23  19:07:54  "
      ]
     },
     "execution_count": 225,
     "metadata": {},
     "output_type": "execute_result"
    }
   ],
   "source": [
    "json_data.head()"
   ]
  },
  {
   "cell_type": "code",
   "execution_count": 226,
   "metadata": {},
   "outputs": [],
   "source": [
    "#changing the data of stocktwit_tweet to all lower case letters of test data\n",
    "def text_lowercase(text): \n",
    "    return text.lower()"
   ]
  },
  {
   "cell_type": "code",
   "execution_count": 227,
   "metadata": {},
   "outputs": [],
   "source": [
    "j_data['stocktwit_tweet'] = j_data['stocktwit_tweet'].apply(lambda x:text_lowercase(x))"
   ]
  },
  {
   "cell_type": "code",
   "execution_count": 228,
   "metadata": {},
   "outputs": [
    {
     "data": {
      "text/html": [
       "<div>\n",
       "<style scoped>\n",
       "    .dataframe tbody tr th:only-of-type {\n",
       "        vertical-align: middle;\n",
       "    }\n",
       "\n",
       "    .dataframe tbody tr th {\n",
       "        vertical-align: top;\n",
       "    }\n",
       "\n",
       "    .dataframe thead th {\n",
       "        text-align: right;\n",
       "    }\n",
       "</style>\n",
       "<table border=\"1\" class=\"dataframe\">\n",
       "  <thead>\n",
       "    <tr style=\"text-align: right;\">\n",
       "      <th></th>\n",
       "      <th>stocktwit_tweet</th>\n",
       "      <th>ticker</th>\n",
       "      <th>date</th>\n",
       "      <th>time</th>\n",
       "    </tr>\n",
       "  </thead>\n",
       "  <tbody>\n",
       "    <tr>\n",
       "      <th>0</th>\n",
       "      <td>nothing to be exited about</td>\n",
       "      <td>$CELG</td>\n",
       "      <td>2018-10-25</td>\n",
       "      <td>14:26:16</td>\n",
       "    </tr>\n",
       "    <tr>\n",
       "      <th>1</th>\n",
       "      <td>yall exhaust your buyer on first green candl...</td>\n",
       "      <td>$AMD</td>\n",
       "      <td>2018-07-13</td>\n",
       "      <td>13:50:39</td>\n",
       "    </tr>\n",
       "    <tr>\n",
       "      <th>2</th>\n",
       "      <td>day traders day.</td>\n",
       "      <td>$AMD</td>\n",
       "      <td>2018-09-25</td>\n",
       "      <td>19:10:54</td>\n",
       "    </tr>\n",
       "    <tr>\n",
       "      <th>3</th>\n",
       "      <td></td>\n",
       "      <td>$CBS</td>\n",
       "      <td>2018-07-27</td>\n",
       "      <td>22:45:48</td>\n",
       "    </tr>\n",
       "    <tr>\n",
       "      <th>4</th>\n",
       "      <td>weak price action so far today. don’t be afr...</td>\n",
       "      <td>$MU</td>\n",
       "      <td>2018-07-31</td>\n",
       "      <td>14:59:06</td>\n",
       "    </tr>\n",
       "  </tbody>\n",
       "</table>\n",
       "</div>"
      ],
      "text/plain": [
       "                                     stocktwit_tweet ticker        date  \\\n",
       "0                         nothing to be exited about  $CELG  2018-10-25   \n",
       "1    yall exhaust your buyer on first green candl...   $AMD  2018-07-13   \n",
       "2                                   day traders day.   $AMD  2018-09-25   \n",
       "3                                                      $CBS  2018-07-27   \n",
       "4    weak price action so far today. don’t be afr...    $MU  2018-07-31   \n",
       "\n",
       "       time  \n",
       "0  14:26:16  \n",
       "1  13:50:39  \n",
       "2  19:10:54  \n",
       "3  22:45:48  \n",
       "4  14:59:06  "
      ]
     },
     "execution_count": 228,
     "metadata": {},
     "output_type": "execute_result"
    }
   ],
   "source": [
    "j_data.head()"
   ]
  },
  {
   "cell_type": "code",
   "execution_count": null,
   "metadata": {},
   "outputs": [],
   "source": []
  },
  {
   "cell_type": "code",
   "execution_count": 229,
   "metadata": {},
   "outputs": [],
   "source": [
    "# removing punctuations from the train data\n",
    "def remove_punctuations(text):\n",
    "    text=re.sub(r'[^\\w]',' ',text)\n",
    "    #data['stocktwit_tweet']=data['stocktwit_tweet'].apply(apply(lambda text: remove_punctuation(text))\n",
    "    return text\n",
    "json_data['stocktwit_tweet']=json_data['stocktwit_tweet'].apply(lambda text: remove_punctuations(text))"
   ]
  },
  {
   "cell_type": "code",
   "execution_count": 230,
   "metadata": {},
   "outputs": [
    {
     "data": {
      "text/plain": [
       "'  despite china trade war   held very well  '"
      ]
     },
     "execution_count": 230,
     "metadata": {},
     "output_type": "execute_result"
    }
   ],
   "source": [
    "# checking wether the punctuations are removed  using a particular coloumn\n",
    "json_data['stocktwit_tweet'][1]"
   ]
  },
  {
   "cell_type": "code",
   "execution_count": 231,
   "metadata": {},
   "outputs": [],
   "source": [
    "# removing punctuations from the test data\n",
    "def remove_punctuations(text):\n",
    "    text=re.sub(r'[^\\w]',' ',text)\n",
    "    #data['stocktwit_tweet']=data['stocktwit_tweet'].apply(apply(lambda text: remove_punctuation(text))\n",
    "    return text\n",
    "j_data['stocktwit_tweet']=j_data['stocktwit_tweet'].apply(lambda text: remove_punctuations(text))"
   ]
  },
  {
   "cell_type": "code",
   "execution_count": 232,
   "metadata": {},
   "outputs": [
    {
     "data": {
      "text/plain": [
       "'  yall exhaust your buyer on first green candle     byeeeeee'"
      ]
     },
     "execution_count": 232,
     "metadata": {},
     "output_type": "execute_result"
    }
   ],
   "source": [
    "# checking wether the punctuations are removed  using a particular coloumn\n",
    "j_data['stocktwit_tweet'][1]"
   ]
  },
  {
   "cell_type": "code",
   "execution_count": null,
   "metadata": {},
   "outputs": [],
   "source": []
  },
  {
   "cell_type": "code",
   "execution_count": 233,
   "metadata": {},
   "outputs": [],
   "source": [
    "# removing numbers present in the train data\n",
    "def remove_numbers(text):\n",
    "    text=re.sub(r'\\d+','',text)\n",
    "    #data['stocktwit_tweet']=data['stocktwit_tweet'].apply(apply(lambda text: remove_punctuation(text))\n",
    "    return text\n",
    "\n",
    "json_data['stocktwit_tweet']=json_data['stocktwit_tweet'].apply(lambda text: remove_numbers(str(text)))"
   ]
  },
  {
   "cell_type": "code",
   "execution_count": 234,
   "metadata": {},
   "outputs": [
    {
     "data": {
      "text/html": [
       "<div>\n",
       "<style scoped>\n",
       "    .dataframe tbody tr th:only-of-type {\n",
       "        vertical-align: middle;\n",
       "    }\n",
       "\n",
       "    .dataframe tbody tr th {\n",
       "        vertical-align: top;\n",
       "    }\n",
       "\n",
       "    .dataframe thead th {\n",
       "        text-align: right;\n",
       "    }\n",
       "</style>\n",
       "<table border=\"1\" class=\"dataframe\">\n",
       "  <thead>\n",
       "    <tr style=\"text-align: right;\">\n",
       "      <th></th>\n",
       "      <th>sentiment_score</th>\n",
       "      <th>stocktwit_tweet</th>\n",
       "      <th>ticker</th>\n",
       "      <th>date</th>\n",
       "      <th>time</th>\n",
       "    </tr>\n",
       "  </thead>\n",
       "  <tbody>\n",
       "    <tr>\n",
       "      <th>0</th>\n",
       "      <td>3</td>\n",
       "      <td>going up but hesitating however chart is ver...</td>\n",
       "      <td>$AMD</td>\n",
       "      <td>2018-09-19</td>\n",
       "      <td>18:38:28</td>\n",
       "    </tr>\n",
       "    <tr>\n",
       "      <th>1</th>\n",
       "      <td>3</td>\n",
       "      <td>despite china trade war   held very well</td>\n",
       "      <td>$CAT</td>\n",
       "      <td>2018-10-09</td>\n",
       "      <td>03:51:06</td>\n",
       "    </tr>\n",
       "    <tr>\n",
       "      <th>2</th>\n",
       "      <td>2</td>\n",
       "      <td>wtf</td>\n",
       "      <td>$AVGO</td>\n",
       "      <td>2018-07-12</td>\n",
       "      <td>13:35:32</td>\n",
       "    </tr>\n",
       "    <tr>\n",
       "      <th>3</th>\n",
       "      <td>2</td>\n",
       "      <td>new insider filing on    muller klaus peter...</td>\n",
       "      <td>$PH</td>\n",
       "      <td>2018-07-19</td>\n",
       "      <td>03:32:50</td>\n",
       "    </tr>\n",
       "    <tr>\n",
       "      <th>4</th>\n",
       "      <td>3</td>\n",
       "      <td>if it bounces tommorrow do the right thing a...</td>\n",
       "      <td>$FB</td>\n",
       "      <td>2018-08-23</td>\n",
       "      <td>19:07:54</td>\n",
       "    </tr>\n",
       "  </tbody>\n",
       "</table>\n",
       "</div>"
      ],
      "text/plain": [
       "   sentiment_score                                    stocktwit_tweet ticker  \\\n",
       "0                3    going up but hesitating however chart is ver...   $AMD   \n",
       "1                3         despite china trade war   held very well     $CAT   \n",
       "2                2                                               wtf   $AVGO   \n",
       "3                2     new insider filing on    muller klaus peter...    $PH   \n",
       "4                3    if it bounces tommorrow do the right thing a...    $FB   \n",
       "\n",
       "         date      time  \n",
       "0  2018-09-19  18:38:28  \n",
       "1  2018-10-09  03:51:06  \n",
       "2  2018-07-12  13:35:32  \n",
       "3  2018-07-19  03:32:50  \n",
       "4  2018-08-23  19:07:54  "
      ]
     },
     "execution_count": 234,
     "metadata": {},
     "output_type": "execute_result"
    }
   ],
   "source": [
    "# checking whether numbers are removed or not\n",
    "json_data.head()"
   ]
  },
  {
   "cell_type": "code",
   "execution_count": 235,
   "metadata": {},
   "outputs": [],
   "source": [
    "# removing numbers present in the test data  \n",
    "def remove_numbers(text):\n",
    "    text=re.sub(r'\\d+','',text)\n",
    "    #data['stocktwit_tweet']=data['stocktwit_tweet'].apply(apply(lambda text: remove_punctuation(text))\n",
    "    return text\n",
    "\n",
    "j_data['stocktwit_tweet']=j_data['stocktwit_tweet'].apply(lambda text: remove_numbers(str(text)))"
   ]
  },
  {
   "cell_type": "code",
   "execution_count": 236,
   "metadata": {},
   "outputs": [
    {
     "data": {
      "text/html": [
       "<div>\n",
       "<style scoped>\n",
       "    .dataframe tbody tr th:only-of-type {\n",
       "        vertical-align: middle;\n",
       "    }\n",
       "\n",
       "    .dataframe tbody tr th {\n",
       "        vertical-align: top;\n",
       "    }\n",
       "\n",
       "    .dataframe thead th {\n",
       "        text-align: right;\n",
       "    }\n",
       "</style>\n",
       "<table border=\"1\" class=\"dataframe\">\n",
       "  <thead>\n",
       "    <tr style=\"text-align: right;\">\n",
       "      <th></th>\n",
       "      <th>stocktwit_tweet</th>\n",
       "      <th>ticker</th>\n",
       "      <th>date</th>\n",
       "      <th>time</th>\n",
       "    </tr>\n",
       "  </thead>\n",
       "  <tbody>\n",
       "    <tr>\n",
       "      <th>0</th>\n",
       "      <td>nothing to be exited about</td>\n",
       "      <td>$CELG</td>\n",
       "      <td>2018-10-25</td>\n",
       "      <td>14:26:16</td>\n",
       "    </tr>\n",
       "    <tr>\n",
       "      <th>1</th>\n",
       "      <td>yall exhaust your buyer on first green candl...</td>\n",
       "      <td>$AMD</td>\n",
       "      <td>2018-07-13</td>\n",
       "      <td>13:50:39</td>\n",
       "    </tr>\n",
       "    <tr>\n",
       "      <th>2</th>\n",
       "      <td>day traders day</td>\n",
       "      <td>$AMD</td>\n",
       "      <td>2018-09-25</td>\n",
       "      <td>19:10:54</td>\n",
       "    </tr>\n",
       "    <tr>\n",
       "      <th>3</th>\n",
       "      <td></td>\n",
       "      <td>$CBS</td>\n",
       "      <td>2018-07-27</td>\n",
       "      <td>22:45:48</td>\n",
       "    </tr>\n",
       "    <tr>\n",
       "      <th>4</th>\n",
       "      <td>weak price action so far today  don t be afr...</td>\n",
       "      <td>$MU</td>\n",
       "      <td>2018-07-31</td>\n",
       "      <td>14:59:06</td>\n",
       "    </tr>\n",
       "  </tbody>\n",
       "</table>\n",
       "</div>"
      ],
      "text/plain": [
       "                                     stocktwit_tweet ticker        date  \\\n",
       "0                         nothing to be exited about  $CELG  2018-10-25   \n",
       "1    yall exhaust your buyer on first green candl...   $AMD  2018-07-13   \n",
       "2                                   day traders day    $AMD  2018-09-25   \n",
       "3                                                      $CBS  2018-07-27   \n",
       "4    weak price action so far today  don t be afr...    $MU  2018-07-31   \n",
       "\n",
       "       time  \n",
       "0  14:26:16  \n",
       "1  13:50:39  \n",
       "2  19:10:54  \n",
       "3  22:45:48  \n",
       "4  14:59:06  "
      ]
     },
     "execution_count": 236,
     "metadata": {},
     "output_type": "execute_result"
    }
   ],
   "source": [
    "# checking whether the numbers are removed or not\n",
    "j_data.head()"
   ]
  },
  {
   "cell_type": "code",
   "execution_count": null,
   "metadata": {},
   "outputs": [],
   "source": []
  },
  {
   "cell_type": "code",
   "execution_count": 237,
   "metadata": {},
   "outputs": [],
   "source": [
    "# remove whitespace from text from the train data \n",
    "def remove_whitespace(text): \n",
    "    return  \" \".join(text.split()) "
   ]
  },
  {
   "cell_type": "code",
   "execution_count": 238,
   "metadata": {},
   "outputs": [],
   "source": [
    "json_data['stocktwit_tweet']=json_data['stocktwit_tweet'].apply(lambda text: remove_whitespace(text))"
   ]
  },
  {
   "cell_type": "code",
   "execution_count": 239,
   "metadata": {},
   "outputs": [
    {
     "data": {
      "text/plain": [
       "0          going up but hesitating however chart is very ...\n",
       "1                     despite china trade war held very well\n",
       "2                                                        wtf\n",
       "3          new insider filing on muller klaus peter trans...\n",
       "4          if it bounces tommorrow do the right thing and...\n",
       "5                                     as usual red every day\n",
       "6                  unitedhealth group goes ex dividend today\n",
       "7                                  let s see when we can hit\n",
       "8             i bet you re also the one saying should be smh\n",
       "9                                          pastor the stooge\n",
       "10             called it friday hahahaha suckers sold friday\n",
       "11                          exp maxpain highputoi highcalloi\n",
       "12           day in day out this puppy is making people rich\n",
       "13                                                          \n",
       "14                                                          \n",
       "15         earnings august bmo aug straddle implies move ...\n",
       "16                                               buying more\n",
       "17         mms took out the sls yet it still won t bounce...\n",
       "18         it s not even a downtrend it s a flush almost ...\n",
       "19         min chart you can see where the long term supp...\n",
       "20         you all know that when it drops in one day it ...\n",
       "21         here s what estimize analysts believe will rep...\n",
       "22                        doesn t miss mu long rally bullish\n",
       "23         if it was valued as i meant but yes hopefully ...\n",
       "24         looks like this resistance will be broken migh...\n",
       "25                                  short the high easy flip\n",
       "26                                                    target\n",
       "27          sell calls at sell equities at equities are safe\n",
       "28         there was even positive information out that t...\n",
       "29                                           going red today\n",
       "                                 ...                        \n",
       "1039101                  just about to test resistance again\n",
       "1039102    tightening conditions lead to slo mo credit cr...\n",
       "1039103    i follow some pretty big option traders and th...\n",
       "1039104    beautiful price that i got in thanks for the l...\n",
       "1039105                                                     \n",
       "1039106                                facebook is green yay\n",
       "1039107                                   today s insight on\n",
       "1039108    day off overwatch all day or day trading on ma...\n",
       "1039109         how about another retailer yep still popular\n",
       "1039110                           what color does alisa like\n",
       "1039111    when analysts cut price targets and stock drop...\n",
       "1039112    estimize revenue expectations are higher than ...\n",
       "1039113    back in the day this would fall on a down day ...\n",
       "1039114    altria group mo announces earnings eps beats e...\n",
       "1039115    new insider filing on ravener robert d transac...\n",
       "1039116                            outperforms of all stocks\n",
       "1039117                                     russia not happy\n",
       "1039118                                              crushed\n",
       "1039119    raise happened recently so not much impact on ...\n",
       "1039120                             this your entrance point\n",
       "1039121    inverted hammer rd time is a charm what do you...\n",
       "1039122    m ago sec current event s report regulation fd...\n",
       "1039123    don t even play y all know it s gapping up monday\n",
       "1039124    i wonder why guy adami is always bearish on th...\n",
       "1039125                prepare yourselves for launch closing\n",
       "1039126                                                     \n",
       "1039127                                                     \n",
       "1039128       damn should of shorted after hours to late now\n",
       "1039129                                        back to the s\n",
       "1039130                             lagging other tech today\n",
       "Name: stocktwit_tweet, Length: 1039131, dtype: object"
      ]
     },
     "execution_count": 239,
     "metadata": {},
     "output_type": "execute_result"
    }
   ],
   "source": [
    "# checking whether white spaces are removed or not\n",
    "json_data['stocktwit_tweet']"
   ]
  },
  {
   "cell_type": "code",
   "execution_count": 240,
   "metadata": {},
   "outputs": [],
   "source": [
    "# remove whitespace from text from test data\n",
    "def remove_whitespace(text): \n",
    "    return  \" \".join(text.split()) "
   ]
  },
  {
   "cell_type": "code",
   "execution_count": 241,
   "metadata": {},
   "outputs": [],
   "source": [
    "j_data['stocktwit_tweet']=j_data['stocktwit_tweet'].apply(lambda text: remove_whitespace(text))"
   ]
  },
  {
   "cell_type": "code",
   "execution_count": 242,
   "metadata": {},
   "outputs": [
    {
     "data": {
      "text/plain": [
       "0                                nothing to be exited about\n",
       "1         yall exhaust your buyer on first green candle ...\n",
       "2                                           day traders day\n",
       "3                                                          \n",
       "4         weak price action so far today don t be afraid...\n",
       "5         continues to grow specifically in key areas li...\n",
       "6         if you are not loading up right now you are cl...\n",
       "7         crap shoot legit no one knows if it s going up...\n",
       "8         how does this chart look like a setup for a di...\n",
       "9                     amd is like my sex life its so dry rn\n",
       "10        finally amd got its anti gravity technology an...\n",
       "11        seems like a lot of todo to halt with minutes ...\n",
       "12        you know mark has been dumping more shares the...\n",
       "13        remember this trumppalo boycott aapl was then ...\n",
       "14        positioning changed significantly over the pas...\n",
       "15        keep in mind siggraph is next week and amd is ...\n",
       "16        closes above its opening price after recoverin...\n",
       "17                                                         \n",
       "18                                the short killa continues\n",
       "19                         exp maxpain highputoi highcalloi\n",
       "20        reported analysts heard them discuss quot indu...\n",
       "21        here s what estimize analysts believe will rep...\n",
       "22        think tom we see neutral to bearish action tou...\n",
       "23        i wish amazon would get the billion dept of de...\n",
       "24        oct atm implied volatility is up straddle impl...\n",
       "25                    i could really use your help guidance\n",
       "26        gilead sciences announces ceo john f milligan ...\n",
       "27        there was a k buyer on the ask few minutes ear...\n",
       "28        wait so those that buy the dip do they buy it ...\n",
       "29        this will go down before hit again just like y...\n",
       "                                ...                        \n",
       "264992    insiders will sell this off again moro guaranteed\n",
       "264993    this another tricky bears gap the price down b...\n",
       "264994                                   doom and gloom lol\n",
       "264995                       what the f is going back up on\n",
       "264996    a reminder to all if you suck at your job get ...\n",
       "264997                    coming retail buys high sells low\n",
       "264998    the industry average profit margin is outperfo...\n",
       "264999    director quot harris parker quot just cashed i...\n",
       "265000    option volume was x normal on friday with cont...\n",
       "265001                                      stop fucking up\n",
       "265002    retail_stocks technical_signals buy mfi prob e...\n",
       "265003    najarian trying to pump it i saw a straddle at...\n",
       "265004                                                 damn\n",
       "265005    how this going to bump w no fomo even rh buyer...\n",
       "265006    it wants before close so glad i bought this on...\n",
       "265007                                                  pos\n",
       "265008    listen to q vertex pharmaceuticals incorporate...\n",
       "265009    i m about to panic we ve been below for about ...\n",
       "265010    lol market ripping but how about this stock pe...\n",
       "265011    nasdaq dropping can somebody bring this back t...\n",
       "265012    two green doji candles in a row at verified su...\n",
       "265013                                   today s insight on\n",
       "265014                             dead cat bounce incoming\n",
       "265015    i ve been drinking on average modelos or coron...\n",
       "265016    m ago avon products appoints new vice presiden...\n",
       "265017    recent bad pr made this an easy pick to load u...\n",
       "265018    here s what estimize analysts believe will rep...\n",
       "265019    could be at or high s if not will still get to...\n",
       "265020                                         files form q\n",
       "265021    looks like it is solidly supporting its gains ...\n",
       "Name: stocktwit_tweet, Length: 265022, dtype: object"
      ]
     },
     "execution_count": 242,
     "metadata": {},
     "output_type": "execute_result"
    }
   ],
   "source": [
    "# checking whether white space are removed or not \n",
    "j_data['stocktwit_tweet']"
   ]
  },
  {
   "cell_type": "code",
   "execution_count": null,
   "metadata": {},
   "outputs": [],
   "source": []
  },
  {
   "cell_type": "code",
   "execution_count": 243,
   "metadata": {},
   "outputs": [],
   "source": [
    "# for tokenization the train data\n",
    "from nltk.tokenize import TweetTokenizer\n",
    "token = TweetTokenizer()\n",
    "json_data['stocktwit_tweet'] = json_data['stocktwit_tweet'].apply(token.tokenize)"
   ]
  },
  {
   "cell_type": "code",
   "execution_count": 244,
   "metadata": {},
   "outputs": [
    {
     "data": {
      "text/plain": [
       "0          [going, up, but, hesitating, however, chart, i...\n",
       "1             [despite, china, trade, war, held, very, well]\n",
       "2                                                      [wtf]\n",
       "3          [new, insider, filing, on, muller, klaus, pete...\n",
       "4          [if, it, bounces, tommorrow, do, the, right, t...\n",
       "5                               [as, usual, red, every, day]\n",
       "6           [unitedhealth, group, goes, ex, dividend, today]\n",
       "7                          [let, s, see, when, we, can, hit]\n",
       "8          [i, bet, you, re, also, the, one, saying, shou...\n",
       "9                                      [pastor, the, stooge]\n",
       "10         [called, it, friday, hahahaha, suckers, sold, ...\n",
       "11                     [exp, maxpain, highputoi, highcalloi]\n",
       "12         [day, in, day, out, this, puppy, is, making, p...\n",
       "13                                                        []\n",
       "14                                                        []\n",
       "15         [earnings, august, bmo, aug, straddle, implies...\n",
       "16                                            [buying, more]\n",
       "17         [mms, took, out, the, sls, yet, it, still, won...\n",
       "18         [it, s, not, even, a, downtrend, it, s, a, flu...\n",
       "19         [min, chart, you, can, see, where, the, long, ...\n",
       "20         [you, all, know, that, when, it, drops, in, on...\n",
       "21         [here, s, what, estimize, analysts, believe, w...\n",
       "22                [doesn, t, miss, mu, long, rally, bullish]\n",
       "23         [if, it, was, valued, as, i, meant, but, yes, ...\n",
       "24         [looks, like, this, resistance, will, be, brok...\n",
       "25                            [short, the, high, easy, flip]\n",
       "26                                                  [target]\n",
       "27         [sell, calls, at, sell, equities, at, equities...\n",
       "28         [there, was, even, positive, information, out,...\n",
       "29                                       [going, red, today]\n",
       "                                 ...                        \n",
       "1039101           [just, about, to, test, resistance, again]\n",
       "1039102    [tightening, conditions, lead, to, slo, mo, cr...\n",
       "1039103    [i, follow, some, pretty, big, option, traders...\n",
       "1039104    [beautiful, price, that, i, got, in, thanks, f...\n",
       "1039105                                                   []\n",
       "1039106                           [facebook, is, green, yay]\n",
       "1039107                              [today, s, insight, on]\n",
       "1039108    [day, off, overwatch, all, day, or, day, tradi...\n",
       "1039109    [how, about, another, retailer, yep, still, po...\n",
       "1039110                     [what, color, does, alisa, like]\n",
       "1039111    [when, analysts, cut, price, targets, and, sto...\n",
       "1039112    [estimize, revenue, expectations, are, higher,...\n",
       "1039113    [back, in, the, day, this, would, fall, on, a,...\n",
       "1039114    [altria, group, mo, announces, earnings, eps, ...\n",
       "1039115    [new, insider, filing, on, ravener, robert, d,...\n",
       "1039116                       [outperforms, of, all, stocks]\n",
       "1039117                                 [russia, not, happy]\n",
       "1039118                                            [crushed]\n",
       "1039119    [raise, happened, recently, so, not, much, imp...\n",
       "1039120                        [this, your, entrance, point]\n",
       "1039121    [inverted, hammer, rd, time, is, a, charm, wha...\n",
       "1039122    [m, ago, sec, current, event, s, report, regul...\n",
       "1039123    [don, t, even, play, y, all, know, it, s, gapp...\n",
       "1039124    [i, wonder, why, guy, adami, is, always, beari...\n",
       "1039125          [prepare, yourselves, for, launch, closing]\n",
       "1039126                                                   []\n",
       "1039127                                                   []\n",
       "1039128    [damn, should, of, shorted, after, hours, to, ...\n",
       "1039129                                   [back, to, the, s]\n",
       "1039130                        [lagging, other, tech, today]\n",
       "Name: stocktwit_tweet, Length: 1039131, dtype: object"
      ]
     },
     "execution_count": 244,
     "metadata": {},
     "output_type": "execute_result"
    }
   ],
   "source": [
    "# checking for train data\n",
    "json_data['stocktwit_tweet']"
   ]
  },
  {
   "cell_type": "code",
   "execution_count": 245,
   "metadata": {},
   "outputs": [],
   "source": [
    "# for tokenization the test data\n",
    "from nltk.tokenize import TweetTokenizer\n",
    "token = TweetTokenizer()\n",
    "j_data['stocktwit_tweet'] = j_data['stocktwit_tweet'].apply(token.tokenize)"
   ]
  },
  {
   "cell_type": "code",
   "execution_count": 246,
   "metadata": {},
   "outputs": [
    {
     "data": {
      "text/plain": [
       "0                          [nothing, to, be, exited, about]\n",
       "1         [yall, exhaust, your, buyer, on, first, green,...\n",
       "2                                       [day, traders, day]\n",
       "3                                                        []\n",
       "4         [weak, price, action, so, far, today, don, t, ...\n",
       "5         [continues, to, grow, specifically, in, key, a...\n",
       "6         [if, you, are, not, loading, up, right, now, y...\n",
       "7         [crap, shoot, legit, no, one, knows, if, it, s...\n",
       "8         [how, does, this, chart, look, like, a, setup,...\n",
       "9          [amd, is, like, my, sex, life, its, so, dry, rn]\n",
       "10        [finally, amd, got, its, anti, gravity, techno...\n",
       "11        [seems, like, a, lot, of, todo, to, halt, with...\n",
       "12        [you, know, mark, has, been, dumping, more, sh...\n",
       "13        [remember, this, trumppalo, boycott, aapl, was...\n",
       "14        [positioning, changed, significantly, over, th...\n",
       "15        [keep, in, mind, siggraph, is, next, week, and...\n",
       "16        [closes, above, its, opening, price, after, re...\n",
       "17                                                       []\n",
       "18                           [the, short, killa, continues]\n",
       "19                    [exp, maxpain, highputoi, highcalloi]\n",
       "20        [reported, analysts, heard, them, discuss, quo...\n",
       "21        [here, s, what, estimize, analysts, believe, w...\n",
       "22        [think, tom, we, see, neutral, to, bearish, ac...\n",
       "23        [i, wish, amazon, would, get, the, billion, de...\n",
       "24        [oct, atm, implied, volatility, is, up, stradd...\n",
       "25            [i, could, really, use, your, help, guidance]\n",
       "26        [gilead, sciences, announces, ceo, john, f, mi...\n",
       "27        [there, was, a, k, buyer, on, the, ask, few, m...\n",
       "28        [wait, so, those, that, buy, the, dip, do, the...\n",
       "29        [this, will, go, down, before, hit, again, jus...\n",
       "                                ...                        \n",
       "264992    [insiders, will, sell, this, off, again, moro,...\n",
       "264993    [this, another, tricky, bears, gap, the, price...\n",
       "264994                              [doom, and, gloom, lol]\n",
       "264995              [what, the, f, is, going, back, up, on]\n",
       "264996    [a, reminder, to, all, if, you, suck, at, your...\n",
       "264997             [coming, retail, buys, high, sells, low]\n",
       "264998    [the, industry, average, profit, margin, is, o...\n",
       "264999    [director, quot, harris, parker, quot, just, c...\n",
       "265000    [option, volume, was, x, normal, on, friday, w...\n",
       "265001                                  [stop, fucking, up]\n",
       "265002    [retail_stocks, technical_signals, buy, mfi, p...\n",
       "265003    [najarian, trying, to, pump, it, i, saw, a, st...\n",
       "265004                                               [damn]\n",
       "265005    [how, this, going, to, bump, w, no, fomo, even...\n",
       "265006    [it, wants, before, close, so, glad, i, bought...\n",
       "265007                                                [pos]\n",
       "265008    [listen, to, q, vertex, pharmaceuticals, incor...\n",
       "265009    [i, m, about, to, panic, we, ve, been, below, ...\n",
       "265010    [lol, market, ripping, but, how, about, this, ...\n",
       "265011    [nasdaq, dropping, can, somebody, bring, this,...\n",
       "265012    [two, green, doji, candles, in, a, row, at, ve...\n",
       "265013                              [today, s, insight, on]\n",
       "265014                        [dead, cat, bounce, incoming]\n",
       "265015    [i, ve, been, drinking, on, average, modelos, ...\n",
       "265016    [m, ago, avon, products, appoints, new, vice, ...\n",
       "265017    [recent, bad, pr, made, this, an, easy, pick, ...\n",
       "265018    [here, s, what, estimize, analysts, believe, w...\n",
       "265019    [could, be, at, or, high, s, if, not, will, st...\n",
       "265020                                     [files, form, q]\n",
       "265021    [looks, like, it, is, solidly, supporting, its...\n",
       "Name: stocktwit_tweet, Length: 265022, dtype: object"
      ]
     },
     "execution_count": 246,
     "metadata": {},
     "output_type": "execute_result"
    }
   ],
   "source": [
    "# checking for test data\n",
    "j_data['stocktwit_tweet']"
   ]
  },
  {
   "cell_type": "code",
   "execution_count": null,
   "metadata": {},
   "outputs": [],
   "source": []
  },
  {
   "cell_type": "code",
   "execution_count": 247,
   "metadata": {},
   "outputs": [],
   "source": [
    "# to remove stopwords from the train data\n",
    "from nltk.corpus import stopwords\n",
    "stop = stopwords.words(\"english\")\n",
    "def stop_words(text):\n",
    "    tokens=[]\n",
    "    for token in text:\n",
    "        if token not in stop:\n",
    "            tokens.append(token)\n",
    "    return tokens\n"
   ]
  },
  {
   "cell_type": "code",
   "execution_count": 248,
   "metadata": {},
   "outputs": [],
   "source": [
    "json_data['stocktwit_tweet'] = json_data['stocktwit_tweet'].apply(stop_words)"
   ]
  },
  {
   "cell_type": "code",
   "execution_count": 249,
   "metadata": {},
   "outputs": [
    {
     "data": {
      "text/plain": [
       "['inverted',\n",
       " 'hammer',\n",
       " 'rd',\n",
       " 'time',\n",
       " 'charm',\n",
       " 'think',\n",
       " 'next',\n",
       " 'weeks',\n",
       " 'candle',\n",
       " 'produce']"
      ]
     },
     "execution_count": 249,
     "metadata": {},
     "output_type": "execute_result"
    }
   ],
   "source": [
    "# checking whether stopwords are removed or no from train data by using one row\n",
    "json_data['stocktwit_tweet'][1039121] "
   ]
  },
  {
   "cell_type": "code",
   "execution_count": 250,
   "metadata": {},
   "outputs": [],
   "source": [
    "# to remove stopwords from the test data\n",
    "from nltk.corpus import stopwords\n",
    "stop = stopwords.words(\"english\")\n",
    "def stop_words(text):\n",
    "    tokens=[]\n",
    "    for token in text:\n",
    "        if token not in stop:\n",
    "            tokens.append(token)\n",
    "    return tokens\n"
   ]
  },
  {
   "cell_type": "code",
   "execution_count": 251,
   "metadata": {},
   "outputs": [],
   "source": [
    "j_data['stocktwit_tweet'] =j_data['stocktwit_tweet'].apply(stop_words)"
   ]
  },
  {
   "cell_type": "code",
   "execution_count": 252,
   "metadata": {},
   "outputs": [
    {
     "data": {
      "text/plain": [
       "['yall', 'exhaust', 'buyer', 'first', 'green', 'candle', 'byeeeeee']"
      ]
     },
     "execution_count": 252,
     "metadata": {},
     "output_type": "execute_result"
    }
   ],
   "source": [
    "# # checking whether stopwords are removed or no from test data by using one row\n",
    "j_data['stocktwit_tweet'][1]"
   ]
  },
  {
   "cell_type": "code",
   "execution_count": null,
   "metadata": {},
   "outputs": [],
   "source": []
  },
  {
   "cell_type": "code",
   "execution_count": 253,
   "metadata": {},
   "outputs": [
    {
     "name": "stderr",
     "output_type": "stream",
     "text": [
      "[nltk_data] Downloading package wordnet to\n",
      "[nltk_data]     C:\\Users\\Vyshnavi\\AppData\\Roaming\\nltk_data...\n",
      "[nltk_data]   Package wordnet is already up-to-date!\n"
     ]
    },
    {
     "data": {
      "text/plain": [
       "True"
      ]
     },
     "execution_count": 253,
     "metadata": {},
     "output_type": "execute_result"
    }
   ],
   "source": [
    "# performing lematization on train data\n",
    "import nltk\n",
    "nltk.download('wordnet')"
   ]
  },
  {
   "cell_type": "code",
   "execution_count": 254,
   "metadata": {},
   "outputs": [],
   "source": [
    "from nltk.stem import WordNetLemmatizer\n",
    "lemiti = WordNetLemmatizer()\n",
    "\n",
    "def lemmatizer(text):\n",
    "    text = \" \".join([lemiti.lemmatize(w,\"v\") for w in text])\n",
    "    return text\n",
    "\n",
    "json_data['stocktwit_tweet'] = json_data['stocktwit_tweet'].apply(lemmatizer)"
   ]
  },
  {
   "cell_type": "code",
   "execution_count": 255,
   "metadata": {},
   "outputs": [
    {
     "data": {
      "text/plain": [
       "0                 go hesitate however chart stable go upward\n",
       "1                          despite china trade war hold well\n",
       "2                                                        wtf\n",
       "3          new insider file muller klaus peter transactio...\n",
       "4                          bounce tommorrow right thing gtfo\n",
       "5                                        usual red every day\n",
       "6                    unitedhealth group go ex dividend today\n",
       "7                                                let see hit\n",
       "8                                       bet also one say smh\n",
       "9                                              pastor stooge\n",
       "10                  call friday hahahaha suckers sell friday\n",
       "11                          exp maxpain highputoi highcalloi\n",
       "12                            day day puppy make people rich\n",
       "13                                                          \n",
       "14                                                          \n",
       "15         earn august bmo aug straddle imply move vs qtr...\n",
       "16                                                       buy\n",
       "17                         mms take sls yet still bounce pos\n",
       "18               even downtrend flush almost feel deliberate\n",
       "19         min chart see long term support trend line dow...\n",
       "20             know drop one day never really come back know\n",
       "21         estimize analysts believe report q revenue rep...\n",
       "22                                miss mu long rally bullish\n",
       "23                          value mean yes hopefully get day\n",
       "24           look like resistance break might prepare b soon\n",
       "25                                      short high easy flip\n",
       "26                                                    target\n",
       "27                     sell call sell equities equities safe\n",
       "28         even positive information industrial productiv...\n",
       "29                                              go red today\n",
       "                                 ...                        \n",
       "1039101                                      test resistance\n",
       "1039102    tighten condition lead slo mo credit crunch jp...\n",
       "1039103    follow pretty big option traders fact quot get...\n",
       "1039104                 beautiful price get thank lovely dip\n",
       "1039105                                                     \n",
       "1039106                                   facebook green yay\n",
       "1039107                                        today insight\n",
       "1039108        day overwatch day day trade margin hmmmmmmmmm\n",
       "1039109                   another retailer yep still popular\n",
       "1039110                                     color alisa like\n",
       "1039111    analysts cut price target stock drop price tar...\n",
       "1039112    estimize revenue expectations higher wall stre...\n",
       "1039113    back day would fall day barely even red bless ...\n",
       "1039114    altria group mo announce earn eps beat estimat...\n",
       "1039115     new insider file ravener robert transaction code\n",
       "1039116                                     outperform stock\n",
       "1039117                                         russia happy\n",
       "1039118                                                crush\n",
       "1039119    raise happen recently much impact upcoming q g...\n",
       "1039120                                       entrance point\n",
       "1039121    invert hammer rd time charm think next weeks c...\n",
       "1039122    ago sec current event report regulation fd dis...\n",
       "1039123                            even play know gap monday\n",
       "1039124    wonder guy adami always bearish stock listen p...\n",
       "1039125                                 prepare launch close\n",
       "1039126                                                     \n",
       "1039127                                                     \n",
       "1039128                                damn short hours late\n",
       "1039129                                                 back\n",
       "1039130                                       lag tech today\n",
       "Name: stocktwit_tweet, Length: 1039131, dtype: object"
      ]
     },
     "execution_count": 255,
     "metadata": {},
     "output_type": "execute_result"
    }
   ],
   "source": [
    "# checking performance of lematization for train data\n",
    "json_data['stocktwit_tweet']"
   ]
  },
  {
   "cell_type": "code",
   "execution_count": 256,
   "metadata": {},
   "outputs": [
    {
     "name": "stderr",
     "output_type": "stream",
     "text": [
      "[nltk_data] Downloading package wordnet to\n",
      "[nltk_data]     C:\\Users\\Vyshnavi\\AppData\\Roaming\\nltk_data...\n",
      "[nltk_data]   Package wordnet is already up-to-date!\n"
     ]
    },
    {
     "data": {
      "text/plain": [
       "True"
      ]
     },
     "execution_count": 256,
     "metadata": {},
     "output_type": "execute_result"
    }
   ],
   "source": [
    "# performing lematization on test data\n",
    "import nltk\n",
    "nltk.download('wordnet')"
   ]
  },
  {
   "cell_type": "code",
   "execution_count": 257,
   "metadata": {},
   "outputs": [],
   "source": [
    "from nltk.stem import WordNetLemmatizer\n",
    "lemiti = WordNetLemmatizer()\n",
    "\n",
    "def lemmatizer(text):\n",
    "    text = \" \".join([lemiti.lemmatize(w,\"v\") for w in text])\n",
    "    return text\n",
    "\n",
    "j_data['stocktwit_tweet'] = j_data['stocktwit_tweet'].apply(lemmatizer)"
   ]
  },
  {
   "cell_type": "code",
   "execution_count": 258,
   "metadata": {},
   "outputs": [
    {
     "data": {
      "text/plain": [
       "0                                              nothing exit\n",
       "1            yall exhaust buyer first green candle byeeeeee\n",
       "2                                           day traders day\n",
       "3                                                          \n",
       "4         weak price action far today afraid go short go...\n",
       "5         continue grow specifically key areas like clou...\n",
       "6                                       load right clueless\n",
       "7         crap shoot legit one know go stop pretend er g...\n",
       "8                  chart look like setup dip go turtle pace\n",
       "9                                  amd like sex life dry rn\n",
       "10               finally amd get anti gravity technology nm\n",
       "11        seem like lot todo halt minutes leave trade da...\n",
       "12        know mark dump share ever buy right also insid...\n",
       "13        remember trumppalo boycott aapl bull happy loo...\n",
       "14        position change significantly past month overw...\n",
       "15        keep mind siggraph next week amd go showcasing...\n",
       "16             close open price recover early sell pressure\n",
       "17                                                         \n",
       "18                                     short killa continue\n",
       "19                         exp maxpain highputoi highcalloi\n",
       "20        report analysts hear discuss quot industrial w...\n",
       "21        estimize analysts believe report q revenue rep...\n",
       "22        think tom see neutral bearish action touch ear...\n",
       "23        wish amazon would get billion dept defense con...\n",
       "24        oct atm imply volatility straddle imply move e...\n",
       "25                           could really use help guidance\n",
       "26        gilead sciences announce ceo john f milligan step\n",
       "27                              k buyer ask minutes earlier\n",
       "28                           wait buy dip buy askingafriend\n",
       "29                           go hit like eat much take shit\n",
       "                                ...                        \n",
       "264992                         insiders sell moro guarantee\n",
       "264993    another tricky bear gap price bull bring back ...\n",
       "264994                                       doom gloom lol\n",
       "264995                                            f go back\n",
       "264996    reminder suck job get political something cont...\n",
       "264997                        come retail buy high sell low\n",
       "264998    industry average profit margin outperform indu...\n",
       "264999    director quot harris parker quot cash options ...\n",
       "265000    option volume x normal friday contract call vo...\n",
       "265001                                            stop fuck\n",
       "265002    retail_stocks technical_signals buy mfi prob e...\n",
       "265003                  najarian try pump saw straddle call\n",
       "265004                                                 damn\n",
       "265005     go bump w fomo even rh buyers know facebook dead\n",
       "265006    want close glad buy dip weeks back great entry...\n",
       "265007                                                  pos\n",
       "265008    listen q vertex pharmaceuticals incorporate ea...\n",
       "265009                                   panic minutes good\n",
       "265010    lol market rip stock permabulls celebrate yuuu...\n",
       "265011              nasdaq drop somebody bring back reality\n",
       "265012    two green doji candle row verify support good ...\n",
       "265013                                        today insight\n",
       "265014                             dead cat bounce incoming\n",
       "265015    drink average modelos coronas since let go nee...\n",
       "265016    ago avon products appoint new vice president t...\n",
       "265017    recent bad pr make easy pick load thank two id...\n",
       "265018    estimize analysts believe report q eps report bmo\n",
       "265019    could high still get later year either way mar...\n",
       "265020                                          file form q\n",
       "265021    look like solidly support gain look upside nex...\n",
       "Name: stocktwit_tweet, Length: 265022, dtype: object"
      ]
     },
     "execution_count": 258,
     "metadata": {},
     "output_type": "execute_result"
    }
   ],
   "source": [
    "# checking the performance of lematization for test data\n",
    "j_data['stocktwit_tweet']"
   ]
  },
  {
   "cell_type": "code",
   "execution_count": 259,
   "metadata": {},
   "outputs": [
    {
     "data": {
      "text/html": [
       "<div>\n",
       "<style scoped>\n",
       "    .dataframe tbody tr th:only-of-type {\n",
       "        vertical-align: middle;\n",
       "    }\n",
       "\n",
       "    .dataframe tbody tr th {\n",
       "        vertical-align: top;\n",
       "    }\n",
       "\n",
       "    .dataframe thead th {\n",
       "        text-align: right;\n",
       "    }\n",
       "</style>\n",
       "<table border=\"1\" class=\"dataframe\">\n",
       "  <thead>\n",
       "    <tr style=\"text-align: right;\">\n",
       "      <th></th>\n",
       "      <th>sentiment_score</th>\n",
       "      <th>stocktwit_tweet</th>\n",
       "      <th>ticker</th>\n",
       "      <th>date</th>\n",
       "      <th>time</th>\n",
       "    </tr>\n",
       "  </thead>\n",
       "  <tbody>\n",
       "    <tr>\n",
       "      <th>0</th>\n",
       "      <td>3</td>\n",
       "      <td>go hesitate however chart stable go upward</td>\n",
       "      <td>$AMD</td>\n",
       "      <td>2018-09-19</td>\n",
       "      <td>18:38:28</td>\n",
       "    </tr>\n",
       "    <tr>\n",
       "      <th>1</th>\n",
       "      <td>3</td>\n",
       "      <td>despite china trade war hold well</td>\n",
       "      <td>$CAT</td>\n",
       "      <td>2018-10-09</td>\n",
       "      <td>03:51:06</td>\n",
       "    </tr>\n",
       "    <tr>\n",
       "      <th>2</th>\n",
       "      <td>2</td>\n",
       "      <td>wtf</td>\n",
       "      <td>$AVGO</td>\n",
       "      <td>2018-07-12</td>\n",
       "      <td>13:35:32</td>\n",
       "    </tr>\n",
       "    <tr>\n",
       "      <th>3</th>\n",
       "      <td>2</td>\n",
       "      <td>new insider file muller klaus peter transactio...</td>\n",
       "      <td>$PH</td>\n",
       "      <td>2018-07-19</td>\n",
       "      <td>03:32:50</td>\n",
       "    </tr>\n",
       "    <tr>\n",
       "      <th>4</th>\n",
       "      <td>3</td>\n",
       "      <td>bounce tommorrow right thing gtfo</td>\n",
       "      <td>$FB</td>\n",
       "      <td>2018-08-23</td>\n",
       "      <td>19:07:54</td>\n",
       "    </tr>\n",
       "  </tbody>\n",
       "</table>\n",
       "</div>"
      ],
      "text/plain": [
       "   sentiment_score                                    stocktwit_tweet ticker  \\\n",
       "0                3         go hesitate however chart stable go upward   $AMD   \n",
       "1                3                  despite china trade war hold well   $CAT   \n",
       "2                2                                                wtf  $AVGO   \n",
       "3                2  new insider file muller klaus peter transactio...    $PH   \n",
       "4                3                  bounce tommorrow right thing gtfo    $FB   \n",
       "\n",
       "         date      time  \n",
       "0  2018-09-19  18:38:28  \n",
       "1  2018-10-09  03:51:06  \n",
       "2  2018-07-12  13:35:32  \n",
       "3  2018-07-19  03:32:50  \n",
       "4  2018-08-23  19:07:54  "
      ]
     },
     "execution_count": 259,
     "metadata": {},
     "output_type": "execute_result"
    }
   ],
   "source": [
    "# changing the ticker coloumn to lower case and removing the dollars for easy merging for train data\n",
    "json_data.head()"
   ]
  },
  {
   "cell_type": "code",
   "execution_count": 260,
   "metadata": {},
   "outputs": [],
   "source": [
    "json_data['ticker'] = json_data['ticker'].apply(lambda x:x.replace('$',\"\")).str.lower()"
   ]
  },
  {
   "cell_type": "code",
   "execution_count": 261,
   "metadata": {},
   "outputs": [
    {
     "data": {
      "text/html": [
       "<div>\n",
       "<style scoped>\n",
       "    .dataframe tbody tr th:only-of-type {\n",
       "        vertical-align: middle;\n",
       "    }\n",
       "\n",
       "    .dataframe tbody tr th {\n",
       "        vertical-align: top;\n",
       "    }\n",
       "\n",
       "    .dataframe thead th {\n",
       "        text-align: right;\n",
       "    }\n",
       "</style>\n",
       "<table border=\"1\" class=\"dataframe\">\n",
       "  <thead>\n",
       "    <tr style=\"text-align: right;\">\n",
       "      <th></th>\n",
       "      <th>sentiment_score</th>\n",
       "      <th>stocktwit_tweet</th>\n",
       "      <th>ticker</th>\n",
       "      <th>date</th>\n",
       "      <th>time</th>\n",
       "    </tr>\n",
       "  </thead>\n",
       "  <tbody>\n",
       "    <tr>\n",
       "      <th>0</th>\n",
       "      <td>3</td>\n",
       "      <td>go hesitate however chart stable go upward</td>\n",
       "      <td>amd</td>\n",
       "      <td>2018-09-19</td>\n",
       "      <td>18:38:28</td>\n",
       "    </tr>\n",
       "    <tr>\n",
       "      <th>1</th>\n",
       "      <td>3</td>\n",
       "      <td>despite china trade war hold well</td>\n",
       "      <td>cat</td>\n",
       "      <td>2018-10-09</td>\n",
       "      <td>03:51:06</td>\n",
       "    </tr>\n",
       "    <tr>\n",
       "      <th>2</th>\n",
       "      <td>2</td>\n",
       "      <td>wtf</td>\n",
       "      <td>avgo</td>\n",
       "      <td>2018-07-12</td>\n",
       "      <td>13:35:32</td>\n",
       "    </tr>\n",
       "    <tr>\n",
       "      <th>3</th>\n",
       "      <td>2</td>\n",
       "      <td>new insider file muller klaus peter transactio...</td>\n",
       "      <td>ph</td>\n",
       "      <td>2018-07-19</td>\n",
       "      <td>03:32:50</td>\n",
       "    </tr>\n",
       "    <tr>\n",
       "      <th>4</th>\n",
       "      <td>3</td>\n",
       "      <td>bounce tommorrow right thing gtfo</td>\n",
       "      <td>fb</td>\n",
       "      <td>2018-08-23</td>\n",
       "      <td>19:07:54</td>\n",
       "    </tr>\n",
       "  </tbody>\n",
       "</table>\n",
       "</div>"
      ],
      "text/plain": [
       "   sentiment_score                                    stocktwit_tweet ticker  \\\n",
       "0                3         go hesitate however chart stable go upward    amd   \n",
       "1                3                  despite china trade war hold well    cat   \n",
       "2                2                                                wtf   avgo   \n",
       "3                2  new insider file muller klaus peter transactio...     ph   \n",
       "4                3                  bounce tommorrow right thing gtfo     fb   \n",
       "\n",
       "         date      time  \n",
       "0  2018-09-19  18:38:28  \n",
       "1  2018-10-09  03:51:06  \n",
       "2  2018-07-12  13:35:32  \n",
       "3  2018-07-19  03:32:50  \n",
       "4  2018-08-23  19:07:54  "
      ]
     },
     "execution_count": 261,
     "metadata": {},
     "output_type": "execute_result"
    }
   ],
   "source": [
    "json_data.head()"
   ]
  },
  {
   "cell_type": "code",
   "execution_count": 262,
   "metadata": {},
   "outputs": [
    {
     "data": {
      "text/plain": [
       "sentiment_score     int64\n",
       "stocktwit_tweet    object\n",
       "ticker             object\n",
       "date               object\n",
       "time               object\n",
       "dtype: object"
      ]
     },
     "execution_count": 262,
     "metadata": {},
     "output_type": "execute_result"
    }
   ],
   "source": [
    "# checking the datatype of train data and changing the date coloumn to datetime type\n",
    "json_data.dtypes"
   ]
  },
  {
   "cell_type": "code",
   "execution_count": 263,
   "metadata": {},
   "outputs": [],
   "source": [
    "import datetime as datetime\n",
    "json_data['date']=pd.to_datetime(json_data['date'])"
   ]
  },
  {
   "cell_type": "code",
   "execution_count": 264,
   "metadata": {},
   "outputs": [
    {
     "data": {
      "text/plain": [
       "sentiment_score             int64\n",
       "stocktwit_tweet            object\n",
       "ticker                     object\n",
       "date               datetime64[ns]\n",
       "time                       object\n",
       "dtype: object"
      ]
     },
     "execution_count": 264,
     "metadata": {},
     "output_type": "execute_result"
    }
   ],
   "source": [
    "json_data.dtypes"
   ]
  },
  {
   "cell_type": "code",
   "execution_count": 265,
   "metadata": {},
   "outputs": [
    {
     "data": {
      "text/html": [
       "<div>\n",
       "<style scoped>\n",
       "    .dataframe tbody tr th:only-of-type {\n",
       "        vertical-align: middle;\n",
       "    }\n",
       "\n",
       "    .dataframe tbody tr th {\n",
       "        vertical-align: top;\n",
       "    }\n",
       "\n",
       "    .dataframe thead th {\n",
       "        text-align: right;\n",
       "    }\n",
       "</style>\n",
       "<table border=\"1\" class=\"dataframe\">\n",
       "  <thead>\n",
       "    <tr style=\"text-align: right;\">\n",
       "      <th></th>\n",
       "      <th>stocktwit_tweet</th>\n",
       "      <th>ticker</th>\n",
       "      <th>date</th>\n",
       "      <th>time</th>\n",
       "    </tr>\n",
       "  </thead>\n",
       "  <tbody>\n",
       "    <tr>\n",
       "      <th>0</th>\n",
       "      <td>nothing exit</td>\n",
       "      <td>$CELG</td>\n",
       "      <td>2018-10-25</td>\n",
       "      <td>14:26:16</td>\n",
       "    </tr>\n",
       "    <tr>\n",
       "      <th>1</th>\n",
       "      <td>yall exhaust buyer first green candle byeeeeee</td>\n",
       "      <td>$AMD</td>\n",
       "      <td>2018-07-13</td>\n",
       "      <td>13:50:39</td>\n",
       "    </tr>\n",
       "    <tr>\n",
       "      <th>2</th>\n",
       "      <td>day traders day</td>\n",
       "      <td>$AMD</td>\n",
       "      <td>2018-09-25</td>\n",
       "      <td>19:10:54</td>\n",
       "    </tr>\n",
       "    <tr>\n",
       "      <th>3</th>\n",
       "      <td></td>\n",
       "      <td>$CBS</td>\n",
       "      <td>2018-07-27</td>\n",
       "      <td>22:45:48</td>\n",
       "    </tr>\n",
       "    <tr>\n",
       "      <th>4</th>\n",
       "      <td>weak price action far today afraid go short go...</td>\n",
       "      <td>$MU</td>\n",
       "      <td>2018-07-31</td>\n",
       "      <td>14:59:06</td>\n",
       "    </tr>\n",
       "  </tbody>\n",
       "</table>\n",
       "</div>"
      ],
      "text/plain": [
       "                                     stocktwit_tweet ticker        date  \\\n",
       "0                                       nothing exit  $CELG  2018-10-25   \n",
       "1     yall exhaust buyer first green candle byeeeeee   $AMD  2018-07-13   \n",
       "2                                    day traders day   $AMD  2018-09-25   \n",
       "3                                                      $CBS  2018-07-27   \n",
       "4  weak price action far today afraid go short go...    $MU  2018-07-31   \n",
       "\n",
       "       time  \n",
       "0  14:26:16  \n",
       "1  13:50:39  \n",
       "2  19:10:54  \n",
       "3  22:45:48  \n",
       "4  14:59:06  "
      ]
     },
     "execution_count": 265,
     "metadata": {},
     "output_type": "execute_result"
    }
   ],
   "source": [
    "# changing the ticker coloumn to lower case and removing the dollars for easy merging for test data\n",
    "j_data.head()"
   ]
  },
  {
   "cell_type": "code",
   "execution_count": 266,
   "metadata": {},
   "outputs": [],
   "source": [
    "j_data['ticker'] = j_data['ticker'].apply(lambda x:x.replace('$',\"\")).str.lower()"
   ]
  },
  {
   "cell_type": "code",
   "execution_count": 267,
   "metadata": {},
   "outputs": [
    {
     "data": {
      "text/html": [
       "<div>\n",
       "<style scoped>\n",
       "    .dataframe tbody tr th:only-of-type {\n",
       "        vertical-align: middle;\n",
       "    }\n",
       "\n",
       "    .dataframe tbody tr th {\n",
       "        vertical-align: top;\n",
       "    }\n",
       "\n",
       "    .dataframe thead th {\n",
       "        text-align: right;\n",
       "    }\n",
       "</style>\n",
       "<table border=\"1\" class=\"dataframe\">\n",
       "  <thead>\n",
       "    <tr style=\"text-align: right;\">\n",
       "      <th></th>\n",
       "      <th>stocktwit_tweet</th>\n",
       "      <th>ticker</th>\n",
       "      <th>date</th>\n",
       "      <th>time</th>\n",
       "    </tr>\n",
       "  </thead>\n",
       "  <tbody>\n",
       "    <tr>\n",
       "      <th>0</th>\n",
       "      <td>nothing exit</td>\n",
       "      <td>celg</td>\n",
       "      <td>2018-10-25</td>\n",
       "      <td>14:26:16</td>\n",
       "    </tr>\n",
       "    <tr>\n",
       "      <th>1</th>\n",
       "      <td>yall exhaust buyer first green candle byeeeeee</td>\n",
       "      <td>amd</td>\n",
       "      <td>2018-07-13</td>\n",
       "      <td>13:50:39</td>\n",
       "    </tr>\n",
       "    <tr>\n",
       "      <th>2</th>\n",
       "      <td>day traders day</td>\n",
       "      <td>amd</td>\n",
       "      <td>2018-09-25</td>\n",
       "      <td>19:10:54</td>\n",
       "    </tr>\n",
       "    <tr>\n",
       "      <th>3</th>\n",
       "      <td></td>\n",
       "      <td>cbs</td>\n",
       "      <td>2018-07-27</td>\n",
       "      <td>22:45:48</td>\n",
       "    </tr>\n",
       "    <tr>\n",
       "      <th>4</th>\n",
       "      <td>weak price action far today afraid go short go...</td>\n",
       "      <td>mu</td>\n",
       "      <td>2018-07-31</td>\n",
       "      <td>14:59:06</td>\n",
       "    </tr>\n",
       "  </tbody>\n",
       "</table>\n",
       "</div>"
      ],
      "text/plain": [
       "                                     stocktwit_tweet ticker        date  \\\n",
       "0                                       nothing exit   celg  2018-10-25   \n",
       "1     yall exhaust buyer first green candle byeeeeee    amd  2018-07-13   \n",
       "2                                    day traders day    amd  2018-09-25   \n",
       "3                                                       cbs  2018-07-27   \n",
       "4  weak price action far today afraid go short go...     mu  2018-07-31   \n",
       "\n",
       "       time  \n",
       "0  14:26:16  \n",
       "1  13:50:39  \n",
       "2  19:10:54  \n",
       "3  22:45:48  \n",
       "4  14:59:06  "
      ]
     },
     "execution_count": 267,
     "metadata": {},
     "output_type": "execute_result"
    }
   ],
   "source": [
    "j_data.head()"
   ]
  },
  {
   "cell_type": "code",
   "execution_count": 268,
   "metadata": {},
   "outputs": [
    {
     "data": {
      "text/plain": [
       "stocktwit_tweet    object\n",
       "ticker             object\n",
       "date               object\n",
       "time               object\n",
       "dtype: object"
      ]
     },
     "execution_count": 268,
     "metadata": {},
     "output_type": "execute_result"
    }
   ],
   "source": [
    "j_data.dtypes"
   ]
  },
  {
   "cell_type": "code",
   "execution_count": 269,
   "metadata": {},
   "outputs": [],
   "source": [
    "# checking the datatype of test data and changing the date coloumn to datetime type\n",
    "import datetime as datetime\n",
    "j_data['date']=pd.to_datetime(j_data['date'])"
   ]
  },
  {
   "cell_type": "code",
   "execution_count": 270,
   "metadata": {},
   "outputs": [
    {
     "data": {
      "text/plain": [
       "stocktwit_tweet            object\n",
       "ticker                     object\n",
       "date               datetime64[ns]\n",
       "time                       object\n",
       "dtype: object"
      ]
     },
     "execution_count": 270,
     "metadata": {},
     "output_type": "execute_result"
    }
   ],
   "source": [
    "j_data.dtypes"
   ]
  },
  {
   "cell_type": "code",
   "execution_count": null,
   "metadata": {},
   "outputs": [],
   "source": []
  },
  {
   "cell_type": "markdown",
   "metadata": {},
   "source": [
    "### TRAIN AND VALIDATION SPLIT "
   ]
  },
  {
   "cell_type": "code",
   "execution_count": 271,
   "metadata": {},
   "outputs": [],
   "source": [
    "from sklearn.model_selection import train_test_split \n",
    "x=json_data['stocktwit_tweet']\n",
    "y=json_data['sentiment_score']\n",
    "x_train, x_validation, y_train, y_validation = train_test_split(json_data['stocktwit_tweet'],json_data['sentiment_score'],test_size=0.3,random_state=1234)"
   ]
  },
  {
   "cell_type": "code",
   "execution_count": 281,
   "metadata": {},
   "outputs": [
    {
     "data": {
      "text/plain": [
       "(727391,)"
      ]
     },
     "execution_count": 281,
     "metadata": {},
     "output_type": "execute_result"
    }
   ],
   "source": [
    "x_train.shape"
   ]
  },
  {
   "cell_type": "code",
   "execution_count": 274,
   "metadata": {},
   "outputs": [
    {
     "data": {
      "text/plain": [
       "(727391,)"
      ]
     },
     "execution_count": 274,
     "metadata": {},
     "output_type": "execute_result"
    }
   ],
   "source": [
    "y_train.shape"
   ]
  },
  {
   "cell_type": "code",
   "execution_count": 282,
   "metadata": {},
   "outputs": [
    {
     "data": {
      "text/plain": [
       "(311740,)"
      ]
     },
     "execution_count": 282,
     "metadata": {},
     "output_type": "execute_result"
    }
   ],
   "source": [
    "x_validation.shape"
   ]
  },
  {
   "cell_type": "code",
   "execution_count": 283,
   "metadata": {},
   "outputs": [
    {
     "data": {
      "text/plain": [
       "(311740,)"
      ]
     },
     "execution_count": 283,
     "metadata": {},
     "output_type": "execute_result"
    }
   ],
   "source": [
    "y_validation.shape"
   ]
  },
  {
   "cell_type": "markdown",
   "metadata": {},
   "source": [
    "###                                    COUNT VECTORIZATION"
   ]
  },
  {
   "cell_type": "code",
   "execution_count": 275,
   "metadata": {},
   "outputs": [],
   "source": [
    " from sklearn.feature_extraction.text import CountVectorizer"
   ]
  },
  {
   "cell_type": "code",
   "execution_count": 276,
   "metadata": {},
   "outputs": [
    {
     "data": {
      "text/plain": [
       "(727391, 62133)"
      ]
     },
     "execution_count": 276,
     "metadata": {},
     "output_type": "execute_result"
    }
   ],
   "source": [
    "# Lets construct count vector  based on the train documents\n",
    "cv= CountVectorizer(stop_words='english',lowercase=True)\n",
    "x_train_cvt = cv.fit_transform(x_train)\n",
    "x_train_cvt.shape"
   ]
  },
  {
   "cell_type": "code",
   "execution_count": 277,
   "metadata": {},
   "outputs": [
    {
     "data": {
      "text/plain": [
       "(311740, 62133)"
      ]
     },
     "execution_count": 277,
     "metadata": {},
     "output_type": "execute_result"
    }
   ],
   "source": [
    "# Get the count vector for validation documents\n",
    "x_validation_cvt = cv.transform(x_validation)\n",
    "x_validation_cvt.shape"
   ]
  },
  {
   "cell_type": "code",
   "execution_count": 278,
   "metadata": {},
   "outputs": [
    {
     "data": {
      "text/plain": [
       "scipy.sparse.csr.csr_matrix"
      ]
     },
     "execution_count": 278,
     "metadata": {},
     "output_type": "execute_result"
    }
   ],
   "source": [
    "type(x_train_cvt)"
   ]
  },
  {
   "cell_type": "markdown",
   "metadata": {},
   "source": [
    "## MODEL BUILDING ON JSON FILE USING COUNT VECTORIZATION"
   ]
  },
  {
   "cell_type": "markdown",
   "metadata": {},
   "source": [
    "### LOGISTIC REGRESSION"
   ]
  },
  {
   "cell_type": "code",
   "execution_count": 279,
   "metadata": {},
   "outputs": [
    {
     "name": "stderr",
     "output_type": "stream",
     "text": [
      "C:\\Users\\Vyshnavi\\Anaconda3\\lib\\site-packages\\sklearn\\linear_model\\logistic.py:432: FutureWarning: Default solver will be changed to 'lbfgs' in 0.22. Specify a solver to silence this warning.\n",
      "  FutureWarning)\n",
      "C:\\Users\\Vyshnavi\\Anaconda3\\lib\\site-packages\\sklearn\\linear_model\\logistic.py:469: FutureWarning: Default multi_class will be changed to 'auto' in 0.22. Specify the multi_class option to silence this warning.\n",
      "  \"this warning.\", FutureWarning)\n"
     ]
    },
    {
     "name": "stdout",
     "output_type": "stream",
     "text": [
      "Train_classification Report:\n",
      "               precision    recall  f1-score   support\n",
      "\n",
      "           0       0.68      0.55      0.61     64549\n",
      "           1       0.63      0.37      0.46     84586\n",
      "           2       0.67      0.90      0.77    324720\n",
      "           3       0.59      0.38      0.46    145859\n",
      "           4       0.67      0.61      0.64    107677\n",
      "\n",
      "    accuracy                           0.66    727391\n",
      "   macro avg       0.65      0.56      0.59    727391\n",
      "weighted avg       0.65      0.66      0.64    727391\n",
      "\n",
      "Test_classification Report:\n",
      "               precision    recall  f1-score   support\n",
      "\n",
      "           0       0.65      0.52      0.57     27473\n",
      "           1       0.58      0.33      0.42     36185\n",
      "           2       0.66      0.89      0.76    139682\n",
      "           3       0.54      0.34      0.42     62172\n",
      "           4       0.64      0.58      0.61     46228\n",
      "\n",
      "    accuracy                           0.64    311740\n",
      "   macro avg       0.61      0.53      0.56    311740\n",
      "weighted avg       0.62      0.64      0.61    311740\n",
      "\n",
      "Train Accuracy is  0.6590458226730878\n",
      "Test Accuracy is  0.6358151023288638\n"
     ]
    }
   ],
   "source": [
    "from sklearn import linear_model\n",
    "from sklearn.metrics import classification_report,accuracy_score\n",
    "\n",
    "logisticreg_train = linear_model.LogisticRegression()\n",
    "classifier = logisticreg_train.fit(x_train_cvt, y_train) #fit logreg model on train data\n",
    "\n",
    "pred_train=classifier.predict(x_train_cvt) # predict on train data\n",
    "pred_validation=classifier.predict(x_validation_cvt) # predict on test data\n",
    "\n",
    "\n",
    "print(\"Train_classification Report:\\n\", classification_report(y_train,pred_train))\n",
    "print(\"Test_classification Report:\\n\",classification_report(y_validation,pred_validation))\n",
    "\n",
    "print(\"Train Accuracy is \",accuracy_score(y_train,pred_train))\n",
    "print(\"Test Accuracy is \",accuracy_score(y_validation,pred_validation))"
   ]
  },
  {
   "cell_type": "code",
   "execution_count": 284,
   "metadata": {},
   "outputs": [
    {
     "name": "stdout",
     "output_type": "stream",
     "text": [
      "Requirement already satisfied: mlxtend in c:\\users\\vyshnavi\\anaconda3\\lib\\site-packages (0.17.0)\n",
      "Requirement already satisfied: numpy>=1.16.2 in c:\\users\\vyshnavi\\anaconda3\\lib\\site-packages (from mlxtend) (1.16.4)\n",
      "Requirement already satisfied: matplotlib>=3.0.0 in c:\\users\\vyshnavi\\anaconda3\\lib\\site-packages (from mlxtend) (3.1.0)\n",
      "Requirement already satisfied: pandas>=0.24.2 in c:\\users\\vyshnavi\\anaconda3\\lib\\site-packages (from mlxtend) (0.24.2)\n",
      "Requirement already satisfied: setuptools in c:\\users\\vyshnavi\\anaconda3\\lib\\site-packages (from mlxtend) (41.0.1)\n",
      "Requirement already satisfied: joblib>=0.13.2 in c:\\users\\vyshnavi\\anaconda3\\lib\\site-packages (from mlxtend) (0.13.2)\n",
      "Requirement already satisfied: scikit-learn>=0.20.3 in c:\\users\\vyshnavi\\anaconda3\\lib\\site-packages (from mlxtend) (0.21.2)\n",
      "Requirement already satisfied: scipy>=1.2.1 in c:\\users\\vyshnavi\\anaconda3\\lib\\site-packages (from mlxtend) (1.2.1)\n",
      "Requirement already satisfied: cycler>=0.10 in c:\\users\\vyshnavi\\anaconda3\\lib\\site-packages (from matplotlib>=3.0.0->mlxtend) (0.10.0)\n",
      "Requirement already satisfied: kiwisolver>=1.0.1 in c:\\users\\vyshnavi\\anaconda3\\lib\\site-packages (from matplotlib>=3.0.0->mlxtend) (1.1.0)\n",
      "Requirement already satisfied: pyparsing!=2.0.4,!=2.1.2,!=2.1.6,>=2.0.1 in c:\\users\\vyshnavi\\anaconda3\\lib\\site-packages (from matplotlib>=3.0.0->mlxtend) (2.4.0)\n",
      "Requirement already satisfied: python-dateutil>=2.1 in c:\\users\\vyshnavi\\anaconda3\\lib\\site-packages (from matplotlib>=3.0.0->mlxtend) (2.8.0)\n",
      "Requirement already satisfied: pytz>=2011k in c:\\users\\vyshnavi\\anaconda3\\lib\\site-packages (from pandas>=0.24.2->mlxtend) (2019.1)\n",
      "Requirement already satisfied: six in c:\\users\\vyshnavi\\anaconda3\\lib\\site-packages (from cycler>=0.10->matplotlib>=3.0.0->mlxtend) (1.12.0)\n"
     ]
    },
    {
     "name": "stderr",
     "output_type": "stream",
     "text": [
      "C:\\Users\\Vyshnavi\\Anaconda3\\lib\\site-packages\\sklearn\\svm\\base.py:929: ConvergenceWarning: Liblinear failed to converge, increase the number of iterations.\n",
      "  \"the number of iterations.\", ConvergenceWarning)\n"
     ]
    },
    {
     "data": {
      "text/plain": [
       "([0.3031661144640427,\n",
       "  0.3211275931756004,\n",
       "  0.32637237245494166,\n",
       "  0.3320673916330992,\n",
       "  0.333826420489696,\n",
       "  0.3362845241204856,\n",
       "  0.3376750141896762,\n",
       "  0.3389911189320722,\n",
       "  0.33979937401760635,\n",
       "  0.3409541773269122],\n",
       " [0.37972348752165264,\n",
       "  0.3742253159684352,\n",
       "  0.370610123821133,\n",
       "  0.3687913004426766,\n",
       "  0.3675274267017386,\n",
       "  0.3660710848784243,\n",
       "  0.36551934304227884,\n",
       "  0.3649964714184898,\n",
       "  0.364143196253288,\n",
       "  0.3641848976711362])"
      ]
     },
     "execution_count": 284,
     "metadata": {},
     "output_type": "execute_result"
    },
    {
     "data": {
      "image/png": "[encoded data removed]",
      "text/plain": [
       "<Figure size 432x288 with 1 Axes>"
      ]
     },
     "metadata": {},
     "output_type": "display_data"
    }
   ],
   "source": [
    "!pip install mlxtend\n",
    "\n",
    "from mlxtend.plotting import plot_learning_curves\n",
    "plot_learning_curves(x_train_cvt, y_train,x_validation_cvt, y_validation, classifier)"
   ]
  },
  {
   "cell_type": "code",
   "execution_count": null,
   "metadata": {},
   "outputs": [],
   "source": []
  },
  {
   "cell_type": "markdown",
   "metadata": {},
   "source": [
    "### NAVIE BAYE'S "
   ]
  },
  {
   "cell_type": "code",
   "execution_count": 285,
   "metadata": {},
   "outputs": [
    {
     "name": "stdout",
     "output_type": "stream",
     "text": [
      "              precision    recall  f1-score   support\n",
      "\n",
      "           0       0.58      0.54      0.56     64549\n",
      "           1       0.58      0.33      0.42     84586\n",
      "           2       0.72      0.76      0.74    324720\n",
      "           3       0.44      0.46      0.45    145859\n",
      "           4       0.55      0.61      0.58    107677\n",
      "\n",
      "    accuracy                           0.61    727391\n",
      "   macro avg       0.57      0.54      0.55    727391\n",
      "weighted avg       0.61      0.61      0.60    727391\n",
      "\n",
      "              precision    recall  f1-score   support\n",
      "\n",
      "           0       0.58      0.54      0.56     64549\n",
      "           1       0.58      0.33      0.42     84586\n",
      "           2       0.72      0.76      0.74    324720\n",
      "           3       0.44      0.46      0.45    145859\n",
      "           4       0.55      0.61      0.58    107677\n",
      "\n",
      "    accuracy                           0.61    727391\n",
      "   macro avg       0.57      0.54      0.55    727391\n",
      "weighted avg       0.61      0.61      0.60    727391\n",
      "\n",
      "Train Accuracy is  0.6094658856103526\n",
      "Test Accuracy is  0.5834798229293642\n"
     ]
    }
   ],
   "source": [
    "from sklearn.naive_bayes import MultinomialNB\n",
    "nbclf = MultinomialNB().fit(x_train_cvt, y_train) #nb_clf is the classifier\n",
    "pred_train = nbclf.predict(x_train_cvt) #get predictions on train data\n",
    "\n",
    "from sklearn.metrics import accuracy_score, classification_report\n",
    "print(classification_report(y_train, pred_train)) \n",
    "print(classification_report(y_train, pred_train)) \n",
    "\n",
    "pred_val = nbclf.predict(x_validation_cvt) #predict on test data\n",
    "#prediction = confusion_matrix(y_test,pred_test) ##get confusion matrix for test predictions\n",
    "\n",
    "print(\"Train Accuracy is \",accuracy_score(y_train,pred_train))\n",
    "print(\"Test Accuracy is \",accuracy_score(y_validation,pred_val))"
   ]
  },
  {
   "cell_type": "code",
   "execution_count": 286,
   "metadata": {},
   "outputs": [
    {
     "name": "stdout",
     "output_type": "stream",
     "text": [
      "Requirement already satisfied: mlxtend in c:\\users\\vyshnavi\\anaconda3\\lib\\site-packages (0.17.0)\n",
      "Requirement already satisfied: matplotlib>=3.0.0 in c:\\users\\vyshnavi\\anaconda3\\lib\\site-packages (from mlxtend) (3.1.0)\n",
      "Requirement already satisfied: scikit-learn>=0.20.3 in c:\\users\\vyshnavi\\anaconda3\\lib\\site-packages (from mlxtend) (0.21.2)\n",
      "Requirement already satisfied: numpy>=1.16.2 in c:\\users\\vyshnavi\\anaconda3\\lib\\site-packages (from mlxtend) (1.16.4)\n",
      "Requirement already satisfied: scipy>=1.2.1 in c:\\users\\vyshnavi\\anaconda3\\lib\\site-packages (from mlxtend) (1.2.1)\n",
      "Requirement already satisfied: pandas>=0.24.2 in c:\\users\\vyshnavi\\anaconda3\\lib\\site-packages (from mlxtend) (0.24.2)\n",
      "Requirement already satisfied: joblib>=0.13.2 in c:\\users\\vyshnavi\\anaconda3\\lib\\site-packages (from mlxtend) (0.13.2)\n",
      "Requirement already satisfied: setuptools in c:\\users\\vyshnavi\\anaconda3\\lib\\site-packages (from mlxtend) (41.0.1)\n",
      "Requirement already satisfied: cycler>=0.10 in c:\\users\\vyshnavi\\anaconda3\\lib\\site-packages (from matplotlib>=3.0.0->mlxtend) (0.10.0)\n",
      "Requirement already satisfied: kiwisolver>=1.0.1 in c:\\users\\vyshnavi\\anaconda3\\lib\\site-packages (from matplotlib>=3.0.0->mlxtend) (1.1.0)\n",
      "Requirement already satisfied: pyparsing!=2.0.4,!=2.1.2,!=2.1.6,>=2.0.1 in c:\\users\\vyshnavi\\anaconda3\\lib\\site-packages (from matplotlib>=3.0.0->mlxtend) (2.4.0)\n",
      "Requirement already satisfied: python-dateutil>=2.1 in c:\\users\\vyshnavi\\anaconda3\\lib\\site-packages (from matplotlib>=3.0.0->mlxtend) (2.8.0)\n",
      "Requirement already satisfied: pytz>=2011k in c:\\users\\vyshnavi\\anaconda3\\lib\\site-packages (from pandas>=0.24.2->mlxtend) (2019.1)\n",
      "Requirement already satisfied: six in c:\\users\\vyshnavi\\anaconda3\\lib\\site-packages (from cycler>=0.10->matplotlib>=3.0.0->mlxtend) (1.12.0)\n"
     ]
    },
    {
     "data": {
      "text/plain": [
       "([0.36907298698084934,\n",
       "  0.3689698786070746,\n",
       "  0.3724778546126104,\n",
       "  0.37728041353331776,\n",
       "  0.38051939124816125,\n",
       "  0.3838495625913655,\n",
       "  0.38546623642651906,\n",
       "  0.3876015617481681,\n",
       "  0.38912947509436324,\n",
       "  0.39053411438964736],\n",
       " [0.43197215628408286,\n",
       "  0.4213864117533842,\n",
       "  0.4177134791813691,\n",
       "  0.41649772246102523,\n",
       "  0.41650413806377107,\n",
       "  0.4171232437287483,\n",
       "  0.4161192018990184,\n",
       "  0.4161737345223584,\n",
       "  0.41640790402258293,\n",
       "  0.41652017707063577])"
      ]
     },
     "execution_count": 286,
     "metadata": {},
     "output_type": "execute_result"
    },
    {
     "data": {
      "image/png": "[encoded data removed]",
      "text/plain": [
       "<Figure size 432x288 with 1 Axes>"
      ]
     },
     "metadata": {},
     "output_type": "display_data"
    }
   ],
   "source": [
    "!pip install mlxtend\n",
    "\n",
    "from mlxtend.plotting import plot_learning_curves\n",
    "plot_learning_curves(x_train_cvt, y_train,x_validation_cvt, y_validation,nbclf)"
   ]
  },
  {
   "cell_type": "code",
   "execution_count": null,
   "metadata": {},
   "outputs": [],
   "source": []
  },
  {
   "cell_type": "code",
   "execution_count": null,
   "metadata": {},
   "outputs": [],
   "source": []
  },
  {
   "cell_type": "markdown",
   "metadata": {},
   "source": [
    "### TFIDF VECTORIZATION"
   ]
  },
  {
   "cell_type": "code",
   "execution_count": 287,
   "metadata": {},
   "outputs": [
    {
     "data": {
      "text/plain": [
       "(727391, 62133)"
      ]
     },
     "execution_count": 287,
     "metadata": {},
     "output_type": "execute_result"
    }
   ],
   "source": [
    "from sklearn.feature_extraction.text import TfidfVectorizer\n",
    "#Lets construct TF-idf matrix based on the train documents\n",
    "tfidf_transformer = TfidfVectorizer(norm=None,stop_words='english')\n",
    "x_train_tfidf = tfidf_transformer.fit_transform(x_train)\n",
    "x_train_tfidf.shape"
   ]
  },
  {
   "cell_type": "code",
   "execution_count": 288,
   "metadata": {},
   "outputs": [
    {
     "data": {
      "text/plain": [
       "(311740, 62133)"
      ]
     },
     "execution_count": 288,
     "metadata": {},
     "output_type": "execute_result"
    }
   ],
   "source": [
    "#Get the tfidf matrix for test documents\n",
    "x_validation_tfidf = tfidf_transformer.transform(x_validation)\n",
    "x_validation_tfidf.shape"
   ]
  },
  {
   "cell_type": "code",
   "execution_count": null,
   "metadata": {},
   "outputs": [],
   "source": []
  },
  {
   "cell_type": "markdown",
   "metadata": {},
   "source": [
    "## MODEL BUILDING ON JSON FILE USING TFIDF VECTORIZATION"
   ]
  },
  {
   "cell_type": "markdown",
   "metadata": {},
   "source": [
    "### LOGISTIC REGRESSION"
   ]
  },
  {
   "cell_type": "code",
   "execution_count": 289,
   "metadata": {},
   "outputs": [
    {
     "name": "stderr",
     "output_type": "stream",
     "text": [
      "C:\\Users\\Vyshnavi\\Anaconda3\\lib\\site-packages\\sklearn\\linear_model\\logistic.py:432: FutureWarning: Default solver will be changed to 'lbfgs' in 0.22. Specify a solver to silence this warning.\n",
      "  FutureWarning)\n",
      "C:\\Users\\Vyshnavi\\Anaconda3\\lib\\site-packages\\sklearn\\linear_model\\logistic.py:469: FutureWarning: Default multi_class will be changed to 'auto' in 0.22. Specify the multi_class option to silence this warning.\n",
      "  \"this warning.\", FutureWarning)\n",
      "C:\\Users\\Vyshnavi\\Anaconda3\\lib\\site-packages\\sklearn\\svm\\base.py:929: ConvergenceWarning: Liblinear failed to converge, increase the number of iterations.\n",
      "  \"the number of iterations.\", ConvergenceWarning)\n"
     ]
    },
    {
     "name": "stdout",
     "output_type": "stream",
     "text": [
      "Train_classification Report:\n",
      "               precision    recall  f1-score   support\n",
      "\n",
      "           0       0.70      0.59      0.64     64549\n",
      "           1       0.66      0.42      0.51     84586\n",
      "           2       0.69      0.89      0.78    324720\n",
      "           3       0.62      0.42      0.50    145859\n",
      "           4       0.68      0.63      0.66    107677\n",
      "\n",
      "    accuracy                           0.68    727391\n",
      "   macro avg       0.67      0.59      0.62    727391\n",
      "weighted avg       0.67      0.68      0.66    727391\n",
      "\n",
      "Test_classification Report:\n",
      "               precision    recall  f1-score   support\n",
      "\n",
      "           0       0.62      0.50      0.56     27473\n",
      "           1       0.54      0.33      0.41     36185\n",
      "           2       0.66      0.86      0.74    139682\n",
      "           3       0.51      0.34      0.41     62172\n",
      "           4       0.62      0.57      0.60     46228\n",
      "\n",
      "    accuracy                           0.62    311740\n",
      "   macro avg       0.59      0.52      0.54    311740\n",
      "weighted avg       0.61      0.62      0.60    311740\n",
      "\n",
      "Train Accuracy is  0.6780809770811022\n",
      "Test Accuracy is  0.6211009174311927\n"
     ]
    }
   ],
   "source": [
    "from sklearn import linear_model\n",
    "from sklearn.metrics import classification_report\n",
    "\n",
    "logisticreg_train = linear_model.LogisticRegression()\n",
    "clfs = logisticreg_train.fit(x_train_tfidf, y_train) #fit logreg model on train data\n",
    "\n",
    "pred_train=clfs.predict(x_train_tfidf) # predict on train data\n",
    "pred_val=clfs.predict(x_validation_tfidf) # predict on test data\n",
    "\n",
    "\n",
    "print(\"Train_classification Report:\\n\", classification_report(y_train,pred_train))\n",
    "print(\"Test_classification Report:\\n\",classification_report(y_validation,pred_val))\n",
    "\n",
    "\n",
    "print(\"Train Accuracy is \",accuracy_score(y_train,pred_train))\n",
    "print(\"Test Accuracy is \",accuracy_score(y_validation,pred_val))"
   ]
  },
  {
   "cell_type": "code",
   "execution_count": null,
   "metadata": {},
   "outputs": [],
   "source": []
  },
  {
   "cell_type": "markdown",
   "metadata": {},
   "source": [
    "#### COMPARING FEATURE SELECTION AND CHOOSE THE BEST AND THEN USE  IT TO PREDICT THE TEST DATA  "
   ]
  },
  {
   "cell_type": "markdown",
   "metadata": {},
   "source": [
    "#### PERFORMING COUNT VECTORIZATION ON TEST DATA"
   ]
  },
  {
   "cell_type": "code",
   "execution_count": 291,
   "metadata": {},
   "outputs": [],
   "source": [
    "test_predict = cv.transform(j_data['stocktwit_tweet'])"
   ]
  },
  {
   "cell_type": "markdown",
   "metadata": {},
   "source": [
    "#### PREDICTING THE TEST DATA "
   ]
  },
  {
   "cell_type": "code",
   "execution_count": 292,
   "metadata": {},
   "outputs": [],
   "source": [
    "pred_test=classifier.predict(test_predict)"
   ]
  },
  {
   "cell_type": "code",
   "execution_count": 293,
   "metadata": {},
   "outputs": [
    {
     "data": {
      "text/plain": [
       "array([2, 4, 2, ..., 2, 2, 3], dtype=int64)"
      ]
     },
     "execution_count": 293,
     "metadata": {},
     "output_type": "execute_result"
    }
   ],
   "source": [
    "pred_test"
   ]
  },
  {
   "cell_type": "code",
   "execution_count": null,
   "metadata": {},
   "outputs": [],
   "source": []
  },
  {
   "cell_type": "markdown",
   "metadata": {},
   "source": [
    "## APPENDING THE PREDICTIONS TO THE ORIGINAL TRAIN AND TEST DATA"
   ]
  },
  {
   "cell_type": "markdown",
   "metadata": {},
   "source": [
    "#### FOR JSON TRAIN DATA "
   ]
  },
  {
   "cell_type": "code",
   "execution_count": 294,
   "metadata": {},
   "outputs": [],
   "source": [
    "# checking the indexes of x_train \n",
    "import numpy as np\n",
    "x_train_indexes = np.array(x_train.index)"
   ]
  },
  {
   "cell_type": "code",
   "execution_count": 295,
   "metadata": {},
   "outputs": [
    {
     "data": {
      "text/plain": [
       "array([ 565236,  335804, 1019989, ...,  165158,  451283,  486191],\n",
       "      dtype=int64)"
      ]
     },
     "execution_count": 295,
     "metadata": {},
     "output_type": "execute_result"
    }
   ],
   "source": [
    "x_train_indexes "
   ]
  },
  {
   "cell_type": "code",
   "execution_count": 296,
   "metadata": {},
   "outputs": [],
   "source": [
    "# checking the indexes of x_validation\n",
    "x_validation_indexes = np.array(x_validation.index)"
   ]
  },
  {
   "cell_type": "code",
   "execution_count": 297,
   "metadata": {},
   "outputs": [
    {
     "data": {
      "text/plain": [
       "array([858007, 168904, 743982, ..., 428149, 698630, 525888], dtype=int64)"
      ]
     },
     "execution_count": 297,
     "metadata": {},
     "output_type": "execute_result"
    }
   ],
   "source": [
    "x_validation_indexes"
   ]
  },
  {
   "cell_type": "code",
   "execution_count": 298,
   "metadata": {},
   "outputs": [],
   "source": [
    "# puting the train predictions in dataframe format\n",
    "trainpredictions = pd.DataFrame(pred_train,columns=['Sc'],index = x_train_indexes)"
   ]
  },
  {
   "cell_type": "code",
   "execution_count": 299,
   "metadata": {},
   "outputs": [
    {
     "data": {
      "text/html": [
       "<div>\n",
       "<style scoped>\n",
       "    .dataframe tbody tr th:only-of-type {\n",
       "        vertical-align: middle;\n",
       "    }\n",
       "\n",
       "    .dataframe tbody tr th {\n",
       "        vertical-align: top;\n",
       "    }\n",
       "\n",
       "    .dataframe thead th {\n",
       "        text-align: right;\n",
       "    }\n",
       "</style>\n",
       "<table border=\"1\" class=\"dataframe\">\n",
       "  <thead>\n",
       "    <tr style=\"text-align: right;\">\n",
       "      <th></th>\n",
       "      <th>Sc</th>\n",
       "    </tr>\n",
       "  </thead>\n",
       "  <tbody>\n",
       "    <tr>\n",
       "      <th>565236</th>\n",
       "      <td>4</td>\n",
       "    </tr>\n",
       "    <tr>\n",
       "      <th>335804</th>\n",
       "      <td>2</td>\n",
       "    </tr>\n",
       "    <tr>\n",
       "      <th>1019989</th>\n",
       "      <td>2</td>\n",
       "    </tr>\n",
       "    <tr>\n",
       "      <th>545049</th>\n",
       "      <td>2</td>\n",
       "    </tr>\n",
       "    <tr>\n",
       "      <th>946685</th>\n",
       "      <td>2</td>\n",
       "    </tr>\n",
       "  </tbody>\n",
       "</table>\n",
       "</div>"
      ],
      "text/plain": [
       "         Sc\n",
       "565236    4\n",
       "335804    2\n",
       "1019989   2\n",
       "545049    2\n",
       "946685    2"
      ]
     },
     "execution_count": 299,
     "metadata": {},
     "output_type": "execute_result"
    }
   ],
   "source": [
    "trainpredictions.head()"
   ]
  },
  {
   "cell_type": "code",
   "execution_count": 300,
   "metadata": {},
   "outputs": [],
   "source": [
    "# putting the validation predictions in dataframe format \n",
    "validationpredictions = pd.DataFrame(pred_validation,columns=['Sc'],index=x_validation_indexes)"
   ]
  },
  {
   "cell_type": "code",
   "execution_count": 301,
   "metadata": {},
   "outputs": [
    {
     "data": {
      "text/html": [
       "<div>\n",
       "<style scoped>\n",
       "    .dataframe tbody tr th:only-of-type {\n",
       "        vertical-align: middle;\n",
       "    }\n",
       "\n",
       "    .dataframe tbody tr th {\n",
       "        vertical-align: top;\n",
       "    }\n",
       "\n",
       "    .dataframe thead th {\n",
       "        text-align: right;\n",
       "    }\n",
       "</style>\n",
       "<table border=\"1\" class=\"dataframe\">\n",
       "  <thead>\n",
       "    <tr style=\"text-align: right;\">\n",
       "      <th></th>\n",
       "      <th>Sc</th>\n",
       "    </tr>\n",
       "  </thead>\n",
       "  <tbody>\n",
       "    <tr>\n",
       "      <th>858007</th>\n",
       "      <td>2</td>\n",
       "    </tr>\n",
       "    <tr>\n",
       "      <th>168904</th>\n",
       "      <td>2</td>\n",
       "    </tr>\n",
       "    <tr>\n",
       "      <th>743982</th>\n",
       "      <td>2</td>\n",
       "    </tr>\n",
       "    <tr>\n",
       "      <th>126802</th>\n",
       "      <td>2</td>\n",
       "    </tr>\n",
       "    <tr>\n",
       "      <th>449148</th>\n",
       "      <td>4</td>\n",
       "    </tr>\n",
       "  </tbody>\n",
       "</table>\n",
       "</div>"
      ],
      "text/plain": [
       "        Sc\n",
       "858007   2\n",
       "168904   2\n",
       "743982   2\n",
       "126802   2\n",
       "449148   4"
      ]
     },
     "execution_count": 301,
     "metadata": {},
     "output_type": "execute_result"
    }
   ],
   "source": [
    "validationpredictions.head()"
   ]
  },
  {
   "cell_type": "code",
   "execution_count": 302,
   "metadata": {},
   "outputs": [],
   "source": [
    "# concatinating both train and validation prediction to one coloumn \n",
    "predictions = pd.concat([trainpredictions,validationpredictions])"
   ]
  },
  {
   "cell_type": "code",
   "execution_count": 303,
   "metadata": {},
   "outputs": [
    {
     "data": {
      "text/html": [
       "<div>\n",
       "<style scoped>\n",
       "    .dataframe tbody tr th:only-of-type {\n",
       "        vertical-align: middle;\n",
       "    }\n",
       "\n",
       "    .dataframe tbody tr th {\n",
       "        vertical-align: top;\n",
       "    }\n",
       "\n",
       "    .dataframe thead th {\n",
       "        text-align: right;\n",
       "    }\n",
       "</style>\n",
       "<table border=\"1\" class=\"dataframe\">\n",
       "  <thead>\n",
       "    <tr style=\"text-align: right;\">\n",
       "      <th></th>\n",
       "      <th>Sc</th>\n",
       "    </tr>\n",
       "  </thead>\n",
       "  <tbody>\n",
       "    <tr>\n",
       "      <th>565236</th>\n",
       "      <td>4</td>\n",
       "    </tr>\n",
       "    <tr>\n",
       "      <th>335804</th>\n",
       "      <td>2</td>\n",
       "    </tr>\n",
       "    <tr>\n",
       "      <th>1019989</th>\n",
       "      <td>2</td>\n",
       "    </tr>\n",
       "    <tr>\n",
       "      <th>545049</th>\n",
       "      <td>2</td>\n",
       "    </tr>\n",
       "    <tr>\n",
       "      <th>946685</th>\n",
       "      <td>2</td>\n",
       "    </tr>\n",
       "  </tbody>\n",
       "</table>\n",
       "</div>"
      ],
      "text/plain": [
       "         Sc\n",
       "565236    4\n",
       "335804    2\n",
       "1019989   2\n",
       "545049    2\n",
       "946685    2"
      ]
     },
     "execution_count": 303,
     "metadata": {},
     "output_type": "execute_result"
    }
   ],
   "source": [
    "predictions.head()"
   ]
  },
  {
   "cell_type": "markdown",
   "metadata": {},
   "source": [
    "#### APPENDING THE TRAIN AND VALIDATION PREDICTIONS TO THE TRAIN DATA "
   ]
  },
  {
   "cell_type": "code",
   "execution_count": 304,
   "metadata": {},
   "outputs": [],
   "source": [
    "lasttrain = pd.merge(json_data,predictions,how='inner',left_index=True, right_index=True)"
   ]
  },
  {
   "cell_type": "code",
   "execution_count": 305,
   "metadata": {},
   "outputs": [
    {
     "data": {
      "text/html": [
       "<div>\n",
       "<style scoped>\n",
       "    .dataframe tbody tr th:only-of-type {\n",
       "        vertical-align: middle;\n",
       "    }\n",
       "\n",
       "    .dataframe tbody tr th {\n",
       "        vertical-align: top;\n",
       "    }\n",
       "\n",
       "    .dataframe thead th {\n",
       "        text-align: right;\n",
       "    }\n",
       "</style>\n",
       "<table border=\"1\" class=\"dataframe\">\n",
       "  <thead>\n",
       "    <tr style=\"text-align: right;\">\n",
       "      <th></th>\n",
       "      <th>sentiment_score</th>\n",
       "      <th>stocktwit_tweet</th>\n",
       "      <th>ticker</th>\n",
       "      <th>date</th>\n",
       "      <th>time</th>\n",
       "      <th>Sc</th>\n",
       "    </tr>\n",
       "  </thead>\n",
       "  <tbody>\n",
       "    <tr>\n",
       "      <th>0</th>\n",
       "      <td>3</td>\n",
       "      <td>go hesitate however chart stable go upward</td>\n",
       "      <td>amd</td>\n",
       "      <td>2018-09-19</td>\n",
       "      <td>18:38:28</td>\n",
       "      <td>2</td>\n",
       "    </tr>\n",
       "    <tr>\n",
       "      <th>1</th>\n",
       "      <td>3</td>\n",
       "      <td>despite china trade war hold well</td>\n",
       "      <td>cat</td>\n",
       "      <td>2018-10-09</td>\n",
       "      <td>03:51:06</td>\n",
       "      <td>3</td>\n",
       "    </tr>\n",
       "    <tr>\n",
       "      <th>2</th>\n",
       "      <td>2</td>\n",
       "      <td>wtf</td>\n",
       "      <td>avgo</td>\n",
       "      <td>2018-07-12</td>\n",
       "      <td>13:35:32</td>\n",
       "      <td>2</td>\n",
       "    </tr>\n",
       "    <tr>\n",
       "      <th>3</th>\n",
       "      <td>2</td>\n",
       "      <td>new insider file muller klaus peter transactio...</td>\n",
       "      <td>ph</td>\n",
       "      <td>2018-07-19</td>\n",
       "      <td>03:32:50</td>\n",
       "      <td>2</td>\n",
       "    </tr>\n",
       "    <tr>\n",
       "      <th>4</th>\n",
       "      <td>3</td>\n",
       "      <td>bounce tommorrow right thing gtfo</td>\n",
       "      <td>fb</td>\n",
       "      <td>2018-08-23</td>\n",
       "      <td>19:07:54</td>\n",
       "      <td>3</td>\n",
       "    </tr>\n",
       "  </tbody>\n",
       "</table>\n",
       "</div>"
      ],
      "text/plain": [
       "   sentiment_score                                    stocktwit_tweet ticker  \\\n",
       "0                3         go hesitate however chart stable go upward    amd   \n",
       "1                3                  despite china trade war hold well    cat   \n",
       "2                2                                                wtf   avgo   \n",
       "3                2  new insider file muller klaus peter transactio...     ph   \n",
       "4                3                  bounce tommorrow right thing gtfo     fb   \n",
       "\n",
       "        date      time  Sc  \n",
       "0 2018-09-19  18:38:28   2  \n",
       "1 2018-10-09  03:51:06   3  \n",
       "2 2018-07-12  13:35:32   2  \n",
       "3 2018-07-19  03:32:50   2  \n",
       "4 2018-08-23  19:07:54   3  "
      ]
     },
     "execution_count": 305,
     "metadata": {},
     "output_type": "execute_result"
    }
   ],
   "source": [
    "lasttrain.head()"
   ]
  },
  {
   "cell_type": "code",
   "execution_count": null,
   "metadata": {},
   "outputs": [],
   "source": []
  },
  {
   "cell_type": "markdown",
   "metadata": {},
   "source": [
    "#### FOR JSON TEST DATA"
   ]
  },
  {
   "cell_type": "code",
   "execution_count": 306,
   "metadata": {},
   "outputs": [],
   "source": [
    "# converting the predictions value into dataframe format \n",
    "testpredictions = pd.DataFrame(pred_test,columns=['Sc'])"
   ]
  },
  {
   "cell_type": "code",
   "execution_count": 307,
   "metadata": {},
   "outputs": [
    {
     "data": {
      "text/html": [
       "<div>\n",
       "<style scoped>\n",
       "    .dataframe tbody tr th:only-of-type {\n",
       "        vertical-align: middle;\n",
       "    }\n",
       "\n",
       "    .dataframe tbody tr th {\n",
       "        vertical-align: top;\n",
       "    }\n",
       "\n",
       "    .dataframe thead th {\n",
       "        text-align: right;\n",
       "    }\n",
       "</style>\n",
       "<table border=\"1\" class=\"dataframe\">\n",
       "  <thead>\n",
       "    <tr style=\"text-align: right;\">\n",
       "      <th></th>\n",
       "      <th>Sc</th>\n",
       "    </tr>\n",
       "  </thead>\n",
       "  <tbody>\n",
       "    <tr>\n",
       "      <th>0</th>\n",
       "      <td>2</td>\n",
       "    </tr>\n",
       "    <tr>\n",
       "      <th>1</th>\n",
       "      <td>4</td>\n",
       "    </tr>\n",
       "    <tr>\n",
       "      <th>2</th>\n",
       "      <td>2</td>\n",
       "    </tr>\n",
       "    <tr>\n",
       "      <th>3</th>\n",
       "      <td>2</td>\n",
       "    </tr>\n",
       "    <tr>\n",
       "      <th>4</th>\n",
       "      <td>0</td>\n",
       "    </tr>\n",
       "  </tbody>\n",
       "</table>\n",
       "</div>"
      ],
      "text/plain": [
       "   Sc\n",
       "0   2\n",
       "1   4\n",
       "2   2\n",
       "3   2\n",
       "4   0"
      ]
     },
     "execution_count": 307,
     "metadata": {},
     "output_type": "execute_result"
    }
   ],
   "source": [
    "testpredictions.head()"
   ]
  },
  {
   "cell_type": "code",
   "execution_count": null,
   "metadata": {},
   "outputs": [],
   "source": []
  },
  {
   "cell_type": "markdown",
   "metadata": {},
   "source": [
    "#### APPENDING THE TEST DATA  PREDICTION TO THE ORIGINAL TEST DATA "
   ]
  },
  {
   "cell_type": "code",
   "execution_count": 308,
   "metadata": {},
   "outputs": [],
   "source": [
    "lasttest = pd.merge(j_data,testpredictions,how='inner',left_index=True, right_index=True)"
   ]
  },
  {
   "cell_type": "code",
   "execution_count": 309,
   "metadata": {},
   "outputs": [
    {
     "data": {
      "text/html": [
       "<div>\n",
       "<style scoped>\n",
       "    .dataframe tbody tr th:only-of-type {\n",
       "        vertical-align: middle;\n",
       "    }\n",
       "\n",
       "    .dataframe tbody tr th {\n",
       "        vertical-align: top;\n",
       "    }\n",
       "\n",
       "    .dataframe thead th {\n",
       "        text-align: right;\n",
       "    }\n",
       "</style>\n",
       "<table border=\"1\" class=\"dataframe\">\n",
       "  <thead>\n",
       "    <tr style=\"text-align: right;\">\n",
       "      <th></th>\n",
       "      <th>stocktwit_tweet</th>\n",
       "      <th>ticker</th>\n",
       "      <th>date</th>\n",
       "      <th>time</th>\n",
       "      <th>Sc</th>\n",
       "    </tr>\n",
       "  </thead>\n",
       "  <tbody>\n",
       "    <tr>\n",
       "      <th>0</th>\n",
       "      <td>nothing exit</td>\n",
       "      <td>celg</td>\n",
       "      <td>2018-10-25</td>\n",
       "      <td>14:26:16</td>\n",
       "      <td>2</td>\n",
       "    </tr>\n",
       "    <tr>\n",
       "      <th>1</th>\n",
       "      <td>yall exhaust buyer first green candle byeeeeee</td>\n",
       "      <td>amd</td>\n",
       "      <td>2018-07-13</td>\n",
       "      <td>13:50:39</td>\n",
       "      <td>4</td>\n",
       "    </tr>\n",
       "    <tr>\n",
       "      <th>2</th>\n",
       "      <td>day traders day</td>\n",
       "      <td>amd</td>\n",
       "      <td>2018-09-25</td>\n",
       "      <td>19:10:54</td>\n",
       "      <td>2</td>\n",
       "    </tr>\n",
       "    <tr>\n",
       "      <th>3</th>\n",
       "      <td></td>\n",
       "      <td>cbs</td>\n",
       "      <td>2018-07-27</td>\n",
       "      <td>22:45:48</td>\n",
       "      <td>2</td>\n",
       "    </tr>\n",
       "    <tr>\n",
       "      <th>4</th>\n",
       "      <td>weak price action far today afraid go short go...</td>\n",
       "      <td>mu</td>\n",
       "      <td>2018-07-31</td>\n",
       "      <td>14:59:06</td>\n",
       "      <td>0</td>\n",
       "    </tr>\n",
       "  </tbody>\n",
       "</table>\n",
       "</div>"
      ],
      "text/plain": [
       "                                     stocktwit_tweet ticker       date  \\\n",
       "0                                       nothing exit   celg 2018-10-25   \n",
       "1     yall exhaust buyer first green candle byeeeeee    amd 2018-07-13   \n",
       "2                                    day traders day    amd 2018-09-25   \n",
       "3                                                       cbs 2018-07-27   \n",
       "4  weak price action far today afraid go short go...     mu 2018-07-31   \n",
       "\n",
       "       time  Sc  \n",
       "0  14:26:16   2  \n",
       "1  13:50:39   4  \n",
       "2  19:10:54   2  \n",
       "3  22:45:48   2  \n",
       "4  14:59:06   0  "
      ]
     },
     "execution_count": 309,
     "metadata": {},
     "output_type": "execute_result"
    }
   ],
   "source": [
    "lasttest.head()"
   ]
  },
  {
   "cell_type": "code",
   "execution_count": null,
   "metadata": {},
   "outputs": [],
   "source": []
  },
  {
   "cell_type": "markdown",
   "metadata": {},
   "source": [
    "#                            CSV TRAIN AND TEST PREPROCESSING"
   ]
  },
  {
   "cell_type": "code",
   "execution_count": 310,
   "metadata": {},
   "outputs": [
    {
     "name": "stdout",
     "output_type": "stream",
     "text": [
      "Populating the interactive namespace from numpy and matplotlib\n"
     ]
    }
   ],
   "source": [
    "import pandas as pd\n",
    "from sklearn.model_selection import train_test_split\n",
    "from sklearn.impute import SimpleImputer\n",
    "from sklearn.preprocessing import StandardScaler\n",
    "import numpy as np\n",
    "import seaborn as sns\n",
    "%pylab inline\n",
    "import matplotlib.pyplot as plt"
   ]
  },
  {
   "cell_type": "code",
   "execution_count": 311,
   "metadata": {},
   "outputs": [],
   "source": [
    "# Read the train  data\n",
    "csv_data = pd.read_csv('D:\\\\PHD FINAL\\\\train_factors-1573207730757 (2).csv')   "
   ]
  },
  {
   "cell_type": "code",
   "execution_count": 312,
   "metadata": {},
   "outputs": [
    {
     "data": {
      "text/html": [
       "<div>\n",
       "<style scoped>\n",
       "    .dataframe tbody tr th:only-of-type {\n",
       "        vertical-align: middle;\n",
       "    }\n",
       "\n",
       "    .dataframe tbody tr th {\n",
       "        vertical-align: top;\n",
       "    }\n",
       "\n",
       "    .dataframe thead th {\n",
       "        text-align: right;\n",
       "    }\n",
       "</style>\n",
       "<table border=\"1\" class=\"dataframe\">\n",
       "  <thead>\n",
       "    <tr style=\"text-align: right;\">\n",
       "      <th></th>\n",
       "      <th>Id</th>\n",
       "      <th>date</th>\n",
       "      <th>ticker</th>\n",
       "      <th>SF1</th>\n",
       "      <th>SF2</th>\n",
       "      <th>SF3</th>\n",
       "      <th>SF4</th>\n",
       "      <th>SF5</th>\n",
       "      <th>SF6</th>\n",
       "      <th>SF7</th>\n",
       "      <th>alpha</th>\n",
       "    </tr>\n",
       "  </thead>\n",
       "  <tbody>\n",
       "    <tr>\n",
       "      <th>0</th>\n",
       "      <td>1</td>\n",
       "      <td>21/08/18</td>\n",
       "      <td>$NTAP</td>\n",
       "      <td>-0.628652</td>\n",
       "      <td>0.988891</td>\n",
       "      <td>-0.055714</td>\n",
       "      <td>0.774379</td>\n",
       "      <td>0.551089</td>\n",
       "      <td>-1.329229</td>\n",
       "      <td>-0.995539</td>\n",
       "      <td>2</td>\n",
       "    </tr>\n",
       "    <tr>\n",
       "      <th>1</th>\n",
       "      <td>2</td>\n",
       "      <td>11/10/18</td>\n",
       "      <td>$WYNN</td>\n",
       "      <td>1.315786</td>\n",
       "      <td>1.438754</td>\n",
       "      <td>0.187327</td>\n",
       "      <td>0.608933</td>\n",
       "      <td>-1.153030</td>\n",
       "      <td>1.859441</td>\n",
       "      <td>0.730995</td>\n",
       "      <td>3</td>\n",
       "    </tr>\n",
       "    <tr>\n",
       "      <th>2</th>\n",
       "      <td>3</td>\n",
       "      <td>21/08/18</td>\n",
       "      <td>$DRI</td>\n",
       "      <td>-1.141388</td>\n",
       "      <td>-1.455016</td>\n",
       "      <td>0.332755</td>\n",
       "      <td>0.674502</td>\n",
       "      <td>0.111326</td>\n",
       "      <td>-0.478597</td>\n",
       "      <td>-1.488157</td>\n",
       "      <td>1</td>\n",
       "    </tr>\n",
       "    <tr>\n",
       "      <th>3</th>\n",
       "      <td>4</td>\n",
       "      <td>10/07/18</td>\n",
       "      <td>$ge</td>\n",
       "      <td>-0.054839</td>\n",
       "      <td>-1.454149</td>\n",
       "      <td>-0.162267</td>\n",
       "      <td>-0.681870</td>\n",
       "      <td>0.307869</td>\n",
       "      <td>-0.529987</td>\n",
       "      <td>0.404172</td>\n",
       "      <td>2</td>\n",
       "    </tr>\n",
       "    <tr>\n",
       "      <th>4</th>\n",
       "      <td>5</td>\n",
       "      <td>12/09/18</td>\n",
       "      <td>$FE</td>\n",
       "      <td>-0.686366</td>\n",
       "      <td>0.838865</td>\n",
       "      <td>0.073830</td>\n",
       "      <td>0.679024</td>\n",
       "      <td>0.329463</td>\n",
       "      <td>1.262782</td>\n",
       "      <td>-1.024042</td>\n",
       "      <td>2</td>\n",
       "    </tr>\n",
       "  </tbody>\n",
       "</table>\n",
       "</div>"
      ],
      "text/plain": [
       "   Id      date ticker       SF1       SF2       SF3       SF4       SF5  \\\n",
       "0   1  21/08/18  $NTAP -0.628652  0.988891 -0.055714  0.774379  0.551089   \n",
       "1   2  11/10/18  $WYNN  1.315786  1.438754  0.187327  0.608933 -1.153030   \n",
       "2   3  21/08/18   $DRI -1.141388 -1.455016  0.332755  0.674502  0.111326   \n",
       "3   4  10/07/18    $ge -0.054839 -1.454149 -0.162267 -0.681870  0.307869   \n",
       "4   5  12/09/18    $FE -0.686366  0.838865  0.073830  0.679024  0.329463   \n",
       "\n",
       "        SF6       SF7  alpha  \n",
       "0 -1.329229 -0.995539      2  \n",
       "1  1.859441  0.730995      3  \n",
       "2 -0.478597 -1.488157      1  \n",
       "3 -0.529987  0.404172      2  \n",
       "4  1.262782 -1.024042      2  "
      ]
     },
     "execution_count": 312,
     "metadata": {},
     "output_type": "execute_result"
    }
   ],
   "source": [
    "csv_data.head()"
   ]
  },
  {
   "cell_type": "code",
   "execution_count": 313,
   "metadata": {},
   "outputs": [],
   "source": [
    "# read the test data\n",
    "c_data = pd.read_csv('D:\\\\PHD FINAL\\\\TestData\\\\test_factors.csv') "
   ]
  },
  {
   "cell_type": "code",
   "execution_count": 314,
   "metadata": {},
   "outputs": [
    {
     "data": {
      "text/html": [
       "<div>\n",
       "<style scoped>\n",
       "    .dataframe tbody tr th:only-of-type {\n",
       "        vertical-align: middle;\n",
       "    }\n",
       "\n",
       "    .dataframe tbody tr th {\n",
       "        vertical-align: top;\n",
       "    }\n",
       "\n",
       "    .dataframe thead th {\n",
       "        text-align: right;\n",
       "    }\n",
       "</style>\n",
       "<table border=\"1\" class=\"dataframe\">\n",
       "  <thead>\n",
       "    <tr style=\"text-align: right;\">\n",
       "      <th></th>\n",
       "      <th>Id</th>\n",
       "      <th>date</th>\n",
       "      <th>ticker</th>\n",
       "      <th>SF1</th>\n",
       "      <th>SF2</th>\n",
       "      <th>SF3</th>\n",
       "      <th>SF4</th>\n",
       "      <th>SF5</th>\n",
       "      <th>SF6</th>\n",
       "      <th>SF7</th>\n",
       "    </tr>\n",
       "  </thead>\n",
       "  <tbody>\n",
       "    <tr>\n",
       "      <th>0</th>\n",
       "      <td>270007</td>\n",
       "      <td>21/07/18</td>\n",
       "      <td>$INTC</td>\n",
       "      <td>-3.062194</td>\n",
       "      <td>1.223466</td>\n",
       "      <td>1.741714</td>\n",
       "      <td>2.279266</td>\n",
       "      <td>-1.323573</td>\n",
       "      <td>-0.274912</td>\n",
       "      <td>-4.504449</td>\n",
       "    </tr>\n",
       "    <tr>\n",
       "      <th>1</th>\n",
       "      <td>270008</td>\n",
       "      <td>05/10/18</td>\n",
       "      <td>$CTSH</td>\n",
       "      <td>0.816263</td>\n",
       "      <td>-2.184408</td>\n",
       "      <td>0.157975</td>\n",
       "      <td>-0.264743</td>\n",
       "      <td>-0.836282</td>\n",
       "      <td>0.046276</td>\n",
       "      <td>0.826353</td>\n",
       "    </tr>\n",
       "    <tr>\n",
       "      <th>2</th>\n",
       "      <td>270009</td>\n",
       "      <td>01/10/18</td>\n",
       "      <td>$CB</td>\n",
       "      <td>0.401281</td>\n",
       "      <td>0.091604</td>\n",
       "      <td>0.083411</td>\n",
       "      <td>-1.147041</td>\n",
       "      <td>-0.485223</td>\n",
       "      <td>-0.601060</td>\n",
       "      <td>1.012811</td>\n",
       "    </tr>\n",
       "    <tr>\n",
       "      <th>3</th>\n",
       "      <td>270010</td>\n",
       "      <td>24/10/18</td>\n",
       "      <td>$CTAS</td>\n",
       "      <td>-0.783521</td>\n",
       "      <td>1.192929</td>\n",
       "      <td>0.813831</td>\n",
       "      <td>-0.368166</td>\n",
       "      <td>-1.113656</td>\n",
       "      <td>-0.553581</td>\n",
       "      <td>-0.683803</td>\n",
       "    </tr>\n",
       "    <tr>\n",
       "      <th>4</th>\n",
       "      <td>270011</td>\n",
       "      <td>27/07/18</td>\n",
       "      <td>$intc</td>\n",
       "      <td>0.796507</td>\n",
       "      <td>0.455341</td>\n",
       "      <td>0.679032</td>\n",
       "      <td>0.354336</td>\n",
       "      <td>-1.799055</td>\n",
       "      <td>0.126153</td>\n",
       "      <td>0.297111</td>\n",
       "    </tr>\n",
       "  </tbody>\n",
       "</table>\n",
       "</div>"
      ],
      "text/plain": [
       "       Id      date ticker       SF1       SF2       SF3       SF4       SF5  \\\n",
       "0  270007  21/07/18  $INTC -3.062194  1.223466  1.741714  2.279266 -1.323573   \n",
       "1  270008  05/10/18  $CTSH  0.816263 -2.184408  0.157975 -0.264743 -0.836282   \n",
       "2  270009  01/10/18    $CB  0.401281  0.091604  0.083411 -1.147041 -0.485223   \n",
       "3  270010  24/10/18  $CTAS -0.783521  1.192929  0.813831 -0.368166 -1.113656   \n",
       "4  270011  27/07/18  $intc  0.796507  0.455341  0.679032  0.354336 -1.799055   \n",
       "\n",
       "        SF6       SF7  \n",
       "0 -0.274912 -4.504449  \n",
       "1  0.046276  0.826353  \n",
       "2 -0.601060  1.012811  \n",
       "3 -0.553581 -0.683803  \n",
       "4  0.126153  0.297111  "
      ]
     },
     "execution_count": 314,
     "metadata": {},
     "output_type": "execute_result"
    }
   ],
   "source": [
    "c_data.head()"
   ]
  },
  {
   "cell_type": "code",
   "execution_count": 315,
   "metadata": {},
   "outputs": [
    {
     "data": {
      "text/plain": [
       "(27006, 11)"
      ]
     },
     "execution_count": 315,
     "metadata": {},
     "output_type": "execute_result"
    }
   ],
   "source": [
    "# Dimensions of train data\n",
    "csv_data.shape"
   ]
  },
  {
   "cell_type": "code",
   "execution_count": 316,
   "metadata": {},
   "outputs": [
    {
     "data": {
      "text/plain": [
       "(11575, 10)"
      ]
     },
     "execution_count": 316,
     "metadata": {},
     "output_type": "execute_result"
    }
   ],
   "source": [
    "# dimensions of test data\n",
    "c_data.shape"
   ]
  },
  {
   "cell_type": "code",
   "execution_count": 317,
   "metadata": {},
   "outputs": [
    {
     "data": {
      "text/plain": [
       "Index(['Id', 'date', 'ticker', 'SF1', 'SF2', 'SF3', 'SF4', 'SF5', 'SF6', 'SF7',\n",
       "       'alpha'],\n",
       "      dtype='object')"
      ]
     },
     "execution_count": 317,
     "metadata": {},
     "output_type": "execute_result"
    }
   ],
   "source": [
    "# Column names of train data\n",
    "csv_data.columns"
   ]
  },
  {
   "cell_type": "code",
   "execution_count": 318,
   "metadata": {},
   "outputs": [
    {
     "data": {
      "text/plain": [
       "Index(['Id', 'date', 'ticker', 'SF1', 'SF2', 'SF3', 'SF4', 'SF5', 'SF6',\n",
       "       'SF7'],\n",
       "      dtype='object')"
      ]
     },
     "execution_count": 318,
     "metadata": {},
     "output_type": "execute_result"
    }
   ],
   "source": [
    "# Column names of test data\n",
    "c_data.columns"
   ]
  },
  {
   "cell_type": "code",
   "execution_count": 319,
   "metadata": {},
   "outputs": [],
   "source": [
    "# Droping id coloumn from train data\n",
    "cols_drop = ['Id']\n",
    "csv_data.drop(cols_drop,axis=1,inplace=True)"
   ]
  },
  {
   "cell_type": "code",
   "execution_count": 320,
   "metadata": {},
   "outputs": [],
   "source": [
    "Id1=c_data[['Id']]"
   ]
  },
  {
   "cell_type": "code",
   "execution_count": 321,
   "metadata": {},
   "outputs": [],
   "source": [
    "# Droping id coloumn from test data\n",
    "cols_drop = ['Id']\n",
    "c_data.drop(cols_drop,axis=1,inplace=True)"
   ]
  },
  {
   "cell_type": "code",
   "execution_count": 322,
   "metadata": {},
   "outputs": [
    {
     "data": {
      "text/html": [
       "<div>\n",
       "<style scoped>\n",
       "    .dataframe tbody tr th:only-of-type {\n",
       "        vertical-align: middle;\n",
       "    }\n",
       "\n",
       "    .dataframe tbody tr th {\n",
       "        vertical-align: top;\n",
       "    }\n",
       "\n",
       "    .dataframe thead th {\n",
       "        text-align: right;\n",
       "    }\n",
       "</style>\n",
       "<table border=\"1\" class=\"dataframe\">\n",
       "  <thead>\n",
       "    <tr style=\"text-align: right;\">\n",
       "      <th></th>\n",
       "      <th>SF1</th>\n",
       "      <th>SF2</th>\n",
       "      <th>SF3</th>\n",
       "      <th>SF4</th>\n",
       "      <th>SF5</th>\n",
       "      <th>SF6</th>\n",
       "      <th>SF7</th>\n",
       "      <th>alpha</th>\n",
       "    </tr>\n",
       "  </thead>\n",
       "  <tbody>\n",
       "    <tr>\n",
       "      <th>count</th>\n",
       "      <td>27006.000000</td>\n",
       "      <td>27006.000000</td>\n",
       "      <td>27006.000000</td>\n",
       "      <td>27006.000000</td>\n",
       "      <td>27006.000000</td>\n",
       "      <td>27006.000000</td>\n",
       "      <td>27006.000000</td>\n",
       "      <td>27006.000000</td>\n",
       "    </tr>\n",
       "    <tr>\n",
       "      <th>mean</th>\n",
       "      <td>0.005429</td>\n",
       "      <td>-0.001005</td>\n",
       "      <td>-0.024421</td>\n",
       "      <td>-0.042420</td>\n",
       "      <td>0.041465</td>\n",
       "      <td>0.002597</td>\n",
       "      <td>0.036744</td>\n",
       "      <td>2.379582</td>\n",
       "    </tr>\n",
       "    <tr>\n",
       "      <th>std</th>\n",
       "      <td>0.941853</td>\n",
       "      <td>0.996130</td>\n",
       "      <td>0.539555</td>\n",
       "      <td>1.111309</td>\n",
       "      <td>0.976028</td>\n",
       "      <td>0.998839</td>\n",
       "      <td>1.204473</td>\n",
       "      <td>1.008681</td>\n",
       "    </tr>\n",
       "    <tr>\n",
       "      <th>min</th>\n",
       "      <td>-4.114670</td>\n",
       "      <td>-4.578587</td>\n",
       "      <td>-2.609150</td>\n",
       "      <td>-6.329798</td>\n",
       "      <td>-5.480268</td>\n",
       "      <td>-4.338751</td>\n",
       "      <td>-5.347869</td>\n",
       "      <td>1.000000</td>\n",
       "    </tr>\n",
       "    <tr>\n",
       "      <th>25%</th>\n",
       "      <td>-0.596792</td>\n",
       "      <td>-0.666310</td>\n",
       "      <td>-0.300187</td>\n",
       "      <td>-0.767247</td>\n",
       "      <td>-0.518641</td>\n",
       "      <td>-0.668027</td>\n",
       "      <td>-0.688198</td>\n",
       "      <td>2.000000</td>\n",
       "    </tr>\n",
       "    <tr>\n",
       "      <th>50%</th>\n",
       "      <td>0.012104</td>\n",
       "      <td>-0.013257</td>\n",
       "      <td>-0.040786</td>\n",
       "      <td>-0.058629</td>\n",
       "      <td>0.072127</td>\n",
       "      <td>0.007417</td>\n",
       "      <td>0.081374</td>\n",
       "      <td>2.000000</td>\n",
       "    </tr>\n",
       "    <tr>\n",
       "      <th>75%</th>\n",
       "      <td>0.611574</td>\n",
       "      <td>0.669094</td>\n",
       "      <td>0.241424</td>\n",
       "      <td>0.677433</td>\n",
       "      <td>0.616538</td>\n",
       "      <td>0.674592</td>\n",
       "      <td>0.807556</td>\n",
       "      <td>3.000000</td>\n",
       "    </tr>\n",
       "    <tr>\n",
       "      <th>max</th>\n",
       "      <td>4.415048</td>\n",
       "      <td>3.822270</td>\n",
       "      <td>3.452486</td>\n",
       "      <td>4.907407</td>\n",
       "      <td>4.779911</td>\n",
       "      <td>4.075428</td>\n",
       "      <td>5.182912</td>\n",
       "      <td>4.000000</td>\n",
       "    </tr>\n",
       "  </tbody>\n",
       "</table>\n",
       "</div>"
      ],
      "text/plain": [
       "                SF1           SF2           SF3           SF4           SF5  \\\n",
       "count  27006.000000  27006.000000  27006.000000  27006.000000  27006.000000   \n",
       "mean       0.005429     -0.001005     -0.024421     -0.042420      0.041465   \n",
       "std        0.941853      0.996130      0.539555      1.111309      0.976028   \n",
       "min       -4.114670     -4.578587     -2.609150     -6.329798     -5.480268   \n",
       "25%       -0.596792     -0.666310     -0.300187     -0.767247     -0.518641   \n",
       "50%        0.012104     -0.013257     -0.040786     -0.058629      0.072127   \n",
       "75%        0.611574      0.669094      0.241424      0.677433      0.616538   \n",
       "max        4.415048      3.822270      3.452486      4.907407      4.779911   \n",
       "\n",
       "                SF6           SF7         alpha  \n",
       "count  27006.000000  27006.000000  27006.000000  \n",
       "mean       0.002597      0.036744      2.379582  \n",
       "std        0.998839      1.204473      1.008681  \n",
       "min       -4.338751     -5.347869      1.000000  \n",
       "25%       -0.668027     -0.688198      2.000000  \n",
       "50%        0.007417      0.081374      2.000000  \n",
       "75%        0.674592      0.807556      3.000000  \n",
       "max        4.075428      5.182912      4.000000  "
      ]
     },
     "execution_count": 322,
     "metadata": {},
     "output_type": "execute_result"
    }
   ],
   "source": [
    "# Summary of train data\n",
    "csv_data.describe()"
   ]
  },
  {
   "cell_type": "code",
   "execution_count": 364,
   "metadata": {},
   "outputs": [
    {
     "data": {
      "text/plain": [
       "<matplotlib.axes._subplots.AxesSubplot at 0x26a098d8048>"
      ]
     },
     "execution_count": 364,
     "metadata": {},
     "output_type": "execute_result"
    },
    {
     "data": {
      "image/png": "[encoded data removed]",
      "text/plain": [
       "<Figure size 720x576 with 2 Axes>"
      ]
     },
     "metadata": {
      "needs_background": "light"
     },
     "output_type": "display_data"
    }
   ],
   "source": [
    "temp=csv_data.corr()\n",
    "fig = plt.figure(figsize=(10,8))\n",
    "sns.heatmap(temp,annot=True, cmap ='Reds')"
   ]
  },
  {
   "cell_type": "code",
   "execution_count": 323,
   "metadata": {},
   "outputs": [
    {
     "data": {
      "text/html": [
       "<div>\n",
       "<style scoped>\n",
       "    .dataframe tbody tr th:only-of-type {\n",
       "        vertical-align: middle;\n",
       "    }\n",
       "\n",
       "    .dataframe tbody tr th {\n",
       "        vertical-align: top;\n",
       "    }\n",
       "\n",
       "    .dataframe thead th {\n",
       "        text-align: right;\n",
       "    }\n",
       "</style>\n",
       "<table border=\"1\" class=\"dataframe\">\n",
       "  <thead>\n",
       "    <tr style=\"text-align: right;\">\n",
       "      <th></th>\n",
       "      <th>SF1</th>\n",
       "      <th>SF2</th>\n",
       "      <th>SF3</th>\n",
       "      <th>SF4</th>\n",
       "      <th>SF5</th>\n",
       "      <th>SF6</th>\n",
       "      <th>SF7</th>\n",
       "    </tr>\n",
       "  </thead>\n",
       "  <tbody>\n",
       "    <tr>\n",
       "      <th>count</th>\n",
       "      <td>11575.000000</td>\n",
       "      <td>11575.000000</td>\n",
       "      <td>11575.000000</td>\n",
       "      <td>11575.000000</td>\n",
       "      <td>11575.000000</td>\n",
       "      <td>11575.000000</td>\n",
       "      <td>11575.000000</td>\n",
       "    </tr>\n",
       "    <tr>\n",
       "      <th>mean</th>\n",
       "      <td>0.001546</td>\n",
       "      <td>0.003995</td>\n",
       "      <td>-0.029754</td>\n",
       "      <td>-0.047606</td>\n",
       "      <td>0.053956</td>\n",
       "      <td>-0.000428</td>\n",
       "      <td>0.037914</td>\n",
       "    </tr>\n",
       "    <tr>\n",
       "      <th>std</th>\n",
       "      <td>0.924519</td>\n",
       "      <td>0.997903</td>\n",
       "      <td>0.537651</td>\n",
       "      <td>1.097842</td>\n",
       "      <td>0.965109</td>\n",
       "      <td>1.003503</td>\n",
       "      <td>1.192223</td>\n",
       "    </tr>\n",
       "    <tr>\n",
       "      <th>min</th>\n",
       "      <td>-4.130410</td>\n",
       "      <td>-4.034445</td>\n",
       "      <td>-4.259227</td>\n",
       "      <td>-4.704038</td>\n",
       "      <td>-4.545787</td>\n",
       "      <td>-4.317883</td>\n",
       "      <td>-5.031257</td>\n",
       "    </tr>\n",
       "    <tr>\n",
       "      <th>25%</th>\n",
       "      <td>-0.580470</td>\n",
       "      <td>-0.673206</td>\n",
       "      <td>-0.308838</td>\n",
       "      <td>-0.754051</td>\n",
       "      <td>-0.502280</td>\n",
       "      <td>-0.682896</td>\n",
       "      <td>-0.684029</td>\n",
       "    </tr>\n",
       "    <tr>\n",
       "      <th>50%</th>\n",
       "      <td>0.011865</td>\n",
       "      <td>-0.001464</td>\n",
       "      <td>-0.044590</td>\n",
       "      <td>-0.055108</td>\n",
       "      <td>0.084598</td>\n",
       "      <td>0.008303</td>\n",
       "      <td>0.081955</td>\n",
       "    </tr>\n",
       "    <tr>\n",
       "      <th>75%</th>\n",
       "      <td>0.600965</td>\n",
       "      <td>0.685805</td>\n",
       "      <td>0.228484</td>\n",
       "      <td>0.649046</td>\n",
       "      <td>0.620426</td>\n",
       "      <td>0.680800</td>\n",
       "      <td>0.807105</td>\n",
       "    </tr>\n",
       "    <tr>\n",
       "      <th>max</th>\n",
       "      <td>4.519223</td>\n",
       "      <td>4.108285</td>\n",
       "      <td>2.763214</td>\n",
       "      <td>4.794511</td>\n",
       "      <td>5.646556</td>\n",
       "      <td>3.900014</td>\n",
       "      <td>6.005315</td>\n",
       "    </tr>\n",
       "  </tbody>\n",
       "</table>\n",
       "</div>"
      ],
      "text/plain": [
       "                SF1           SF2           SF3           SF4           SF5  \\\n",
       "count  11575.000000  11575.000000  11575.000000  11575.000000  11575.000000   \n",
       "mean       0.001546      0.003995     -0.029754     -0.047606      0.053956   \n",
       "std        0.924519      0.997903      0.537651      1.097842      0.965109   \n",
       "min       -4.130410     -4.034445     -4.259227     -4.704038     -4.545787   \n",
       "25%       -0.580470     -0.673206     -0.308838     -0.754051     -0.502280   \n",
       "50%        0.011865     -0.001464     -0.044590     -0.055108      0.084598   \n",
       "75%        0.600965      0.685805      0.228484      0.649046      0.620426   \n",
       "max        4.519223      4.108285      2.763214      4.794511      5.646556   \n",
       "\n",
       "                SF6           SF7  \n",
       "count  11575.000000  11575.000000  \n",
       "mean      -0.000428      0.037914  \n",
       "std        1.003503      1.192223  \n",
       "min       -4.317883     -5.031257  \n",
       "25%       -0.682896     -0.684029  \n",
       "50%        0.008303      0.081955  \n",
       "75%        0.680800      0.807105  \n",
       "max        3.900014      6.005315  "
      ]
     },
     "execution_count": 323,
     "metadata": {},
     "output_type": "execute_result"
    }
   ],
   "source": [
    "# summary of test data\n",
    "c_data.describe()"
   ]
  },
  {
   "cell_type": "code",
   "execution_count": 366,
   "metadata": {},
   "outputs": [
    {
     "data": {
      "text/plain": [
       "<matplotlib.axes._subplots.AxesSubplot at 0x26a521276a0>"
      ]
     },
     "execution_count": 366,
     "metadata": {},
     "output_type": "execute_result"
    },
    {
     "data": {
      "image/png": "[encoded data removed]",
      "text/plain": [
       "<Figure size 720x576 with 2 Axes>"
      ]
     },
     "metadata": {
      "needs_background": "light"
     },
     "output_type": "display_data"
    }
   ],
   "source": [
    "temp=c_data.corr()\n",
    "fig = plt.figure(figsize=(10,8))\n",
    "sns.heatmap(temp,annot=True, cmap ='Pastel1')"
   ]
  },
  {
   "cell_type": "code",
   "execution_count": 324,
   "metadata": {},
   "outputs": [
    {
     "data": {
      "text/plain": [
       "date      0\n",
       "ticker    0\n",
       "SF1       0\n",
       "SF2       0\n",
       "SF3       0\n",
       "SF4       0\n",
       "SF5       0\n",
       "SF6       0\n",
       "SF7       0\n",
       "alpha     0\n",
       "dtype: int64"
      ]
     },
     "execution_count": 324,
     "metadata": {},
     "output_type": "execute_result"
    }
   ],
   "source": [
    "# checking for null values in train data\n",
    "csv_data.isnull().sum()"
   ]
  },
  {
   "cell_type": "code",
   "execution_count": 325,
   "metadata": {},
   "outputs": [
    {
     "data": {
      "text/plain": [
       "date      0\n",
       "ticker    0\n",
       "SF1       0\n",
       "SF2       0\n",
       "SF3       0\n",
       "SF4       0\n",
       "SF5       0\n",
       "SF6       0\n",
       "SF7       0\n",
       "dtype: int64"
      ]
     },
     "execution_count": 325,
     "metadata": {},
     "output_type": "execute_result"
    }
   ],
   "source": [
    "# checking for null values in test  data\n",
    "c_data.isnull().sum()"
   ]
  },
  {
   "cell_type": "code",
   "execution_count": 326,
   "metadata": {},
   "outputs": [],
   "source": [
    "#converting date datatype to datetime of train data\n",
    "csv_data['date'] = csv_data['date'].apply(lambda x: '20'+x.split('/')[-1]+'-'+x.split('/')[1]+'-'+x.split('/')[0])\n",
    "csv_data['date']=pd.to_datetime(csv_data['date']).dt.date"
   ]
  },
  {
   "cell_type": "code",
   "execution_count": 327,
   "metadata": {},
   "outputs": [
    {
     "data": {
      "text/html": [
       "<div>\n",
       "<style scoped>\n",
       "    .dataframe tbody tr th:only-of-type {\n",
       "        vertical-align: middle;\n",
       "    }\n",
       "\n",
       "    .dataframe tbody tr th {\n",
       "        vertical-align: top;\n",
       "    }\n",
       "\n",
       "    .dataframe thead th {\n",
       "        text-align: right;\n",
       "    }\n",
       "</style>\n",
       "<table border=\"1\" class=\"dataframe\">\n",
       "  <thead>\n",
       "    <tr style=\"text-align: right;\">\n",
       "      <th></th>\n",
       "      <th>date</th>\n",
       "      <th>ticker</th>\n",
       "      <th>SF1</th>\n",
       "      <th>SF2</th>\n",
       "      <th>SF3</th>\n",
       "      <th>SF4</th>\n",
       "      <th>SF5</th>\n",
       "      <th>SF6</th>\n",
       "      <th>SF7</th>\n",
       "      <th>alpha</th>\n",
       "    </tr>\n",
       "  </thead>\n",
       "  <tbody>\n",
       "    <tr>\n",
       "      <th>0</th>\n",
       "      <td>2018-08-21</td>\n",
       "      <td>$NTAP</td>\n",
       "      <td>-0.628652</td>\n",
       "      <td>0.988891</td>\n",
       "      <td>-0.055714</td>\n",
       "      <td>0.774379</td>\n",
       "      <td>0.551089</td>\n",
       "      <td>-1.329229</td>\n",
       "      <td>-0.995539</td>\n",
       "      <td>2</td>\n",
       "    </tr>\n",
       "    <tr>\n",
       "      <th>1</th>\n",
       "      <td>2018-10-11</td>\n",
       "      <td>$WYNN</td>\n",
       "      <td>1.315786</td>\n",
       "      <td>1.438754</td>\n",
       "      <td>0.187327</td>\n",
       "      <td>0.608933</td>\n",
       "      <td>-1.153030</td>\n",
       "      <td>1.859441</td>\n",
       "      <td>0.730995</td>\n",
       "      <td>3</td>\n",
       "    </tr>\n",
       "    <tr>\n",
       "      <th>2</th>\n",
       "      <td>2018-08-21</td>\n",
       "      <td>$DRI</td>\n",
       "      <td>-1.141388</td>\n",
       "      <td>-1.455016</td>\n",
       "      <td>0.332755</td>\n",
       "      <td>0.674502</td>\n",
       "      <td>0.111326</td>\n",
       "      <td>-0.478597</td>\n",
       "      <td>-1.488157</td>\n",
       "      <td>1</td>\n",
       "    </tr>\n",
       "    <tr>\n",
       "      <th>3</th>\n",
       "      <td>2018-07-10</td>\n",
       "      <td>$ge</td>\n",
       "      <td>-0.054839</td>\n",
       "      <td>-1.454149</td>\n",
       "      <td>-0.162267</td>\n",
       "      <td>-0.681870</td>\n",
       "      <td>0.307869</td>\n",
       "      <td>-0.529987</td>\n",
       "      <td>0.404172</td>\n",
       "      <td>2</td>\n",
       "    </tr>\n",
       "    <tr>\n",
       "      <th>4</th>\n",
       "      <td>2018-09-12</td>\n",
       "      <td>$FE</td>\n",
       "      <td>-0.686366</td>\n",
       "      <td>0.838865</td>\n",
       "      <td>0.073830</td>\n",
       "      <td>0.679024</td>\n",
       "      <td>0.329463</td>\n",
       "      <td>1.262782</td>\n",
       "      <td>-1.024042</td>\n",
       "      <td>2</td>\n",
       "    </tr>\n",
       "  </tbody>\n",
       "</table>\n",
       "</div>"
      ],
      "text/plain": [
       "         date ticker       SF1       SF2       SF3       SF4       SF5  \\\n",
       "0  2018-08-21  $NTAP -0.628652  0.988891 -0.055714  0.774379  0.551089   \n",
       "1  2018-10-11  $WYNN  1.315786  1.438754  0.187327  0.608933 -1.153030   \n",
       "2  2018-08-21   $DRI -1.141388 -1.455016  0.332755  0.674502  0.111326   \n",
       "3  2018-07-10    $ge -0.054839 -1.454149 -0.162267 -0.681870  0.307869   \n",
       "4  2018-09-12    $FE -0.686366  0.838865  0.073830  0.679024  0.329463   \n",
       "\n",
       "        SF6       SF7  alpha  \n",
       "0 -1.329229 -0.995539      2  \n",
       "1  1.859441  0.730995      3  \n",
       "2 -0.478597 -1.488157      1  \n",
       "3 -0.529987  0.404172      2  \n",
       "4  1.262782 -1.024042      2  "
      ]
     },
     "execution_count": 327,
     "metadata": {},
     "output_type": "execute_result"
    }
   ],
   "source": [
    "csv_data.head()"
   ]
  },
  {
   "cell_type": "code",
   "execution_count": 328,
   "metadata": {},
   "outputs": [],
   "source": [
    "# converting date datatype to datetime of test data\n",
    "c_data['date'] = c_data['date'].apply(lambda x: '20'+x.split('/')[-1]+'-'+x.split('/')[1]+'-'+x.split('/')[0])\n",
    "c_data['date']=pd.to_datetime(c_data['date']).dt.date"
   ]
  },
  {
   "cell_type": "code",
   "execution_count": 329,
   "metadata": {},
   "outputs": [
    {
     "data": {
      "text/html": [
       "<div>\n",
       "<style scoped>\n",
       "    .dataframe tbody tr th:only-of-type {\n",
       "        vertical-align: middle;\n",
       "    }\n",
       "\n",
       "    .dataframe tbody tr th {\n",
       "        vertical-align: top;\n",
       "    }\n",
       "\n",
       "    .dataframe thead th {\n",
       "        text-align: right;\n",
       "    }\n",
       "</style>\n",
       "<table border=\"1\" class=\"dataframe\">\n",
       "  <thead>\n",
       "    <tr style=\"text-align: right;\">\n",
       "      <th></th>\n",
       "      <th>date</th>\n",
       "      <th>ticker</th>\n",
       "      <th>SF1</th>\n",
       "      <th>SF2</th>\n",
       "      <th>SF3</th>\n",
       "      <th>SF4</th>\n",
       "      <th>SF5</th>\n",
       "      <th>SF6</th>\n",
       "      <th>SF7</th>\n",
       "    </tr>\n",
       "  </thead>\n",
       "  <tbody>\n",
       "    <tr>\n",
       "      <th>0</th>\n",
       "      <td>2018-07-21</td>\n",
       "      <td>$INTC</td>\n",
       "      <td>-3.062194</td>\n",
       "      <td>1.223466</td>\n",
       "      <td>1.741714</td>\n",
       "      <td>2.279266</td>\n",
       "      <td>-1.323573</td>\n",
       "      <td>-0.274912</td>\n",
       "      <td>-4.504449</td>\n",
       "    </tr>\n",
       "    <tr>\n",
       "      <th>1</th>\n",
       "      <td>2018-10-05</td>\n",
       "      <td>$CTSH</td>\n",
       "      <td>0.816263</td>\n",
       "      <td>-2.184408</td>\n",
       "      <td>0.157975</td>\n",
       "      <td>-0.264743</td>\n",
       "      <td>-0.836282</td>\n",
       "      <td>0.046276</td>\n",
       "      <td>0.826353</td>\n",
       "    </tr>\n",
       "    <tr>\n",
       "      <th>2</th>\n",
       "      <td>2018-10-01</td>\n",
       "      <td>$CB</td>\n",
       "      <td>0.401281</td>\n",
       "      <td>0.091604</td>\n",
       "      <td>0.083411</td>\n",
       "      <td>-1.147041</td>\n",
       "      <td>-0.485223</td>\n",
       "      <td>-0.601060</td>\n",
       "      <td>1.012811</td>\n",
       "    </tr>\n",
       "    <tr>\n",
       "      <th>3</th>\n",
       "      <td>2018-10-24</td>\n",
       "      <td>$CTAS</td>\n",
       "      <td>-0.783521</td>\n",
       "      <td>1.192929</td>\n",
       "      <td>0.813831</td>\n",
       "      <td>-0.368166</td>\n",
       "      <td>-1.113656</td>\n",
       "      <td>-0.553581</td>\n",
       "      <td>-0.683803</td>\n",
       "    </tr>\n",
       "    <tr>\n",
       "      <th>4</th>\n",
       "      <td>2018-07-27</td>\n",
       "      <td>$intc</td>\n",
       "      <td>0.796507</td>\n",
       "      <td>0.455341</td>\n",
       "      <td>0.679032</td>\n",
       "      <td>0.354336</td>\n",
       "      <td>-1.799055</td>\n",
       "      <td>0.126153</td>\n",
       "      <td>0.297111</td>\n",
       "    </tr>\n",
       "  </tbody>\n",
       "</table>\n",
       "</div>"
      ],
      "text/plain": [
       "         date ticker       SF1       SF2       SF3       SF4       SF5  \\\n",
       "0  2018-07-21  $INTC -3.062194  1.223466  1.741714  2.279266 -1.323573   \n",
       "1  2018-10-05  $CTSH  0.816263 -2.184408  0.157975 -0.264743 -0.836282   \n",
       "2  2018-10-01    $CB  0.401281  0.091604  0.083411 -1.147041 -0.485223   \n",
       "3  2018-10-24  $CTAS -0.783521  1.192929  0.813831 -0.368166 -1.113656   \n",
       "4  2018-07-27  $intc  0.796507  0.455341  0.679032  0.354336 -1.799055   \n",
       "\n",
       "        SF6       SF7  \n",
       "0 -0.274912 -4.504449  \n",
       "1  0.046276  0.826353  \n",
       "2 -0.601060  1.012811  \n",
       "3 -0.553581 -0.683803  \n",
       "4  0.126153  0.297111  "
      ]
     },
     "execution_count": 329,
     "metadata": {},
     "output_type": "execute_result"
    }
   ],
   "source": [
    "c_data.head()"
   ]
  },
  {
   "cell_type": "code",
   "execution_count": 333,
   "metadata": {},
   "outputs": [
    {
     "data": {
      "text/plain": [
       "date       object\n",
       "ticker     object\n",
       "SF1       float64\n",
       "SF2       float64\n",
       "SF3       float64\n",
       "SF4       float64\n",
       "SF5       float64\n",
       "SF6       float64\n",
       "SF7       float64\n",
       "alpha       int64\n",
       "dtype: object"
      ]
     },
     "execution_count": 333,
     "metadata": {},
     "output_type": "execute_result"
    }
   ],
   "source": [
    "# checking the datatypes of train data\n",
    "csv_data.dtypes"
   ]
  },
  {
   "cell_type": "code",
   "execution_count": 331,
   "metadata": {
    "scrolled": true
   },
   "outputs": [
    {
     "data": {
      "text/plain": [
       "date       object\n",
       "ticker     object\n",
       "SF1       float64\n",
       "SF2       float64\n",
       "SF3       float64\n",
       "SF4       float64\n",
       "SF5       float64\n",
       "SF6       float64\n",
       "SF7       float64\n",
       "dtype: object"
      ]
     },
     "execution_count": 331,
     "metadata": {},
     "output_type": "execute_result"
    }
   ],
   "source": [
    "# checking the data types of test data\n",
    "c_data.dtypes"
   ]
  },
  {
   "cell_type": "code",
   "execution_count": 332,
   "metadata": {},
   "outputs": [
    {
     "data": {
      "text/plain": [
       "$BAC      90\n",
       "$NVDA     89\n",
       "$GOOGL    88\n",
       "$NFLX     88\n",
       "$F        88\n",
       "$SHLD     88\n",
       "$AMD      87\n",
       "$FB       87\n",
       "$ATVI     86\n",
       "$CHK      86\n",
       "$DIS      85\n",
       "$MSFT     85\n",
       "$MU       85\n",
       "$AAPL     84\n",
       "$BA       83\n",
       "$IBM      83\n",
       "$CELG     83\n",
       "$GOOG     82\n",
       "$AAL      82\n",
       "$COST     82\n",
       "$JPM      82\n",
       "$LMT      82\n",
       "$INTC     81\n",
       "$CLF      81\n",
       "$CAT      80\n",
       "$GE       80\n",
       "$T        80\n",
       "$XOM      79\n",
       "$WYNN     79\n",
       "$PYPL     79\n",
       "          ..\n",
       "$cnp       1\n",
       "$ECHO      1\n",
       "$CALA      1\n",
       "$mco       1\n",
       "$P         1\n",
       "$TGE       1\n",
       "$zion      1\n",
       "$$NKE      1\n",
       "$amrn      1\n",
       "$$s        1\n",
       "$vrsn      1\n",
       "$TTWO      1\n",
       "$eix       1\n",
       "$ivz       1\n",
       "$QDEL      1\n",
       "$expd      1\n",
       "$jef       1\n",
       "$SQQQ      1\n",
       "$UNVR      1\n",
       "$GBX       1\n",
       "$duk       1\n",
       "$rl        1\n",
       "$AmD       1\n",
       "$Syf       1\n",
       "$VKTX      1\n",
       "$KTOS      1\n",
       "$GBR       1\n",
       "$chtr      1\n",
       "$trv       1\n",
       "$gww       1\n",
       "Name: ticker, Length: 1304, dtype: int64"
      ]
     },
     "execution_count": 332,
     "metadata": {},
     "output_type": "execute_result"
    }
   ],
   "source": [
    "# checking value counts of ticker of train data\n",
    "csv_data[\"ticker\"].value_counts()"
   ]
  },
  {
   "cell_type": "code",
   "execution_count": 334,
   "metadata": {},
   "outputs": [
    {
     "data": {
      "text/plain": [
       "$AMZN    46\n",
       "$JCP     43\n",
       "$GE      43\n",
       "$T       42\n",
       "$M       39\n",
       "$WMT     39\n",
       "$AAPL    39\n",
       "$GM      38\n",
       "$JNJ     38\n",
       "$AVGO    38\n",
       "$MU      38\n",
       "$S       37\n",
       "$AMAT    37\n",
       "$PYPL    37\n",
       "$V       37\n",
       "$LOW     37\n",
       "$INTC    36\n",
       "$CLF     36\n",
       "$MSFT    36\n",
       "$SBUX    36\n",
       "$AMD     36\n",
       "$CHK     36\n",
       "$LRCX    36\n",
       "$FB      36\n",
       "$X       36\n",
       "$CELG    36\n",
       "$QCOM    35\n",
       "$NFLX    35\n",
       "$APA     35\n",
       "$NKE     35\n",
       "         ..\n",
       "$VALE     1\n",
       "$klac     1\n",
       "$BLFS     1\n",
       "$LXK      1\n",
       "$DJIA     1\n",
       "$df       1\n",
       "$CLI      1\n",
       "$GNRC     1\n",
       "$shak     1\n",
       "$NTNX     1\n",
       "$mo       1\n",
       "$swks     1\n",
       "$bsx      1\n",
       "$eb       1\n",
       "$ads      1\n",
       "$mgm      1\n",
       "$kmb      1\n",
       "$bmy      1\n",
       "$GSAT     1\n",
       "$TTOO     1\n",
       "$MDB      1\n",
       "$etr      1\n",
       "$ABX      1\n",
       "$apc      1\n",
       "$ksu      1\n",
       "$mmm      1\n",
       "$HCBK     1\n",
       "$BB       1\n",
       "$LGND     1\n",
       "$avy      1\n",
       "Name: ticker, Length: 1012, dtype: int64"
      ]
     },
     "execution_count": 334,
     "metadata": {},
     "output_type": "execute_result"
    }
   ],
   "source": [
    "# checking the value count of ticker for test data\n",
    "c_data[\"ticker\"].value_counts()"
   ]
  },
  {
   "cell_type": "code",
   "execution_count": 335,
   "metadata": {},
   "outputs": [
    {
     "data": {
      "text/plain": [
       "<bound method Series.unique of 0        $NTAP\n",
       "1        $WYNN\n",
       "2         $DRI\n",
       "3          $ge\n",
       "4          $FE\n",
       "5           $F\n",
       "6         $LOW\n",
       "7        $ILMN\n",
       "8         $cmg\n",
       "9         $NEE\n",
       "10        $LEN\n",
       "11        $FTR\n",
       "12        $tif\n",
       "13       $COST\n",
       "14       $LRCX\n",
       "15         $OI\n",
       "16       $DLTR\n",
       "17         $VZ\n",
       "18       $CBOE\n",
       "19       $CDNS\n",
       "20        $MYL\n",
       "21       $WYNN\n",
       "22        $BIG\n",
       "23        $DNR\n",
       "24       $AMZN\n",
       "25        $SYK\n",
       "26        $DAL\n",
       "27         $ba\n",
       "28        $PHM\n",
       "29         $MO\n",
       "         ...  \n",
       "26976     $CHD\n",
       "26977     $low\n",
       "26978    $AMAT\n",
       "26979    $SHLD\n",
       "26980     $KMX\n",
       "26981    $TGNA\n",
       "26982    $SBAC\n",
       "26983      $DO\n",
       "26984     $SLB\n",
       "26985     $JNJ\n",
       "26986     $DNR\n",
       "26987     $VTR\n",
       "26988    $ORLY\n",
       "26989    $NVDA\n",
       "26990       $X\n",
       "26991     $PEG\n",
       "26992     $BLK\n",
       "26993     $AMP\n",
       "26994       $V\n",
       "26995       $V\n",
       "26996    $AMZN\n",
       "26997     $KEY\n",
       "26998      $EA\n",
       "26999     $PXD\n",
       "27000    $TMUS\n",
       "27001      $RF\n",
       "27002      $PG\n",
       "27003     $JCP\n",
       "27004    $NVDA\n",
       "27005     $WBA\n",
       "Name: ticker, Length: 27006, dtype: object>"
      ]
     },
     "execution_count": 335,
     "metadata": {},
     "output_type": "execute_result"
    }
   ],
   "source": [
    "# checking for unique tickers for train data\n",
    "csv_data[\"ticker\"].unique"
   ]
  },
  {
   "cell_type": "code",
   "execution_count": 336,
   "metadata": {},
   "outputs": [
    {
     "data": {
      "text/plain": [
       "<bound method Series.unique of 0         $INTC\n",
       "1         $CTSH\n",
       "2           $CB\n",
       "3         $CTAS\n",
       "4         $intc\n",
       "5          $TSN\n",
       "6          $NUE\n",
       "7        $GOOGL\n",
       "8          $SPY\n",
       "9          $BDX\n",
       "10         $PKG\n",
       "11        $KORS\n",
       "12         $AGN\n",
       "13         $UDR\n",
       "14        $NAVI\n",
       "15        $Nflx\n",
       "16        $qcom\n",
       "17         $KSS\n",
       "18          $WY\n",
       "19         $ACN\n",
       "20          $AN\n",
       "21         $ETR\n",
       "22         $LMT\n",
       "23         $IFF\n",
       "24         $DNR\n",
       "25         $WAT\n",
       "26         $UTX\n",
       "27          $BA\n",
       "28        $TSCO\n",
       "29         $MCD\n",
       "          ...  \n",
       "11545      $EXC\n",
       "11546      $CVS\n",
       "11547      $UHS\n",
       "11548     $ULTA\n",
       "11549      $VFC\n",
       "11550      $MNK\n",
       "11551       $EA\n",
       "11552      $STZ\n",
       "11553     $TSCO\n",
       "11554     $INCY\n",
       "11555     $ORCL\n",
       "11556      $NWL\n",
       "11557      $DIS\n",
       "11558     $FFIV\n",
       "11559      $WDC\n",
       "11560     $ADSK\n",
       "11561      $BAX\n",
       "11562      $UNP\n",
       "11563      $AEP\n",
       "11564      $GIS\n",
       "11565       $fb\n",
       "11566      $PNR\n",
       "11567     $SHLD\n",
       "11568      $PSA\n",
       "11569      $ANF\n",
       "11570        $T\n",
       "11571      $WFC\n",
       "11572      $MAT\n",
       "11573       $RF\n",
       "11574     $bbby\n",
       "Name: ticker, Length: 11575, dtype: object>"
      ]
     },
     "execution_count": 336,
     "metadata": {},
     "output_type": "execute_result"
    }
   ],
   "source": [
    "# checking unique tickers for test data\n",
    "c_data[\"ticker\"].unique"
   ]
  },
  {
   "cell_type": "markdown",
   "metadata": {},
   "source": [
    "### GRAPHS FOR ALL THE STOCK FACTORS  OF TRAIN DATA"
   ]
  },
  {
   "cell_type": "code",
   "execution_count": 371,
   "metadata": {},
   "outputs": [
    {
     "data": {
      "text/plain": [
       "Text(0.5, 1.0, 'Distribution of SF1')"
      ]
     },
     "execution_count": 371,
     "metadata": {},
     "output_type": "execute_result"
    },
    {
     "data": {
      "image/png": "[encoded data removed]",
      "text/plain": [
       "<Figure size 432x288 with 1 Axes>"
      ]
     },
     "metadata": {
      "needs_background": "light"
     },
     "output_type": "display_data"
    }
   ],
   "source": [
    "# graph for distribution of stock factor 1 \n",
    "hist(csv_data.SF1, bins=30 , rwidth=.8)\n",
    "xlabel('Stock Factor')\n",
    "ylabel('frequency')\n",
    "title('Distribution of SF1')"
   ]
  },
  {
   "cell_type": "code",
   "execution_count": 373,
   "metadata": {},
   "outputs": [
    {
     "data": {
      "text/plain": [
       "Text(0.5, 1.0, 'Distribution of SF2')"
      ]
     },
     "execution_count": 373,
     "metadata": {},
     "output_type": "execute_result"
    },
    {
     "data": {
      "image/png": "[encoded data removed]",
      "text/plain": [
       "<Figure size 432x288 with 1 Axes>"
      ]
     },
     "metadata": {
      "needs_background": "light"
     },
     "output_type": "display_data"
    }
   ],
   "source": [
    "# graph for distribution of stock factor 2\n",
    "hist(csv_data.SF2, bins=30 , rwidth=.8)\n",
    "xlabel('Stock Factor')\n",
    "ylabel('frequency')\n",
    "title('Distribution of SF2')"
   ]
  },
  {
   "cell_type": "code",
   "execution_count": 374,
   "metadata": {},
   "outputs": [
    {
     "data": {
      "text/plain": [
       "Text(0.5, 1.0, 'Distribution of SF3')"
      ]
     },
     "execution_count": 374,
     "metadata": {},
     "output_type": "execute_result"
    },
    {
     "data": {
      "image/png": "[encoded data removed]",
      "text/plain": [
       "<Figure size 432x288 with 1 Axes>"
      ]
     },
     "metadata": {
      "needs_background": "light"
     },
     "output_type": "display_data"
    }
   ],
   "source": [
    "#graph for distribution of stock factor 3\n",
    "hist(csv_data.SF3, bins=30 , rwidth=.8)\n",
    "xlabel('Stock Factor')\n",
    "ylabel('frequency')\n",
    "title('Distribution of SF3')"
   ]
  },
  {
   "cell_type": "code",
   "execution_count": 375,
   "metadata": {},
   "outputs": [
    {
     "data": {
      "text/plain": [
       "Text(0.5, 1.0, 'Distribution of SF4')"
      ]
     },
     "execution_count": 375,
     "metadata": {},
     "output_type": "execute_result"
    },
    {
     "data": {
      "image/png": "[encoded data removed]",
      "text/plain": [
       "<Figure size 432x288 with 1 Axes>"
      ]
     },
     "metadata": {
      "needs_background": "light"
     },
     "output_type": "display_data"
    }
   ],
   "source": [
    "#graph for distribution of stock factor 4\n",
    "hist(csv_data.SF4, bins=30 , rwidth=.8)\n",
    "xlabel('Stock Factor')\n",
    "ylabel('frequency')\n",
    "title('Distribution of SF4')"
   ]
  },
  {
   "cell_type": "code",
   "execution_count": 376,
   "metadata": {},
   "outputs": [
    {
     "data": {
      "text/plain": [
       "Text(0.5, 1.0, 'Distribution of SF5')"
      ]
     },
     "execution_count": 376,
     "metadata": {},
     "output_type": "execute_result"
    },
    {
     "data": {
      "image/png": "[encoded data removed]",
      "text/plain": [
       "<Figure size 432x288 with 1 Axes>"
      ]
     },
     "metadata": {
      "needs_background": "light"
     },
     "output_type": "display_data"
    }
   ],
   "source": [
    "# graph for distribution of stock factor 5\n",
    "hist(csv_data.SF5, bins=30 , rwidth=.8)\n",
    "xlabel('Stock Factor')\n",
    "ylabel('frequency')\n",
    "title('Distribution of SF5')"
   ]
  },
  {
   "cell_type": "code",
   "execution_count": 377,
   "metadata": {},
   "outputs": [
    {
     "data": {
      "text/plain": [
       "Text(0.5, 1.0, 'Distribution of SF6')"
      ]
     },
     "execution_count": 377,
     "metadata": {},
     "output_type": "execute_result"
    },
    {
     "data": {
      "image/png": "[encoded data removed]",
      "text/plain": [
       "<Figure size 432x288 with 1 Axes>"
      ]
     },
     "metadata": {
      "needs_background": "light"
     },
     "output_type": "display_data"
    }
   ],
   "source": [
    "# graph for distribution of stock factor 6\n",
    "hist(csv_data.SF6, bins=30 , rwidth=.8)\n",
    "xlabel('Stock Factor')\n",
    "ylabel('frequency')\n",
    "title('Distribution of SF6')"
   ]
  },
  {
   "cell_type": "code",
   "execution_count": 378,
   "metadata": {},
   "outputs": [
    {
     "data": {
      "text/plain": [
       "Text(0.5, 1.0, 'Distribution of SF7')"
      ]
     },
     "execution_count": 378,
     "metadata": {},
     "output_type": "execute_result"
    },
    {
     "data": {
      "image/png": "[encoded data removed]",
      "text/plain": [
       "<Figure size 432x288 with 1 Axes>"
      ]
     },
     "metadata": {
      "needs_background": "light"
     },
     "output_type": "display_data"
    }
   ],
   "source": [
    "# graph for distribution of stock factor 7\n",
    "hist(csv_data.SF7, bins=30 , rwidth=.8)\n",
    "xlabel('Stock Factor')\n",
    "ylabel('frequency')\n",
    "title('Distribution of SF7')"
   ]
  },
  {
   "cell_type": "code",
   "execution_count": 337,
   "metadata": {},
   "outputs": [],
   "source": [
    "# changing the ticker of train data to lower case \n",
    "csv_data['ticker'] = csv_data['ticker'].apply(lambda x:x.replace('$',\"\")).str.lower()"
   ]
  },
  {
   "cell_type": "code",
   "execution_count": 338,
   "metadata": {},
   "outputs": [
    {
     "data": {
      "text/html": [
       "<div>\n",
       "<style scoped>\n",
       "    .dataframe tbody tr th:only-of-type {\n",
       "        vertical-align: middle;\n",
       "    }\n",
       "\n",
       "    .dataframe tbody tr th {\n",
       "        vertical-align: top;\n",
       "    }\n",
       "\n",
       "    .dataframe thead th {\n",
       "        text-align: right;\n",
       "    }\n",
       "</style>\n",
       "<table border=\"1\" class=\"dataframe\">\n",
       "  <thead>\n",
       "    <tr style=\"text-align: right;\">\n",
       "      <th></th>\n",
       "      <th>date</th>\n",
       "      <th>ticker</th>\n",
       "      <th>SF1</th>\n",
       "      <th>SF2</th>\n",
       "      <th>SF3</th>\n",
       "      <th>SF4</th>\n",
       "      <th>SF5</th>\n",
       "      <th>SF6</th>\n",
       "      <th>SF7</th>\n",
       "      <th>alpha</th>\n",
       "    </tr>\n",
       "  </thead>\n",
       "  <tbody>\n",
       "    <tr>\n",
       "      <th>0</th>\n",
       "      <td>2018-08-21</td>\n",
       "      <td>ntap</td>\n",
       "      <td>-0.628652</td>\n",
       "      <td>0.988891</td>\n",
       "      <td>-0.055714</td>\n",
       "      <td>0.774379</td>\n",
       "      <td>0.551089</td>\n",
       "      <td>-1.329229</td>\n",
       "      <td>-0.995539</td>\n",
       "      <td>2</td>\n",
       "    </tr>\n",
       "    <tr>\n",
       "      <th>1</th>\n",
       "      <td>2018-10-11</td>\n",
       "      <td>wynn</td>\n",
       "      <td>1.315786</td>\n",
       "      <td>1.438754</td>\n",
       "      <td>0.187327</td>\n",
       "      <td>0.608933</td>\n",
       "      <td>-1.153030</td>\n",
       "      <td>1.859441</td>\n",
       "      <td>0.730995</td>\n",
       "      <td>3</td>\n",
       "    </tr>\n",
       "    <tr>\n",
       "      <th>2</th>\n",
       "      <td>2018-08-21</td>\n",
       "      <td>dri</td>\n",
       "      <td>-1.141388</td>\n",
       "      <td>-1.455016</td>\n",
       "      <td>0.332755</td>\n",
       "      <td>0.674502</td>\n",
       "      <td>0.111326</td>\n",
       "      <td>-0.478597</td>\n",
       "      <td>-1.488157</td>\n",
       "      <td>1</td>\n",
       "    </tr>\n",
       "    <tr>\n",
       "      <th>3</th>\n",
       "      <td>2018-07-10</td>\n",
       "      <td>ge</td>\n",
       "      <td>-0.054839</td>\n",
       "      <td>-1.454149</td>\n",
       "      <td>-0.162267</td>\n",
       "      <td>-0.681870</td>\n",
       "      <td>0.307869</td>\n",
       "      <td>-0.529987</td>\n",
       "      <td>0.404172</td>\n",
       "      <td>2</td>\n",
       "    </tr>\n",
       "    <tr>\n",
       "      <th>4</th>\n",
       "      <td>2018-09-12</td>\n",
       "      <td>fe</td>\n",
       "      <td>-0.686366</td>\n",
       "      <td>0.838865</td>\n",
       "      <td>0.073830</td>\n",
       "      <td>0.679024</td>\n",
       "      <td>0.329463</td>\n",
       "      <td>1.262782</td>\n",
       "      <td>-1.024042</td>\n",
       "      <td>2</td>\n",
       "    </tr>\n",
       "  </tbody>\n",
       "</table>\n",
       "</div>"
      ],
      "text/plain": [
       "         date ticker       SF1       SF2       SF3       SF4       SF5  \\\n",
       "0  2018-08-21   ntap -0.628652  0.988891 -0.055714  0.774379  0.551089   \n",
       "1  2018-10-11   wynn  1.315786  1.438754  0.187327  0.608933 -1.153030   \n",
       "2  2018-08-21    dri -1.141388 -1.455016  0.332755  0.674502  0.111326   \n",
       "3  2018-07-10     ge -0.054839 -1.454149 -0.162267 -0.681870  0.307869   \n",
       "4  2018-09-12     fe -0.686366  0.838865  0.073830  0.679024  0.329463   \n",
       "\n",
       "        SF6       SF7  alpha  \n",
       "0 -1.329229 -0.995539      2  \n",
       "1  1.859441  0.730995      3  \n",
       "2 -0.478597 -1.488157      1  \n",
       "3 -0.529987  0.404172      2  \n",
       "4  1.262782 -1.024042      2  "
      ]
     },
     "execution_count": 338,
     "metadata": {},
     "output_type": "execute_result"
    }
   ],
   "source": [
    "csv_data.head()"
   ]
  },
  {
   "cell_type": "code",
   "execution_count": 339,
   "metadata": {},
   "outputs": [],
   "source": [
    "# changing the ticker of test data to lower case \n",
    "c_data['ticker'] = c_data['ticker'].apply(lambda x:x.replace('$',\"\")).str.lower()"
   ]
  },
  {
   "cell_type": "code",
   "execution_count": 340,
   "metadata": {},
   "outputs": [
    {
     "data": {
      "text/html": [
       "<div>\n",
       "<style scoped>\n",
       "    .dataframe tbody tr th:only-of-type {\n",
       "        vertical-align: middle;\n",
       "    }\n",
       "\n",
       "    .dataframe tbody tr th {\n",
       "        vertical-align: top;\n",
       "    }\n",
       "\n",
       "    .dataframe thead th {\n",
       "        text-align: right;\n",
       "    }\n",
       "</style>\n",
       "<table border=\"1\" class=\"dataframe\">\n",
       "  <thead>\n",
       "    <tr style=\"text-align: right;\">\n",
       "      <th></th>\n",
       "      <th>date</th>\n",
       "      <th>ticker</th>\n",
       "      <th>SF1</th>\n",
       "      <th>SF2</th>\n",
       "      <th>SF3</th>\n",
       "      <th>SF4</th>\n",
       "      <th>SF5</th>\n",
       "      <th>SF6</th>\n",
       "      <th>SF7</th>\n",
       "    </tr>\n",
       "  </thead>\n",
       "  <tbody>\n",
       "    <tr>\n",
       "      <th>0</th>\n",
       "      <td>2018-07-21</td>\n",
       "      <td>intc</td>\n",
       "      <td>-3.062194</td>\n",
       "      <td>1.223466</td>\n",
       "      <td>1.741714</td>\n",
       "      <td>2.279266</td>\n",
       "      <td>-1.323573</td>\n",
       "      <td>-0.274912</td>\n",
       "      <td>-4.504449</td>\n",
       "    </tr>\n",
       "    <tr>\n",
       "      <th>1</th>\n",
       "      <td>2018-10-05</td>\n",
       "      <td>ctsh</td>\n",
       "      <td>0.816263</td>\n",
       "      <td>-2.184408</td>\n",
       "      <td>0.157975</td>\n",
       "      <td>-0.264743</td>\n",
       "      <td>-0.836282</td>\n",
       "      <td>0.046276</td>\n",
       "      <td>0.826353</td>\n",
       "    </tr>\n",
       "    <tr>\n",
       "      <th>2</th>\n",
       "      <td>2018-10-01</td>\n",
       "      <td>cb</td>\n",
       "      <td>0.401281</td>\n",
       "      <td>0.091604</td>\n",
       "      <td>0.083411</td>\n",
       "      <td>-1.147041</td>\n",
       "      <td>-0.485223</td>\n",
       "      <td>-0.601060</td>\n",
       "      <td>1.012811</td>\n",
       "    </tr>\n",
       "    <tr>\n",
       "      <th>3</th>\n",
       "      <td>2018-10-24</td>\n",
       "      <td>ctas</td>\n",
       "      <td>-0.783521</td>\n",
       "      <td>1.192929</td>\n",
       "      <td>0.813831</td>\n",
       "      <td>-0.368166</td>\n",
       "      <td>-1.113656</td>\n",
       "      <td>-0.553581</td>\n",
       "      <td>-0.683803</td>\n",
       "    </tr>\n",
       "    <tr>\n",
       "      <th>4</th>\n",
       "      <td>2018-07-27</td>\n",
       "      <td>intc</td>\n",
       "      <td>0.796507</td>\n",
       "      <td>0.455341</td>\n",
       "      <td>0.679032</td>\n",
       "      <td>0.354336</td>\n",
       "      <td>-1.799055</td>\n",
       "      <td>0.126153</td>\n",
       "      <td>0.297111</td>\n",
       "    </tr>\n",
       "  </tbody>\n",
       "</table>\n",
       "</div>"
      ],
      "text/plain": [
       "         date ticker       SF1       SF2       SF3       SF4       SF5  \\\n",
       "0  2018-07-21   intc -3.062194  1.223466  1.741714  2.279266 -1.323573   \n",
       "1  2018-10-05   ctsh  0.816263 -2.184408  0.157975 -0.264743 -0.836282   \n",
       "2  2018-10-01     cb  0.401281  0.091604  0.083411 -1.147041 -0.485223   \n",
       "3  2018-10-24   ctas -0.783521  1.192929  0.813831 -0.368166 -1.113656   \n",
       "4  2018-07-27   intc  0.796507  0.455341  0.679032  0.354336 -1.799055   \n",
       "\n",
       "        SF6       SF7  \n",
       "0 -0.274912 -4.504449  \n",
       "1  0.046276  0.826353  \n",
       "2 -0.601060  1.012811  \n",
       "3 -0.553581 -0.683803  \n",
       "4  0.126153  0.297111  "
      ]
     },
     "execution_count": 340,
     "metadata": {},
     "output_type": "execute_result"
    }
   ],
   "source": [
    "c_data.head()"
   ]
  },
  {
   "cell_type": "markdown",
   "metadata": {},
   "source": [
    "### GRAPHS FOR ALL STOCK FACTORS OF TEST DATA"
   ]
  },
  {
   "cell_type": "code",
   "execution_count": 381,
   "metadata": {},
   "outputs": [
    {
     "data": {
      "text/plain": [
       "Text(0.5, 1.0, 'Distribution of SF1')"
      ]
     },
     "execution_count": 381,
     "metadata": {},
     "output_type": "execute_result"
    },
    {
     "data": {
      "image/png": "[encoded data removed]",
      "text/plain": [
       "<Figure size 432x288 with 1 Axes>"
      ]
     },
     "metadata": {
      "needs_background": "light"
     },
     "output_type": "display_data"
    }
   ],
   "source": [
    "# graph for distribution of stock factor 1 \n",
    "hist(c_data.SF1, bins=30 , rwidth=.8)\n",
    "xlabel('Stock Factor')\n",
    "ylabel('frequency')\n",
    "title('Distribution of SF1')"
   ]
  },
  {
   "cell_type": "code",
   "execution_count": 382,
   "metadata": {},
   "outputs": [
    {
     "data": {
      "text/plain": [
       "Text(0.5, 1.0, 'Distribution of SF2')"
      ]
     },
     "execution_count": 382,
     "metadata": {},
     "output_type": "execute_result"
    },
    {
     "data": {
      "image/png": "[encoded data removed]",
      "text/plain": [
       "<Figure size 432x288 with 1 Axes>"
      ]
     },
     "metadata": {
      "needs_background": "light"
     },
     "output_type": "display_data"
    }
   ],
   "source": [
    "# graph for distribution of stock factor 2\n",
    "hist(c_data.SF2, bins=30 , rwidth=.8)\n",
    "xlabel('Stock Factor')\n",
    "ylabel('frequency')\n",
    "title('Distribution of SF2')"
   ]
  },
  {
   "cell_type": "code",
   "execution_count": 383,
   "metadata": {},
   "outputs": [
    {
     "data": {
      "text/plain": [
       "Text(0.5, 1.0, 'Distribution of SF3')"
      ]
     },
     "execution_count": 383,
     "metadata": {},
     "output_type": "execute_result"
    },
    {
     "data": {
      "image/png": "[encoded data removed]",
      "text/plain": [
       "<Figure size 432x288 with 1 Axes>"
      ]
     },
     "metadata": {
      "needs_background": "light"
     },
     "output_type": "display_data"
    }
   ],
   "source": [
    "#graph for distribution of stock factor 3\n",
    "hist(c_data.SF3, bins=30 , rwidth=.8)\n",
    "xlabel('Stock Factor')\n",
    "ylabel('frequency')\n",
    "title('Distribution of SF3')"
   ]
  },
  {
   "cell_type": "code",
   "execution_count": 384,
   "metadata": {},
   "outputs": [
    {
     "data": {
      "text/plain": [
       "Text(0.5, 1.0, 'Distribution of SF4')"
      ]
     },
     "execution_count": 384,
     "metadata": {},
     "output_type": "execute_result"
    },
    {
     "data": {
      "image/png": "[encoded data removed]",
      "text/plain": [
       "<Figure size 432x288 with 1 Axes>"
      ]
     },
     "metadata": {
      "needs_background": "light"
     },
     "output_type": "display_data"
    }
   ],
   "source": [
    "#graph for distribution of stock factor 4\n",
    "hist(c_data.SF4, bins=30 , rwidth=.8)\n",
    "xlabel('Stock Factor')\n",
    "ylabel('frequency')\n",
    "title('Distribution of SF4')"
   ]
  },
  {
   "cell_type": "code",
   "execution_count": 385,
   "metadata": {},
   "outputs": [
    {
     "data": {
      "text/plain": [
       "Text(0.5, 1.0, 'Distribution of SF5')"
      ]
     },
     "execution_count": 385,
     "metadata": {},
     "output_type": "execute_result"
    },
    {
     "data": {
      "image/png": "[encoded data removed]",
      "text/plain": [
       "<Figure size 432x288 with 1 Axes>"
      ]
     },
     "metadata": {
      "needs_background": "light"
     },
     "output_type": "display_data"
    }
   ],
   "source": [
    "# graph for distribution of stock factor 5\n",
    "hist(c_data.SF5, bins=30 , rwidth=.8)\n",
    "xlabel('Stock Factor')\n",
    "ylabel('frequency')\n",
    "title('Distribution of SF5')"
   ]
  },
  {
   "cell_type": "code",
   "execution_count": 386,
   "metadata": {},
   "outputs": [
    {
     "data": {
      "text/plain": [
       "Text(0.5, 1.0, 'Distribution of SF6')"
      ]
     },
     "execution_count": 386,
     "metadata": {},
     "output_type": "execute_result"
    },
    {
     "data": {
      "image/png": "[encoded data removed]",
      "text/plain": [
       "<Figure size 432x288 with 1 Axes>"
      ]
     },
     "metadata": {
      "needs_background": "light"
     },
     "output_type": "display_data"
    }
   ],
   "source": [
    "# graph for distribution of stock factor 6\n",
    "hist(c_data.SF6, bins=30 , rwidth=.8)\n",
    "xlabel('Stock Factor')\n",
    "ylabel('frequency')\n",
    "title('Distribution of SF6')"
   ]
  },
  {
   "cell_type": "code",
   "execution_count": 387,
   "metadata": {},
   "outputs": [
    {
     "data": {
      "text/plain": [
       "Text(0.5, 1.0, 'Distribution of SF7')"
      ]
     },
     "execution_count": 387,
     "metadata": {},
     "output_type": "execute_result"
    },
    {
     "data": {
      "image/png": "[encoded data removed]",
      "text/plain": [
       "<Figure size 432x288 with 1 Axes>"
      ]
     },
     "metadata": {
      "needs_background": "light"
     },
     "output_type": "display_data"
    }
   ],
   "source": [
    "# graph for distribution of stock factor 7\n",
    "hist(c_data.SF7, bins=30 , rwidth=.8)\n",
    "xlabel('Stock Factor')\n",
    "ylabel('frequency')\n",
    "title('Distribution of SF7')"
   ]
  },
  {
   "cell_type": "code",
   "execution_count": 341,
   "metadata": {},
   "outputs": [
    {
     "data": {
      "text/plain": [
       "date       object\n",
       "ticker     object\n",
       "SF1       float64\n",
       "SF2       float64\n",
       "SF3       float64\n",
       "SF4       float64\n",
       "SF5       float64\n",
       "SF6       float64\n",
       "SF7       float64\n",
       "alpha       int64\n",
       "dtype: object"
      ]
     },
     "execution_count": 341,
     "metadata": {},
     "output_type": "execute_result"
    }
   ],
   "source": [
    "# checking the datatypes of train data\n",
    "csv_data.dtypes"
   ]
  },
  {
   "cell_type": "code",
   "execution_count": 342,
   "metadata": {},
   "outputs": [
    {
     "data": {
      "text/plain": [
       "date       object\n",
       "ticker     object\n",
       "SF1       float64\n",
       "SF2       float64\n",
       "SF3       float64\n",
       "SF4       float64\n",
       "SF5       float64\n",
       "SF6       float64\n",
       "SF7       float64\n",
       "dtype: object"
      ]
     },
     "execution_count": 342,
     "metadata": {},
     "output_type": "execute_result"
    }
   ],
   "source": [
    "# checking the data types of test data \n",
    "c_data.dtypes"
   ]
  },
  {
   "cell_type": "code",
   "execution_count": 343,
   "metadata": {},
   "outputs": [],
   "source": [
    "# changing the datatype to datetime for train data\n",
    "import datetime as datetime\n",
    "csv_data['date']=pd.to_datetime(csv_data['date'])"
   ]
  },
  {
   "cell_type": "code",
   "execution_count": 344,
   "metadata": {},
   "outputs": [
    {
     "data": {
      "text/plain": [
       "date      datetime64[ns]\n",
       "ticker            object\n",
       "SF1              float64\n",
       "SF2              float64\n",
       "SF3              float64\n",
       "SF4              float64\n",
       "SF5              float64\n",
       "SF6              float64\n",
       "SF7              float64\n",
       "alpha              int64\n",
       "dtype: object"
      ]
     },
     "execution_count": 344,
     "metadata": {},
     "output_type": "execute_result"
    }
   ],
   "source": [
    "csv_data.dtypes"
   ]
  },
  {
   "cell_type": "code",
   "execution_count": 345,
   "metadata": {},
   "outputs": [],
   "source": [
    "# changing the datatype to datetime for test data\n",
    "import datetime as datetime\n",
    "c_data['date']=pd.to_datetime(c_data['date'])"
   ]
  },
  {
   "cell_type": "code",
   "execution_count": 346,
   "metadata": {},
   "outputs": [
    {
     "data": {
      "text/plain": [
       "date      datetime64[ns]\n",
       "ticker            object\n",
       "SF1              float64\n",
       "SF2              float64\n",
       "SF3              float64\n",
       "SF4              float64\n",
       "SF5              float64\n",
       "SF6              float64\n",
       "SF7              float64\n",
       "dtype: object"
      ]
     },
     "execution_count": 346,
     "metadata": {},
     "output_type": "execute_result"
    }
   ],
   "source": [
    "c_data.dtypes"
   ]
  },
  {
   "cell_type": "code",
   "execution_count": null,
   "metadata": {},
   "outputs": [],
   "source": []
  },
  {
   "cell_type": "markdown",
   "metadata": {},
   "source": [
    "# MERGING THE TRAIN JSON DATA WITH TRAIN CSV DATA"
   ]
  },
  {
   "cell_type": "code",
   "execution_count": 149,
   "metadata": {},
   "outputs": [],
   "source": [
    "merge = lasttrain[['date','ticker','Sc']].groupby(['date','ticker']).mean()"
   ]
  },
  {
   "cell_type": "code",
   "execution_count": 150,
   "metadata": {},
   "outputs": [
    {
     "data": {
      "text/html": [
       "<div>\n",
       "<style scoped>\n",
       "    .dataframe tbody tr th:only-of-type {\n",
       "        vertical-align: middle;\n",
       "    }\n",
       "\n",
       "    .dataframe tbody tr th {\n",
       "        vertical-align: top;\n",
       "    }\n",
       "\n",
       "    .dataframe thead th {\n",
       "        text-align: right;\n",
       "    }\n",
       "</style>\n",
       "<table border=\"1\" class=\"dataframe\">\n",
       "  <thead>\n",
       "    <tr style=\"text-align: right;\">\n",
       "      <th></th>\n",
       "      <th></th>\n",
       "      <th>Sc</th>\n",
       "    </tr>\n",
       "    <tr>\n",
       "      <th>date</th>\n",
       "      <th>ticker</th>\n",
       "      <th></th>\n",
       "    </tr>\n",
       "  </thead>\n",
       "  <tbody>\n",
       "    <tr>\n",
       "      <th rowspan=\"5\" valign=\"top\">2018-07-01</th>\n",
       "      <th>aaba</th>\n",
       "      <td>2.000000</td>\n",
       "    </tr>\n",
       "    <tr>\n",
       "      <th>aal</th>\n",
       "      <td>2.833333</td>\n",
       "    </tr>\n",
       "    <tr>\n",
       "      <th>aap</th>\n",
       "      <td>1.000000</td>\n",
       "    </tr>\n",
       "    <tr>\n",
       "      <th>aapl</th>\n",
       "      <td>2.121951</td>\n",
       "    </tr>\n",
       "    <tr>\n",
       "      <th>abbv</th>\n",
       "      <td>1.666667</td>\n",
       "    </tr>\n",
       "  </tbody>\n",
       "</table>\n",
       "</div>"
      ],
      "text/plain": [
       "                         Sc\n",
       "date       ticker          \n",
       "2018-07-01 aaba    2.000000\n",
       "           aal     2.833333\n",
       "           aap     1.000000\n",
       "           aapl    2.121951\n",
       "           abbv    1.666667"
      ]
     },
     "execution_count": 150,
     "metadata": {},
     "output_type": "execute_result"
    }
   ],
   "source": [
    "merge.head()"
   ]
  },
  {
   "cell_type": "code",
   "execution_count": 151,
   "metadata": {},
   "outputs": [],
   "source": [
    "merge.reset_index(level=['date','ticker'],inplace=True)"
   ]
  },
  {
   "cell_type": "code",
   "execution_count": 152,
   "metadata": {},
   "outputs": [
    {
     "data": {
      "text/html": [
       "<div>\n",
       "<style scoped>\n",
       "    .dataframe tbody tr th:only-of-type {\n",
       "        vertical-align: middle;\n",
       "    }\n",
       "\n",
       "    .dataframe tbody tr th {\n",
       "        vertical-align: top;\n",
       "    }\n",
       "\n",
       "    .dataframe thead th {\n",
       "        text-align: right;\n",
       "    }\n",
       "</style>\n",
       "<table border=\"1\" class=\"dataframe\">\n",
       "  <thead>\n",
       "    <tr style=\"text-align: right;\">\n",
       "      <th></th>\n",
       "      <th>date</th>\n",
       "      <th>ticker</th>\n",
       "      <th>Sc</th>\n",
       "    </tr>\n",
       "  </thead>\n",
       "  <tbody>\n",
       "    <tr>\n",
       "      <th>0</th>\n",
       "      <td>2018-07-01</td>\n",
       "      <td>aaba</td>\n",
       "      <td>2.000000</td>\n",
       "    </tr>\n",
       "    <tr>\n",
       "      <th>1</th>\n",
       "      <td>2018-07-01</td>\n",
       "      <td>aal</td>\n",
       "      <td>2.833333</td>\n",
       "    </tr>\n",
       "    <tr>\n",
       "      <th>2</th>\n",
       "      <td>2018-07-01</td>\n",
       "      <td>aap</td>\n",
       "      <td>1.000000</td>\n",
       "    </tr>\n",
       "    <tr>\n",
       "      <th>3</th>\n",
       "      <td>2018-07-01</td>\n",
       "      <td>aapl</td>\n",
       "      <td>2.121951</td>\n",
       "    </tr>\n",
       "    <tr>\n",
       "      <th>4</th>\n",
       "      <td>2018-07-01</td>\n",
       "      <td>abbv</td>\n",
       "      <td>1.666667</td>\n",
       "    </tr>\n",
       "  </tbody>\n",
       "</table>\n",
       "</div>"
      ],
      "text/plain": [
       "        date ticker        Sc\n",
       "0 2018-07-01   aaba  2.000000\n",
       "1 2018-07-01    aal  2.833333\n",
       "2 2018-07-01    aap  1.000000\n",
       "3 2018-07-01   aapl  2.121951\n",
       "4 2018-07-01   abbv  1.666667"
      ]
     },
     "execution_count": 152,
     "metadata": {},
     "output_type": "execute_result"
    }
   ],
   "source": [
    "merge.head()"
   ]
  },
  {
   "cell_type": "code",
   "execution_count": 153,
   "metadata": {},
   "outputs": [],
   "source": [
    "finaltrain = pd.merge(csv_data,merge,how='inner',left_on=['date','ticker'], right_on = ['date','ticker'])"
   ]
  },
  {
   "cell_type": "code",
   "execution_count": 154,
   "metadata": {},
   "outputs": [
    {
     "data": {
      "text/plain": [
       "(24839, 11)"
      ]
     },
     "execution_count": 154,
     "metadata": {},
     "output_type": "execute_result"
    }
   ],
   "source": [
    "finaltrain.shape"
   ]
  },
  {
   "cell_type": "code",
   "execution_count": 155,
   "metadata": {},
   "outputs": [
    {
     "data": {
      "text/plain": [
       "date      0\n",
       "ticker    0\n",
       "SF1       0\n",
       "SF2       0\n",
       "SF3       0\n",
       "SF4       0\n",
       "SF5       0\n",
       "SF6       0\n",
       "SF7       0\n",
       "alpha     0\n",
       "Sc        0\n",
       "dtype: int64"
      ]
     },
     "execution_count": 155,
     "metadata": {},
     "output_type": "execute_result"
    }
   ],
   "source": [
    "finaltrain.isna().sum()"
   ]
  },
  {
   "cell_type": "code",
   "execution_count": null,
   "metadata": {},
   "outputs": [],
   "source": []
  },
  {
   "cell_type": "markdown",
   "metadata": {},
   "source": [
    "# MERGING THE TEST JSON DATA WITH THE TEST CSV DATA"
   ]
  },
  {
   "cell_type": "code",
   "execution_count": 156,
   "metadata": {},
   "outputs": [],
   "source": [
    "merge1 = lasttest[['date','ticker','Sc']].groupby(['date','ticker']).mean()"
   ]
  },
  {
   "cell_type": "code",
   "execution_count": 157,
   "metadata": {},
   "outputs": [
    {
     "data": {
      "text/html": [
       "<div>\n",
       "<style scoped>\n",
       "    .dataframe tbody tr th:only-of-type {\n",
       "        vertical-align: middle;\n",
       "    }\n",
       "\n",
       "    .dataframe tbody tr th {\n",
       "        vertical-align: top;\n",
       "    }\n",
       "\n",
       "    .dataframe thead th {\n",
       "        text-align: right;\n",
       "    }\n",
       "</style>\n",
       "<table border=\"1\" class=\"dataframe\">\n",
       "  <thead>\n",
       "    <tr style=\"text-align: right;\">\n",
       "      <th></th>\n",
       "      <th></th>\n",
       "      <th>Sc</th>\n",
       "    </tr>\n",
       "    <tr>\n",
       "      <th>date</th>\n",
       "      <th>ticker</th>\n",
       "      <th></th>\n",
       "    </tr>\n",
       "  </thead>\n",
       "  <tbody>\n",
       "    <tr>\n",
       "      <th rowspan=\"5\" valign=\"top\">2018-07-01</th>\n",
       "      <th>aal</th>\n",
       "      <td>0.000000</td>\n",
       "    </tr>\n",
       "    <tr>\n",
       "      <th>aapl</th>\n",
       "      <td>2.272727</td>\n",
       "    </tr>\n",
       "    <tr>\n",
       "      <th>aep</th>\n",
       "      <td>2.000000</td>\n",
       "    </tr>\n",
       "    <tr>\n",
       "      <th>aes</th>\n",
       "      <td>3.000000</td>\n",
       "    </tr>\n",
       "    <tr>\n",
       "      <th>alxn</th>\n",
       "      <td>0.000000</td>\n",
       "    </tr>\n",
       "  </tbody>\n",
       "</table>\n",
       "</div>"
      ],
      "text/plain": [
       "                         Sc\n",
       "date       ticker          \n",
       "2018-07-01 aal     0.000000\n",
       "           aapl    2.272727\n",
       "           aep     2.000000\n",
       "           aes     3.000000\n",
       "           alxn    0.000000"
      ]
     },
     "execution_count": 157,
     "metadata": {},
     "output_type": "execute_result"
    }
   ],
   "source": [
    "merge1.head()"
   ]
  },
  {
   "cell_type": "code",
   "execution_count": 158,
   "metadata": {},
   "outputs": [],
   "source": [
    "merge1.reset_index(level=['date','ticker'],inplace=True)"
   ]
  },
  {
   "cell_type": "code",
   "execution_count": 159,
   "metadata": {},
   "outputs": [
    {
     "data": {
      "text/html": [
       "<div>\n",
       "<style scoped>\n",
       "    .dataframe tbody tr th:only-of-type {\n",
       "        vertical-align: middle;\n",
       "    }\n",
       "\n",
       "    .dataframe tbody tr th {\n",
       "        vertical-align: top;\n",
       "    }\n",
       "\n",
       "    .dataframe thead th {\n",
       "        text-align: right;\n",
       "    }\n",
       "</style>\n",
       "<table border=\"1\" class=\"dataframe\">\n",
       "  <thead>\n",
       "    <tr style=\"text-align: right;\">\n",
       "      <th></th>\n",
       "      <th>date</th>\n",
       "      <th>ticker</th>\n",
       "      <th>Sc</th>\n",
       "    </tr>\n",
       "  </thead>\n",
       "  <tbody>\n",
       "    <tr>\n",
       "      <th>0</th>\n",
       "      <td>2018-07-01</td>\n",
       "      <td>aal</td>\n",
       "      <td>0.000000</td>\n",
       "    </tr>\n",
       "    <tr>\n",
       "      <th>1</th>\n",
       "      <td>2018-07-01</td>\n",
       "      <td>aapl</td>\n",
       "      <td>2.272727</td>\n",
       "    </tr>\n",
       "    <tr>\n",
       "      <th>2</th>\n",
       "      <td>2018-07-01</td>\n",
       "      <td>aep</td>\n",
       "      <td>2.000000</td>\n",
       "    </tr>\n",
       "    <tr>\n",
       "      <th>3</th>\n",
       "      <td>2018-07-01</td>\n",
       "      <td>aes</td>\n",
       "      <td>3.000000</td>\n",
       "    </tr>\n",
       "    <tr>\n",
       "      <th>4</th>\n",
       "      <td>2018-07-01</td>\n",
       "      <td>alxn</td>\n",
       "      <td>0.000000</td>\n",
       "    </tr>\n",
       "  </tbody>\n",
       "</table>\n",
       "</div>"
      ],
      "text/plain": [
       "        date ticker        Sc\n",
       "0 2018-07-01    aal  0.000000\n",
       "1 2018-07-01   aapl  2.272727\n",
       "2 2018-07-01    aep  2.000000\n",
       "3 2018-07-01    aes  3.000000\n",
       "4 2018-07-01   alxn  0.000000"
      ]
     },
     "execution_count": 159,
     "metadata": {},
     "output_type": "execute_result"
    }
   ],
   "source": [
    "merge1.head()"
   ]
  },
  {
   "cell_type": "code",
   "execution_count": 160,
   "metadata": {},
   "outputs": [],
   "source": [
    "finaltest = pd.merge(c_data,merge1,how='left', left_on=['date','ticker'], right_on=['date','ticker'])"
   ]
  },
  {
   "cell_type": "code",
   "execution_count": 161,
   "metadata": {},
   "outputs": [
    {
     "data": {
      "text/plain": [
       "(11575, 10)"
      ]
     },
     "execution_count": 161,
     "metadata": {},
     "output_type": "execute_result"
    }
   ],
   "source": [
    "finaltest.shape"
   ]
  },
  {
   "cell_type": "code",
   "execution_count": 162,
   "metadata": {},
   "outputs": [
    {
     "data": {
      "text/plain": [
       "date      0\n",
       "ticker    0\n",
       "SF1       0\n",
       "SF2       0\n",
       "SF3       0\n",
       "SF4       0\n",
       "SF5       0\n",
       "SF6       0\n",
       "SF7       0\n",
       "Sc        0\n",
       "dtype: int64"
      ]
     },
     "execution_count": 162,
     "metadata": {},
     "output_type": "execute_result"
    }
   ],
   "source": [
    "finaltest.isna().sum()"
   ]
  },
  {
   "cell_type": "markdown",
   "metadata": {},
   "source": [
    "### FINAL MERGED TRAIN DATA "
   ]
  },
  {
   "cell_type": "code",
   "execution_count": 163,
   "metadata": {},
   "outputs": [
    {
     "data": {
      "text/html": [
       "<div>\n",
       "<style scoped>\n",
       "    .dataframe tbody tr th:only-of-type {\n",
       "        vertical-align: middle;\n",
       "    }\n",
       "\n",
       "    .dataframe tbody tr th {\n",
       "        vertical-align: top;\n",
       "    }\n",
       "\n",
       "    .dataframe thead th {\n",
       "        text-align: right;\n",
       "    }\n",
       "</style>\n",
       "<table border=\"1\" class=\"dataframe\">\n",
       "  <thead>\n",
       "    <tr style=\"text-align: right;\">\n",
       "      <th></th>\n",
       "      <th>date</th>\n",
       "      <th>ticker</th>\n",
       "      <th>SF1</th>\n",
       "      <th>SF2</th>\n",
       "      <th>SF3</th>\n",
       "      <th>SF4</th>\n",
       "      <th>SF5</th>\n",
       "      <th>SF6</th>\n",
       "      <th>SF7</th>\n",
       "      <th>alpha</th>\n",
       "      <th>Sc</th>\n",
       "    </tr>\n",
       "  </thead>\n",
       "  <tbody>\n",
       "    <tr>\n",
       "      <th>0</th>\n",
       "      <td>2018-08-21</td>\n",
       "      <td>ntap</td>\n",
       "      <td>-0.628652</td>\n",
       "      <td>0.988891</td>\n",
       "      <td>-0.055714</td>\n",
       "      <td>0.774379</td>\n",
       "      <td>0.551089</td>\n",
       "      <td>-1.329229</td>\n",
       "      <td>-0.995539</td>\n",
       "      <td>2</td>\n",
       "      <td>2.000000</td>\n",
       "    </tr>\n",
       "    <tr>\n",
       "      <th>1</th>\n",
       "      <td>2018-10-11</td>\n",
       "      <td>wynn</td>\n",
       "      <td>1.315786</td>\n",
       "      <td>1.438754</td>\n",
       "      <td>0.187327</td>\n",
       "      <td>0.608933</td>\n",
       "      <td>-1.153030</td>\n",
       "      <td>1.859441</td>\n",
       "      <td>0.730995</td>\n",
       "      <td>3</td>\n",
       "      <td>2.000000</td>\n",
       "    </tr>\n",
       "    <tr>\n",
       "      <th>2</th>\n",
       "      <td>2018-08-21</td>\n",
       "      <td>dri</td>\n",
       "      <td>-1.141388</td>\n",
       "      <td>-1.455016</td>\n",
       "      <td>0.332755</td>\n",
       "      <td>0.674502</td>\n",
       "      <td>0.111326</td>\n",
       "      <td>-0.478597</td>\n",
       "      <td>-1.488157</td>\n",
       "      <td>1</td>\n",
       "      <td>1.666667</td>\n",
       "    </tr>\n",
       "    <tr>\n",
       "      <th>3</th>\n",
       "      <td>2018-07-10</td>\n",
       "      <td>ge</td>\n",
       "      <td>-0.054839</td>\n",
       "      <td>-1.454149</td>\n",
       "      <td>-0.162267</td>\n",
       "      <td>-0.681870</td>\n",
       "      <td>0.307869</td>\n",
       "      <td>-0.529987</td>\n",
       "      <td>0.404172</td>\n",
       "      <td>2</td>\n",
       "      <td>2.301587</td>\n",
       "    </tr>\n",
       "    <tr>\n",
       "      <th>4</th>\n",
       "      <td>2018-07-10</td>\n",
       "      <td>ge</td>\n",
       "      <td>0.394782</td>\n",
       "      <td>-0.532809</td>\n",
       "      <td>0.539375</td>\n",
       "      <td>1.934485</td>\n",
       "      <td>-1.177355</td>\n",
       "      <td>1.519912</td>\n",
       "      <td>-0.959793</td>\n",
       "      <td>3</td>\n",
       "      <td>2.301587</td>\n",
       "    </tr>\n",
       "  </tbody>\n",
       "</table>\n",
       "</div>"
      ],
      "text/plain": [
       "        date ticker       SF1       SF2       SF3       SF4       SF5  \\\n",
       "0 2018-08-21   ntap -0.628652  0.988891 -0.055714  0.774379  0.551089   \n",
       "1 2018-10-11   wynn  1.315786  1.438754  0.187327  0.608933 -1.153030   \n",
       "2 2018-08-21    dri -1.141388 -1.455016  0.332755  0.674502  0.111326   \n",
       "3 2018-07-10     ge -0.054839 -1.454149 -0.162267 -0.681870  0.307869   \n",
       "4 2018-07-10     ge  0.394782 -0.532809  0.539375  1.934485 -1.177355   \n",
       "\n",
       "        SF6       SF7  alpha        Sc  \n",
       "0 -1.329229 -0.995539      2  2.000000  \n",
       "1  1.859441  0.730995      3  2.000000  \n",
       "2 -0.478597 -1.488157      1  1.666667  \n",
       "3 -0.529987  0.404172      2  2.301587  \n",
       "4  1.519912 -0.959793      3  2.301587  "
      ]
     },
     "execution_count": 163,
     "metadata": {},
     "output_type": "execute_result"
    }
   ],
   "source": [
    "finaltrain.head()"
   ]
  },
  {
   "cell_type": "code",
   "execution_count": 401,
   "metadata": {},
   "outputs": [
    {
     "data": {
      "text/plain": [
       "<matplotlib.axes._subplots.AxesSubplot at 0x26a08680c50>"
      ]
     },
     "execution_count": 401,
     "metadata": {},
     "output_type": "execute_result"
    },
    {
     "data": {
      "image/png": "[encoded data removed]",
      "text/plain": [
       "<Figure size 720x576 with 2 Axes>"
      ]
     },
     "metadata": {
      "needs_background": "light"
     },
     "output_type": "display_data"
    }
   ],
   "source": [
    "temp=finaltrain.corr()\n",
    "fig = plt.figure(figsize=(10,8))\n",
    "sns.heatmap(temp,annot=True, cmap ='Blues_r')"
   ]
  },
  {
   "cell_type": "markdown",
   "metadata": {},
   "source": [
    "### FINAL MERGED TEST DATA"
   ]
  },
  {
   "cell_type": "code",
   "execution_count": 164,
   "metadata": {},
   "outputs": [
    {
     "data": {
      "text/html": [
       "<div>\n",
       "<style scoped>\n",
       "    .dataframe tbody tr th:only-of-type {\n",
       "        vertical-align: middle;\n",
       "    }\n",
       "\n",
       "    .dataframe tbody tr th {\n",
       "        vertical-align: top;\n",
       "    }\n",
       "\n",
       "    .dataframe thead th {\n",
       "        text-align: right;\n",
       "    }\n",
       "</style>\n",
       "<table border=\"1\" class=\"dataframe\">\n",
       "  <thead>\n",
       "    <tr style=\"text-align: right;\">\n",
       "      <th></th>\n",
       "      <th>date</th>\n",
       "      <th>ticker</th>\n",
       "      <th>SF1</th>\n",
       "      <th>SF2</th>\n",
       "      <th>SF3</th>\n",
       "      <th>SF4</th>\n",
       "      <th>SF5</th>\n",
       "      <th>SF6</th>\n",
       "      <th>SF7</th>\n",
       "      <th>Sc</th>\n",
       "    </tr>\n",
       "  </thead>\n",
       "  <tbody>\n",
       "    <tr>\n",
       "      <th>0</th>\n",
       "      <td>2018-07-21</td>\n",
       "      <td>intc</td>\n",
       "      <td>-3.062194</td>\n",
       "      <td>1.223466</td>\n",
       "      <td>1.741714</td>\n",
       "      <td>2.279266</td>\n",
       "      <td>-1.323573</td>\n",
       "      <td>-0.274912</td>\n",
       "      <td>-4.504449</td>\n",
       "      <td>3.000000</td>\n",
       "    </tr>\n",
       "    <tr>\n",
       "      <th>1</th>\n",
       "      <td>2018-10-05</td>\n",
       "      <td>ctsh</td>\n",
       "      <td>0.816263</td>\n",
       "      <td>-2.184408</td>\n",
       "      <td>0.157975</td>\n",
       "      <td>-0.264743</td>\n",
       "      <td>-0.836282</td>\n",
       "      <td>0.046276</td>\n",
       "      <td>0.826353</td>\n",
       "      <td>3.000000</td>\n",
       "    </tr>\n",
       "    <tr>\n",
       "      <th>2</th>\n",
       "      <td>2018-10-01</td>\n",
       "      <td>cb</td>\n",
       "      <td>0.401281</td>\n",
       "      <td>0.091604</td>\n",
       "      <td>0.083411</td>\n",
       "      <td>-1.147041</td>\n",
       "      <td>-0.485223</td>\n",
       "      <td>-0.601060</td>\n",
       "      <td>1.012811</td>\n",
       "      <td>2.000000</td>\n",
       "    </tr>\n",
       "    <tr>\n",
       "      <th>3</th>\n",
       "      <td>2018-10-24</td>\n",
       "      <td>ctas</td>\n",
       "      <td>-0.783521</td>\n",
       "      <td>1.192929</td>\n",
       "      <td>0.813831</td>\n",
       "      <td>-0.368166</td>\n",
       "      <td>-1.113656</td>\n",
       "      <td>-0.553581</td>\n",
       "      <td>-0.683803</td>\n",
       "      <td>2.500000</td>\n",
       "    </tr>\n",
       "    <tr>\n",
       "      <th>4</th>\n",
       "      <td>2018-07-27</td>\n",
       "      <td>intc</td>\n",
       "      <td>0.796507</td>\n",
       "      <td>0.455341</td>\n",
       "      <td>0.679032</td>\n",
       "      <td>0.354336</td>\n",
       "      <td>-1.799055</td>\n",
       "      <td>0.126153</td>\n",
       "      <td>0.297111</td>\n",
       "      <td>2.333333</td>\n",
       "    </tr>\n",
       "  </tbody>\n",
       "</table>\n",
       "</div>"
      ],
      "text/plain": [
       "        date ticker       SF1       SF2       SF3       SF4       SF5  \\\n",
       "0 2018-07-21   intc -3.062194  1.223466  1.741714  2.279266 -1.323573   \n",
       "1 2018-10-05   ctsh  0.816263 -2.184408  0.157975 -0.264743 -0.836282   \n",
       "2 2018-10-01     cb  0.401281  0.091604  0.083411 -1.147041 -0.485223   \n",
       "3 2018-10-24   ctas -0.783521  1.192929  0.813831 -0.368166 -1.113656   \n",
       "4 2018-07-27   intc  0.796507  0.455341  0.679032  0.354336 -1.799055   \n",
       "\n",
       "        SF6       SF7        Sc  \n",
       "0 -0.274912 -4.504449  3.000000  \n",
       "1  0.046276  0.826353  3.000000  \n",
       "2 -0.601060  1.012811  2.000000  \n",
       "3 -0.553581 -0.683803  2.500000  \n",
       "4  0.126153  0.297111  2.333333  "
      ]
     },
     "execution_count": 164,
     "metadata": {},
     "output_type": "execute_result"
    }
   ],
   "source": [
    "finaltest.head()"
   ]
  },
  {
   "cell_type": "code",
   "execution_count": 395,
   "metadata": {},
   "outputs": [
    {
     "data": {
      "text/plain": [
       "<matplotlib.axes._subplots.AxesSubplot at 0x26a0a1f7470>"
      ]
     },
     "execution_count": 395,
     "metadata": {},
     "output_type": "execute_result"
    },
    {
     "data": {
      "image/png": "[encoded data removed]",
      "text/plain": [
       "<Figure size 720x576 with 2 Axes>"
      ]
     },
     "metadata": {
      "needs_background": "light"
     },
     "output_type": "display_data"
    }
   ],
   "source": [
    "temp=finaltest.corr()\n",
    "fig = plt.figure(figsize=(10,8))\n",
    "sns.heatmap(temp,annot=True, cmap ='coolwarm')"
   ]
  },
  {
   "cell_type": "markdown",
   "metadata": {},
   "source": [
    "### TRAIN AND TEST SPLIT"
   ]
  },
  {
   "cell_type": "code",
   "execution_count": 347,
   "metadata": {},
   "outputs": [],
   "source": [
    "from sklearn.model_selection import train_test_split \n",
    "x=finaltrain.copy().drop([\"alpha\",\"ticker\",\"date\"],axis=1)\n",
    "y=finaltrain[\"alpha\"]\n",
    "x_train1, x_validation1, y_train1, y_validation1 = train_test_split(x,y,test_size=0.3,random_state=123)"
   ]
  },
  {
   "cell_type": "code",
   "execution_count": 348,
   "metadata": {},
   "outputs": [
    {
     "data": {
      "text/plain": [
       "(17387, 8)"
      ]
     },
     "execution_count": 348,
     "metadata": {},
     "output_type": "execute_result"
    }
   ],
   "source": [
    "x_train1.shape"
   ]
  },
  {
   "cell_type": "code",
   "execution_count": 349,
   "metadata": {},
   "outputs": [
    {
     "data": {
      "text/plain": [
       "(17387,)"
      ]
     },
     "execution_count": 349,
     "metadata": {},
     "output_type": "execute_result"
    }
   ],
   "source": [
    " y_train1.shape"
   ]
  },
  {
   "cell_type": "code",
   "execution_count": 350,
   "metadata": {},
   "outputs": [
    {
     "data": {
      "text/plain": [
       "(7452, 8)"
      ]
     },
     "execution_count": 350,
     "metadata": {},
     "output_type": "execute_result"
    }
   ],
   "source": [
    "x_validation1.shape"
   ]
  },
  {
   "cell_type": "code",
   "execution_count": 351,
   "metadata": {},
   "outputs": [
    {
     "data": {
      "text/plain": [
       "(7452,)"
      ]
     },
     "execution_count": 351,
     "metadata": {},
     "output_type": "execute_result"
    }
   ],
   "source": [
    "y_validation1.shape"
   ]
  },
  {
   "cell_type": "markdown",
   "metadata": {},
   "source": [
    "### MODEL BUILDING "
   ]
  },
  {
   "cell_type": "markdown",
   "metadata": {},
   "source": [
    "#### MULTI LAYER PERCEPTRON (MLP CLASSIFIER)"
   ]
  },
  {
   "cell_type": "code",
   "execution_count": 352,
   "metadata": {},
   "outputs": [
    {
     "name": "stderr",
     "output_type": "stream",
     "text": [
      "C:\\Users\\Vyshnavi\\Anaconda3\\lib\\site-packages\\sklearn\\neural_network\\multilayer_perceptron.py:566: ConvergenceWarning: Stochastic Optimizer: Maximum iterations (200) reached and the optimization hasn't converged yet.\n",
      "  % self.max_iter, ConvergenceWarning)\n"
     ]
    },
    {
     "name": "stdout",
     "output_type": "stream",
     "text": [
      "              precision    recall  f1-score   support\n",
      "\n",
      "           1       0.70      0.61      0.65      3385\n",
      "           2       0.86      0.96      0.91      6908\n",
      "           3       0.67      0.62      0.64      3842\n",
      "           4       0.72      0.71      0.72      3252\n",
      "\n",
      "    accuracy                           0.77     17387\n",
      "   macro avg       0.74      0.72      0.73     17387\n",
      "weighted avg       0.76      0.77      0.76     17387\n",
      "\n",
      "              precision    recall  f1-score   support\n",
      "\n",
      "           1       0.69      0.57      0.63      1486\n",
      "           2       0.86      0.96      0.91      3021\n",
      "           3       0.66      0.62      0.64      1557\n",
      "           4       0.72      0.72      0.72      1388\n",
      "\n",
      "    accuracy                           0.77      7452\n",
      "   macro avg       0.74      0.72      0.73      7452\n",
      "weighted avg       0.76      0.77      0.76      7452\n",
      "\n",
      "Train Accuracy is  0.7689653189164318\n",
      "Test Accuracy is  0.7697262479871175\n"
     ]
    }
   ],
   "source": [
    "from sklearn.neural_network import MLPClassifier\n",
    "mlpmodel1= MLPClassifier(activation='relu',batch_size=22,random_state=1234,hidden_layer_sizes=(50,))\n",
    "mlpmodel1.fit(x_train1,y_train1)\n",
    "\n",
    "from sklearn.metrics import accuracy_score,classification_report\n",
    "sklearn_mlp_train_preds1 = mlpmodel1.predict(x_train1)\n",
    "sklearn_mlp_validation_preds1 = mlpmodel1.predict(x_validation1)\n",
    "\n",
    "print(classification_report(y_train1,sklearn_mlp_train_preds1))\n",
    "print(classification_report(y_validation1,sklearn_mlp_validation_preds1))\n",
    "\n",
    "print(\"Train Accuracy is \",accuracy_score(y_train1,sklearn_mlp_train_preds1))\n",
    "print(\"Test Accuracy is \",accuracy_score(y_validation1,sklearn_mlp_validation_preds1))\n",
    "\n"
   ]
  },
  {
   "cell_type": "code",
   "execution_count": 353,
   "metadata": {},
   "outputs": [
    {
     "name": "stdout",
     "output_type": "stream",
     "text": [
      "Requirement already satisfied: mlxtend in c:\\users\\vyshnavi\\anaconda3\\lib\\site-packages (0.17.0)\n",
      "Requirement already satisfied: matplotlib>=3.0.0 in c:\\users\\vyshnavi\\anaconda3\\lib\\site-packages (from mlxtend) (3.1.0)\n",
      "Requirement already satisfied: numpy>=1.16.2 in c:\\users\\vyshnavi\\anaconda3\\lib\\site-packages (from mlxtend) (1.16.4)\n",
      "Requirement already satisfied: joblib>=0.13.2 in c:\\users\\vyshnavi\\anaconda3\\lib\\site-packages (from mlxtend) (0.13.2)\n",
      "Requirement already satisfied: scipy>=1.2.1 in c:\\users\\vyshnavi\\anaconda3\\lib\\site-packages (from mlxtend) (1.2.1)\n",
      "Requirement already satisfied: pandas>=0.24.2 in c:\\users\\vyshnavi\\anaconda3\\lib\\site-packages (from mlxtend) (0.24.2)\n",
      "Requirement already satisfied: setuptools in c:\\users\\vyshnavi\\anaconda3\\lib\\site-packages (from mlxtend) (41.0.1)\n",
      "Requirement already satisfied: scikit-learn>=0.20.3 in c:\\users\\vyshnavi\\anaconda3\\lib\\site-packages (from mlxtend) (0.21.2)\n",
      "Requirement already satisfied: cycler>=0.10 in c:\\users\\vyshnavi\\anaconda3\\lib\\site-packages (from matplotlib>=3.0.0->mlxtend) (0.10.0)\n",
      "Requirement already satisfied: kiwisolver>=1.0.1 in c:\\users\\vyshnavi\\anaconda3\\lib\\site-packages (from matplotlib>=3.0.0->mlxtend) (1.1.0)\n",
      "Requirement already satisfied: pyparsing!=2.0.4,!=2.1.2,!=2.1.6,>=2.0.1 in c:\\users\\vyshnavi\\anaconda3\\lib\\site-packages (from matplotlib>=3.0.0->mlxtend) (2.4.0)\n",
      "Requirement already satisfied: python-dateutil>=2.1 in c:\\users\\vyshnavi\\anaconda3\\lib\\site-packages (from matplotlib>=3.0.0->mlxtend) (2.8.0)\n",
      "Requirement already satisfied: pytz>=2011k in c:\\users\\vyshnavi\\anaconda3\\lib\\site-packages (from pandas>=0.24.2->mlxtend) (2019.1)\n",
      "Requirement already satisfied: six in c:\\users\\vyshnavi\\anaconda3\\lib\\site-packages (from cycler>=0.10->matplotlib>=3.0.0->mlxtend) (1.12.0)\n"
     ]
    },
    {
     "name": "stderr",
     "output_type": "stream",
     "text": [
      "C:\\Users\\Vyshnavi\\Anaconda3\\lib\\site-packages\\sklearn\\neural_network\\multilayer_perceptron.py:566: ConvergenceWarning: Stochastic Optimizer: Maximum iterations (200) reached and the optimization hasn't converged yet.\n",
      "  % self.max_iter, ConvergenceWarning)\n",
      "C:\\Users\\Vyshnavi\\Anaconda3\\lib\\site-packages\\sklearn\\neural_network\\multilayer_perceptron.py:566: ConvergenceWarning: Stochastic Optimizer: Maximum iterations (200) reached and the optimization hasn't converged yet.\n",
      "  % self.max_iter, ConvergenceWarning)\n",
      "C:\\Users\\Vyshnavi\\Anaconda3\\lib\\site-packages\\sklearn\\neural_network\\multilayer_perceptron.py:566: ConvergenceWarning: Stochastic Optimizer: Maximum iterations (200) reached and the optimization hasn't converged yet.\n",
      "  % self.max_iter, ConvergenceWarning)\n",
      "C:\\Users\\Vyshnavi\\Anaconda3\\lib\\site-packages\\sklearn\\neural_network\\multilayer_perceptron.py:566: ConvergenceWarning: Stochastic Optimizer: Maximum iterations (200) reached and the optimization hasn't converged yet.\n",
      "  % self.max_iter, ConvergenceWarning)\n",
      "C:\\Users\\Vyshnavi\\Anaconda3\\lib\\site-packages\\sklearn\\neural_network\\multilayer_perceptron.py:566: ConvergenceWarning: Stochastic Optimizer: Maximum iterations (200) reached and the optimization hasn't converged yet.\n",
      "  % self.max_iter, ConvergenceWarning)\n",
      "C:\\Users\\Vyshnavi\\Anaconda3\\lib\\site-packages\\sklearn\\neural_network\\multilayer_perceptron.py:566: ConvergenceWarning: Stochastic Optimizer: Maximum iterations (200) reached and the optimization hasn't converged yet.\n",
      "  % self.max_iter, ConvergenceWarning)\n",
      "C:\\Users\\Vyshnavi\\Anaconda3\\lib\\site-packages\\sklearn\\neural_network\\multilayer_perceptron.py:566: ConvergenceWarning: Stochastic Optimizer: Maximum iterations (200) reached and the optimization hasn't converged yet.\n",
      "  % self.max_iter, ConvergenceWarning)\n",
      "C:\\Users\\Vyshnavi\\Anaconda3\\lib\\site-packages\\sklearn\\neural_network\\multilayer_perceptron.py:566: ConvergenceWarning: Stochastic Optimizer: Maximum iterations (200) reached and the optimization hasn't converged yet.\n",
      "  % self.max_iter, ConvergenceWarning)\n",
      "C:\\Users\\Vyshnavi\\Anaconda3\\lib\\site-packages\\sklearn\\neural_network\\multilayer_perceptron.py:566: ConvergenceWarning: Stochastic Optimizer: Maximum iterations (200) reached and the optimization hasn't converged yet.\n",
      "  % self.max_iter, ConvergenceWarning)\n",
      "C:\\Users\\Vyshnavi\\Anaconda3\\lib\\site-packages\\sklearn\\neural_network\\multilayer_perceptron.py:566: ConvergenceWarning: Stochastic Optimizer: Maximum iterations (200) reached and the optimization hasn't converged yet.\n",
      "  % self.max_iter, ConvergenceWarning)\n"
     ]
    },
    {
     "data": {
      "text/plain": [
       "([0.2571921749136939,\n",
       "  0.25625539257981017,\n",
       "  0.24424846625766872,\n",
       "  0.24805867126833478,\n",
       "  0.24732543425744852,\n",
       "  0.23734662576687116,\n",
       "  0.24067378800328676,\n",
       "  0.2337335538140772,\n",
       "  0.23268149284253578,\n",
       "  0.23103468108356817],\n",
       " [0.30381105743424586,\n",
       "  0.2745571658615137,\n",
       "  0.2532206119162641,\n",
       "  0.24396135265700483,\n",
       "  0.24208266237251744,\n",
       "  0.24020397208803007,\n",
       "  0.24100912506709607,\n",
       "  0.23255501878690285,\n",
       "  0.2349704777241009,\n",
       "  0.23027375201288244])"
      ]
     },
     "execution_count": 353,
     "metadata": {},
     "output_type": "execute_result"
    },
    {
     "data": {
      "image/png": "[encoded data removed]",
      "text/plain": [
       "<Figure size 432x288 with 1 Axes>"
      ]
     },
     "metadata": {},
     "output_type": "display_data"
    }
   ],
   "source": [
    "!pip install mlxtend\n",
    "\n",
    "from mlxtend.plotting import plot_learning_curves\n",
    "plot_learning_curves(x_train1, y_train1, x_validation1, y_validation1,mlpmodel1 )"
   ]
  },
  {
   "cell_type": "code",
   "execution_count": null,
   "metadata": {},
   "outputs": [],
   "source": []
  },
  {
   "cell_type": "code",
   "execution_count": 354,
   "metadata": {},
   "outputs": [],
   "source": [
    " # denoting the final test data to df variable after dropping date and ticker coloumn\n",
    "df=finaltest.drop([\"date\",\"ticker\"],axis=1)"
   ]
  },
  {
   "cell_type": "code",
   "execution_count": 355,
   "metadata": {},
   "outputs": [
    {
     "data": {
      "text/html": [
       "<div>\n",
       "<style scoped>\n",
       "    .dataframe tbody tr th:only-of-type {\n",
       "        vertical-align: middle;\n",
       "    }\n",
       "\n",
       "    .dataframe tbody tr th {\n",
       "        vertical-align: top;\n",
       "    }\n",
       "\n",
       "    .dataframe thead th {\n",
       "        text-align: right;\n",
       "    }\n",
       "</style>\n",
       "<table border=\"1\" class=\"dataframe\">\n",
       "  <thead>\n",
       "    <tr style=\"text-align: right;\">\n",
       "      <th></th>\n",
       "      <th>SF1</th>\n",
       "      <th>SF2</th>\n",
       "      <th>SF3</th>\n",
       "      <th>SF4</th>\n",
       "      <th>SF5</th>\n",
       "      <th>SF6</th>\n",
       "      <th>SF7</th>\n",
       "      <th>Sc</th>\n",
       "    </tr>\n",
       "  </thead>\n",
       "  <tbody>\n",
       "    <tr>\n",
       "      <th>0</th>\n",
       "      <td>-3.062194</td>\n",
       "      <td>1.223466</td>\n",
       "      <td>1.741714</td>\n",
       "      <td>2.279266</td>\n",
       "      <td>-1.323573</td>\n",
       "      <td>-0.274912</td>\n",
       "      <td>-4.504449</td>\n",
       "      <td>3.000000</td>\n",
       "    </tr>\n",
       "    <tr>\n",
       "      <th>1</th>\n",
       "      <td>0.816263</td>\n",
       "      <td>-2.184408</td>\n",
       "      <td>0.157975</td>\n",
       "      <td>-0.264743</td>\n",
       "      <td>-0.836282</td>\n",
       "      <td>0.046276</td>\n",
       "      <td>0.826353</td>\n",
       "      <td>3.000000</td>\n",
       "    </tr>\n",
       "    <tr>\n",
       "      <th>2</th>\n",
       "      <td>0.401281</td>\n",
       "      <td>0.091604</td>\n",
       "      <td>0.083411</td>\n",
       "      <td>-1.147041</td>\n",
       "      <td>-0.485223</td>\n",
       "      <td>-0.601060</td>\n",
       "      <td>1.012811</td>\n",
       "      <td>2.000000</td>\n",
       "    </tr>\n",
       "    <tr>\n",
       "      <th>3</th>\n",
       "      <td>-0.783521</td>\n",
       "      <td>1.192929</td>\n",
       "      <td>0.813831</td>\n",
       "      <td>-0.368166</td>\n",
       "      <td>-1.113656</td>\n",
       "      <td>-0.553581</td>\n",
       "      <td>-0.683803</td>\n",
       "      <td>2.500000</td>\n",
       "    </tr>\n",
       "    <tr>\n",
       "      <th>4</th>\n",
       "      <td>0.796507</td>\n",
       "      <td>0.455341</td>\n",
       "      <td>0.679032</td>\n",
       "      <td>0.354336</td>\n",
       "      <td>-1.799055</td>\n",
       "      <td>0.126153</td>\n",
       "      <td>0.297111</td>\n",
       "      <td>2.333333</td>\n",
       "    </tr>\n",
       "  </tbody>\n",
       "</table>\n",
       "</div>"
      ],
      "text/plain": [
       "        SF1       SF2       SF3       SF4       SF5       SF6       SF7  \\\n",
       "0 -3.062194  1.223466  1.741714  2.279266 -1.323573 -0.274912 -4.504449   \n",
       "1  0.816263 -2.184408  0.157975 -0.264743 -0.836282  0.046276  0.826353   \n",
       "2  0.401281  0.091604  0.083411 -1.147041 -0.485223 -0.601060  1.012811   \n",
       "3 -0.783521  1.192929  0.813831 -0.368166 -1.113656 -0.553581 -0.683803   \n",
       "4  0.796507  0.455341  0.679032  0.354336 -1.799055  0.126153  0.297111   \n",
       "\n",
       "         Sc  \n",
       "0  3.000000  \n",
       "1  3.000000  \n",
       "2  2.000000  \n",
       "3  2.500000  \n",
       "4  2.333333  "
      ]
     },
     "execution_count": 355,
     "metadata": {},
     "output_type": "execute_result"
    }
   ],
   "source": [
    "df.head()"
   ]
  },
  {
   "cell_type": "markdown",
   "metadata": {},
   "source": [
    "#### PREDICTING THE MODEL"
   ]
  },
  {
   "cell_type": "code",
   "execution_count": 356,
   "metadata": {},
   "outputs": [],
   "source": [
    "predict1 = mlpmodel1.predict(df)"
   ]
  },
  {
   "cell_type": "code",
   "execution_count": 357,
   "metadata": {},
   "outputs": [
    {
     "data": {
      "text/plain": [
       "array([4, 4, 2, ..., 4, 2, 2], dtype=int64)"
      ]
     },
     "execution_count": 357,
     "metadata": {},
     "output_type": "execute_result"
    }
   ],
   "source": [
    "predict1"
   ]
  },
  {
   "cell_type": "markdown",
   "metadata": {},
   "source": [
    "#### SUBMISSION FILE"
   ]
  },
  {
   "cell_type": "code",
   "execution_count": 358,
   "metadata": {},
   "outputs": [
    {
     "name": "stderr",
     "output_type": "stream",
     "text": [
      "C:\\Users\\Vyshnavi\\Anaconda3\\lib\\site-packages\\ipykernel_launcher.py:4: SettingWithCopyWarning: \n",
      "A value is trying to be set on a copy of a slice from a DataFrame.\n",
      "Try using .loc[row_indexer,col_indexer] = value instead\n",
      "\n",
      "See the caveats in the documentation: http://pandas.pydata.org/pandas-docs/stable/indexing.html#indexing-view-versus-copy\n",
      "  after removing the cwd from sys.path.\n"
     ]
    }
   ],
   "source": [
    "# converting the \n",
    "predictions2_df= pd.DataFrame()\n",
    "predictions2_df=Id1\n",
    "predictions2_df[\"alpha\"]=pd.Series(predict1)"
   ]
  },
  {
   "cell_type": "code",
   "execution_count": 359,
   "metadata": {},
   "outputs": [],
   "source": [
    "predictions2_df.to_csv('final_sub18.csv',index=False)"
   ]
  },
  {
   "cell_type": "code",
   "execution_count": 360,
   "metadata": {},
   "outputs": [
    {
     "data": {
      "text/html": [
       "<div>\n",
       "<style scoped>\n",
       "    .dataframe tbody tr th:only-of-type {\n",
       "        vertical-align: middle;\n",
       "    }\n",
       "\n",
       "    .dataframe tbody tr th {\n",
       "        vertical-align: top;\n",
       "    }\n",
       "\n",
       "    .dataframe thead th {\n",
       "        text-align: right;\n",
       "    }\n",
       "</style>\n",
       "<table border=\"1\" class=\"dataframe\">\n",
       "  <thead>\n",
       "    <tr style=\"text-align: right;\">\n",
       "      <th></th>\n",
       "      <th>Id</th>\n",
       "      <th>alpha</th>\n",
       "    </tr>\n",
       "  </thead>\n",
       "  <tbody>\n",
       "    <tr>\n",
       "      <th>0</th>\n",
       "      <td>270007</td>\n",
       "      <td>4</td>\n",
       "    </tr>\n",
       "    <tr>\n",
       "      <th>1</th>\n",
       "      <td>270008</td>\n",
       "      <td>4</td>\n",
       "    </tr>\n",
       "    <tr>\n",
       "      <th>2</th>\n",
       "      <td>270009</td>\n",
       "      <td>2</td>\n",
       "    </tr>\n",
       "    <tr>\n",
       "      <th>3</th>\n",
       "      <td>270010</td>\n",
       "      <td>1</td>\n",
       "    </tr>\n",
       "    <tr>\n",
       "      <th>4</th>\n",
       "      <td>270011</td>\n",
       "      <td>4</td>\n",
       "    </tr>\n",
       "  </tbody>\n",
       "</table>\n",
       "</div>"
      ],
      "text/plain": [
       "       Id  alpha\n",
       "0  270007      4\n",
       "1  270008      4\n",
       "2  270009      2\n",
       "3  270010      1\n",
       "4  270011      4"
      ]
     },
     "execution_count": 360,
     "metadata": {},
     "output_type": "execute_result"
    }
   ],
   "source": [
    "predictions2_df.head()"
   ]
  },
  {
   "cell_type": "code",
   "execution_count": 361,
   "metadata": {},
   "outputs": [
    {
     "data": {
      "text/plain": [
       "2    5233\n",
       "4    2263\n",
       "1    2177\n",
       "3    1902\n",
       "Name: alpha, dtype: int64"
      ]
     },
     "execution_count": 361,
     "metadata": {},
     "output_type": "execute_result"
    }
   ],
   "source": [
    "predictions2_df['alpha'].value_counts()"
   ]
  },
  {
   "cell_type": "code",
   "execution_count": null,
   "metadata": {},
   "outputs": [],
   "source": []
  }
 ],
 "metadata": {
  "kernelspec": {
   "display_name": "Python 3",
   "language": "python",
   "name": "python3"
  },
  "language_info": {
   "codemirror_mode": {
    "name": "ipython",
    "version": 3
   },
   "file_extension": ".py",
   "mimetype": "text/x-python",
   "name": "python",
   "nbconvert_exporter": "python",
   "pygments_lexer": "ipython3",
   "version": "3.7.3"
  }
 },
 "nbformat": 4,
 "nbformat_minor": 2
}
